{
 "cells": [
  {
   "cell_type": "markdown",
   "metadata": {},
   "source": [
    "# An introduction to document embeddings\n",
    "\n",
    "Natural Language Processing is a very useful field in the realm of Data Science. It can help you understand large corpora, and leverage decisions from it.\n",
    "\n",
    "In this workshop we'll try to introduce you to the basics of NLP, in particular document embeddings. This notebook is meant to be an initial approach to the subject, and if everything works well, we expect you to be curious enough to continue with the challenges we propose at the end.\n",
    "\n",
    "The question we'll be trying to answer in this workshop is _Can we use document embeddings to understand large corpora?_\n",
    "\n",
    "We assume that for this workshop you have already set-up your environment to be able to work with this notebook, and know how to code in Python. If you have not set up properly the environment, or do not know what is a Jupyter Notebook, we suggest you take a look [here](https://github.com/bbc/datalab-ml-training).\n",
    "\n",
    "_____"
   ]
  },
  {
   "cell_type": "markdown",
   "metadata": {},
   "source": [
    "Let's first load some libraries that we will use throughtout this notebook. There is no need to know all of them at this stage. We'll go into more details when we'll need them."
   ]
  },
  {
   "cell_type": "code",
   "execution_count": 1,
   "metadata": {},
   "outputs": [
    {
     "name": "stderr",
     "output_type": "stream",
     "text": [
      "[nltk_data] Downloading package wordnet to\n",
      "[nltk_data]     /Users/tavard01/nltk_data...\n",
      "[nltk_data]   Package wordnet is already up-to-date!\n",
      "[nltk_data] Downloading package stopwords to\n",
      "[nltk_data]     /Users/tavard01/nltk_data...\n",
      "[nltk_data]   Package stopwords is already up-to-date!\n"
     ]
    },
    {
     "data": {
      "text/plain": [
       "True"
      ]
     },
     "execution_count": 1,
     "metadata": {},
     "output_type": "execute_result"
    }
   ],
   "source": [
    "import gensim\n",
    "import nltk\n",
    "import numpy as np\n",
    "import matplotlib.pyplot as plt\n",
    "import os\n",
    "import pandas as pd\n",
    "import re\n",
    "import seaborn as sns\n",
    "import sys\n",
    "\n",
    "from gensim.models.doc2vec import TaggedDocument\n",
    "from utils.load import TextFiles\n",
    "from matplotlib.colors import ListedColormap\n",
    "from nltk.stem import PorterStemmer\n",
    "from nltk.stem import LancasterStemmer\n",
    "from nltk.stem import WordNetLemmatizer\n",
    "from nltk.tokenize import RegexpTokenizer\n",
    "from nltk.corpus import stopwords\n",
    "from numpy.random import randint\n",
    "\n",
    "nltk.download('wordnet')\n",
    "nltk.download('stopwords')"
   ]
  },
  {
   "cell_type": "markdown",
   "metadata": {},
   "source": [
    "## BBC Dataset\n",
    "\n",
    "In this workshop we will be using the [BBC Dataset](http://mlg.ucd.ie/datasets/bbc.html): a public set of 2,225 labeled articles originated from BBC News, from 2004 to 2005, that can be used for machine learning research. The articles are divided in five categories:\n",
    "- Business\n",
    "- Entertainment\n",
    "- Politics\n",
    "- Sport\n",
    "- Tech\n",
    "\n",
    "We'll start our analysis from the [raw files from the BBC Dataset](http://mlg.ucd.ie/files/datasets/bbc-fulltext.zip). You can find the files in the `bbc_news` folder.\n",
    "\n",
    "### What does an article look like?\n",
    "Let's start by looking at one article, to try and understand how the files look like. Here the first business article."
   ]
  },
  {
   "cell_type": "code",
   "execution_count": 2,
   "metadata": {},
   "outputs": [
    {
     "data": {
      "text/plain": [
       "'Ad sales boost Time Warner profit\\n\\nQuarterly profits at US media giant TimeWarner jumped 76% to $1.13bn (£600m) for the three months to December, from $639m year-earlier.\\n\\nThe firm, which is now one of the biggest investors in Google, benefited from sales of high-speed internet connections and higher advert sales. TimeWarner said fourth quarter sales rose 2% to $11.1bn from $10.9bn. Its profits were buoyed by one-off gains which offset a profit dip at Warner Bros, and less users for AOL.\\n\\nTime Warner said on Friday that it now owns 8% of search-engine Google. But its own internet business, AOL, had has mixed fortunes. It lost 464,000 subscribers in the fourth quarter profits were lower than in the preceding three quarters. However, the company said AOL\\'s underlying profit before exceptional items rose 8% on the back of stronger internet advertising revenues. It hopes to increase subscribers by offering the online service free to TimeWarner internet customers and will try to sign up AOL\\'s existing customers for high-speed broadband. TimeWarner also has to restate 2000 and 2003 results following a probe by the US Securities Exchange Commission (SEC), which is close to concluding.\\n\\nTime Warner\\'s fourth quarter profits were slightly better than analysts\\' expectations. But its film division saw profits slump 27% to $284m, helped by box-office flops Alexander and Catwoman, a sharp contrast to year-earlier, when the third and final film in the Lord of the Rings trilogy boosted results. For the full-year, TimeWarner posted a profit of $3.36bn, up 27% from its 2003 performance, while revenues grew 6.4% to $42.09bn. \"Our financial performance was strong, meeting or exceeding all of our full-year objectives and greatly enhancing our flexibility,\" chairman and chief executive Richard Parsons said. For 2005, TimeWarner is projecting operating earnings growth of around 5%, and also expects higher revenue and wider profit margins.\\n\\nTimeWarner is to restate its accounts as part of efforts to resolve an inquiry into AOL by US market regulators. It has already offered to pay $300m to settle charges, in a deal that is under review by the SEC. The company said it was unable to estimate the amount it needed to set aside for legal reserves, which it previously set at $500m. It intends to adjust the way it accounts for a deal with German music publisher Bertelsmann\\'s purchase of a stake in AOL Europe, which it had reported as advertising revenue. It will now book the sale of its stake in AOL Europe as a loss on the value of that stake.\\n'"
      ]
     },
     "execution_count": 2,
     "metadata": {},
     "output_type": "execute_result"
    }
   ],
   "source": [
    "with open('bbc_news/business/001.txt', 'r') as fp:\n",
    "    raw_data = fp.read()\n",
    "\n",
    "raw_data"
   ]
  },
  {
   "cell_type": "markdown",
   "metadata": {},
   "source": [
    "As you can see, the file is well structured. We have a headline (or title) in the first line, followed by the article text below, where each paragraph is separated by two new line delimiters (`\\n`).\n",
    "\n",
    "In your DS career, you'll probably deal with text data way less cleaner than this dataset. In this case, you'll have to pre-process the original file, in order to get to a similar state.\n",
    "\n",
    "### Let's now load all the files\n",
    "For our example, the articles fit inside our memory, and we can create a function to load them all: `read_files_from_folder` navigates inside the folder tree, and returns a list of all raw texts."
   ]
  },
  {
   "cell_type": "code",
   "execution_count": 3,
   "metadata": {},
   "outputs": [
    {
     "ename": "UnicodeDecodeError",
     "evalue": "'utf-8' codec can't decode byte 0xa3 in position 257: invalid start byte",
     "output_type": "error",
     "traceback": [
      "\u001b[0;31m-----------------------------------------------------------------------\u001b[0m",
      "\u001b[0;31mUnicodeDecodeError\u001b[0m                    Traceback (most recent call last)",
      "\u001b[0;32m<ipython-input-3-56fa850f8eba>\u001b[0m in \u001b[0;36m<module>\u001b[0;34m\u001b[0m\n\u001b[1;32m      9\u001b[0m     \u001b[0;32mreturn\u001b[0m \u001b[0mcontents\u001b[0m\u001b[0;34m\u001b[0m\u001b[0m\n\u001b[1;32m     10\u001b[0m \u001b[0;34m\u001b[0m\u001b[0m\n\u001b[0;32m---> 11\u001b[0;31m \u001b[0mraw_contents\u001b[0m \u001b[0;34m=\u001b[0m \u001b[0mread_files_from_folder\u001b[0m\u001b[0;34m(\u001b[0m\u001b[0;34m'bbc_news'\u001b[0m\u001b[0;34m)\u001b[0m\u001b[0;34m\u001b[0m\u001b[0m\n\u001b[0m",
      "\u001b[0;32m<ipython-input-3-56fa850f8eba>\u001b[0m in \u001b[0;36mread_files_from_folder\u001b[0;34m(root_folder)\u001b[0m\n\u001b[1;32m      6\u001b[0m                 \u001b[0mfile_path\u001b[0m \u001b[0;34m=\u001b[0m \u001b[0mos\u001b[0m\u001b[0;34m.\u001b[0m\u001b[0mpath\u001b[0m\u001b[0;34m.\u001b[0m\u001b[0mjoin\u001b[0m\u001b[0;34m(\u001b[0m\u001b[0mroot\u001b[0m\u001b[0;34m,\u001b[0m \u001b[0mfile_name\u001b[0m\u001b[0;34m)\u001b[0m\u001b[0;34m\u001b[0m\u001b[0m\n\u001b[1;32m      7\u001b[0m                 \u001b[0;32mwith\u001b[0m \u001b[0mopen\u001b[0m\u001b[0;34m(\u001b[0m\u001b[0mfile_path\u001b[0m\u001b[0;34m,\u001b[0m \u001b[0;34m'r'\u001b[0m\u001b[0;34m)\u001b[0m \u001b[0;32mas\u001b[0m \u001b[0mfp\u001b[0m\u001b[0;34m:\u001b[0m\u001b[0;34m\u001b[0m\u001b[0m\n\u001b[0;32m----> 8\u001b[0;31m                     \u001b[0mcontents\u001b[0m\u001b[0;34m.\u001b[0m\u001b[0mappend\u001b[0m\u001b[0;34m(\u001b[0m\u001b[0mfp\u001b[0m\u001b[0;34m.\u001b[0m\u001b[0mread\u001b[0m\u001b[0;34m(\u001b[0m\u001b[0;34m)\u001b[0m\u001b[0;34m)\u001b[0m\u001b[0;34m\u001b[0m\u001b[0m\n\u001b[0m\u001b[1;32m      9\u001b[0m     \u001b[0;32mreturn\u001b[0m \u001b[0mcontents\u001b[0m\u001b[0;34m\u001b[0m\u001b[0m\n\u001b[1;32m     10\u001b[0m \u001b[0;34m\u001b[0m\u001b[0m\n",
      "\u001b[0;32m~/.pyenv/versions/3.6.6/lib/python3.6/codecs.py\u001b[0m in \u001b[0;36mdecode\u001b[0;34m(self, input, final)\u001b[0m\n\u001b[1;32m    319\u001b[0m         \u001b[0;31m# decode input (taking the buffer into account)\u001b[0m\u001b[0;34m\u001b[0m\u001b[0;34m\u001b[0m\u001b[0m\n\u001b[1;32m    320\u001b[0m         \u001b[0mdata\u001b[0m \u001b[0;34m=\u001b[0m \u001b[0mself\u001b[0m\u001b[0;34m.\u001b[0m\u001b[0mbuffer\u001b[0m \u001b[0;34m+\u001b[0m \u001b[0minput\u001b[0m\u001b[0;34m\u001b[0m\u001b[0m\n\u001b[0;32m--> 321\u001b[0;31m         \u001b[0;34m(\u001b[0m\u001b[0mresult\u001b[0m\u001b[0;34m,\u001b[0m \u001b[0mconsumed\u001b[0m\u001b[0;34m)\u001b[0m \u001b[0;34m=\u001b[0m \u001b[0mself\u001b[0m\u001b[0;34m.\u001b[0m\u001b[0m_buffer_decode\u001b[0m\u001b[0;34m(\u001b[0m\u001b[0mdata\u001b[0m\u001b[0;34m,\u001b[0m \u001b[0mself\u001b[0m\u001b[0;34m.\u001b[0m\u001b[0merrors\u001b[0m\u001b[0;34m,\u001b[0m \u001b[0mfinal\u001b[0m\u001b[0;34m)\u001b[0m\u001b[0;34m\u001b[0m\u001b[0m\n\u001b[0m\u001b[1;32m    322\u001b[0m         \u001b[0;31m# keep undecoded input until the next call\u001b[0m\u001b[0;34m\u001b[0m\u001b[0;34m\u001b[0m\u001b[0m\n\u001b[1;32m    323\u001b[0m         \u001b[0mself\u001b[0m\u001b[0;34m.\u001b[0m\u001b[0mbuffer\u001b[0m \u001b[0;34m=\u001b[0m \u001b[0mdata\u001b[0m\u001b[0;34m[\u001b[0m\u001b[0mconsumed\u001b[0m\u001b[0;34m:\u001b[0m\u001b[0;34m]\u001b[0m\u001b[0;34m\u001b[0m\u001b[0m\n",
      "\u001b[0;31mUnicodeDecodeError\u001b[0m: 'utf-8' codec can't decode byte 0xa3 in position 257: invalid start byte"
     ]
    }
   ],
   "source": [
    "def read_files_from_folder(root_folder):\n",
    "    contents = []\n",
    "    for root, folder, file_names in os.walk(root_folder):\n",
    "        for file_name in file_names:\n",
    "            if file_name.endswith('.txt'):\n",
    "                file_path = os.path.join(root, file_name)\n",
    "                with open(file_path, 'r') as fp:\n",
    "                    contents.append(fp.read())\n",
    "    return contents\n",
    "\n",
    "raw_contents = read_files_from_folder('bbc_news')"
   ]
  },
  {
   "cell_type": "markdown",
   "metadata": {},
   "source": [
    "**ERROR!**\n",
    "\n",
    "What happened there? There are some files that were not encoded using 'UTF-8', so whenever we try to load them, we face a 'UnicodeDecodeError'. The best thing to do is to fix those files at creation, but sometimes that's not an option.\n",
    "\n",
    "There's a trick, that works most of the time: using chardet to detect the file encoding. _BUT use with caution._\n",
    "\n",
    "To make this workshop a bit faster, we've built a small class named `TextFiles` to deal with this issue and load the text files in memory. We'll use a function that also returns along with the raw text, the category of the article: output corpus being a list of dictionaries with the article (key `raw_content`) and the category (key `category_1`).\n",
    "\n",
    "To tailor to our needs, we've also added the possibility to blacklist some files when creating our corpus (parameter `ignored_files` that takes a list of file names).\n",
    "\n",
    "Have a look it the /lib folder if you want to see how it is built. And if you like this idea, we invite you to read how [Spark](https://spark.apache.org/docs/latest/) handles this, with the function [textFile](https://spark.apache.org/docs/latest/api/python/pyspark.html?highlight=textfile#pyspark.SparkContext.textFile)."
   ]
  },
  {
   "cell_type": "code",
   "execution_count": 4,
   "metadata": {},
   "outputs": [],
   "source": [
    "raw_data = TextFiles().read_folder_with_categories('bbc_news')"
   ]
  },
  {
   "cell_type": "code",
   "execution_count": 5,
   "metadata": {},
   "outputs": [
    {
     "data": {
      "text/plain": [
       "{'raw_content': 'Dollar drops on reserves concerns\\n\\nThe US dollar has dropped against major currencies on concerns that central banks may cut the amount of dollars they hold in their foreign reserves.\\n\\nComments by South Korea\\'s central bank at the end of last week have sparked the recent round of dollar declines. South Korea, which has about $200bn in foreign reserves, said it plans instead to boost holdings of currencies such as the Australian and Canadian dollar. Analysts reckon that other nations may follow suit and now ditch the dollar. At 1300 GMT, the euro was up 0.9% on the day at 1.3187 euros per US dollar. The British pound had added 0.5% to break through the $1.90 level, while the dollar had fallen by 1.3% against the Japanese yen to trade at 104.16 yen.\\n\\nAt the start of the year, the US currency, which had lost 7% against the euro in the final three months of 2004 and had fallen to record lows, staged something of a recovery.\\n\\nAnalysts, however, pointed to the dollar\\'s inability recently to extend that rally despite positive economic and corporate data, and highlighted the fact that many of the US\\'s economic problems had not disappeared. The focus once again has been on the country\\'s massive trade and budget deficits, with predictions of more dollar weakness to come. \"The comments from Korea came at a time when sentiment towards the dollar was already softening,\" said Ian Gunner, a trader at Mellon Financial. On Tuesday, traders in Asia said that both South Korea and Taiwan had withdrawn their bids to buy dollars at the start of the session. Mansoor Mohi-Uddin, chief currency strategist at UBS, said that there was a sentiment in the market that \"central banks from Asia and the Middle East are buying euros\". A report last month already showed that the dollar was losing its allure as a currency that offered rock-steady returns and stability. Compiled by Central Banking Publications and sponsored by the UK\\'s Royal Bank of Scotland, the survey found 39 nations out of 65 questioned were increasing their euro holdings, with 29 cutting back on the US dollar.\\n',\n",
       " 'category_1': 'business'}"
      ]
     },
     "execution_count": 5,
     "metadata": {},
     "output_type": "execute_result"
    }
   ],
   "source": [
    "raw_data[randint(0, len(raw_data))]"
   ]
  },
  {
   "cell_type": "markdown",
   "metadata": {},
   "source": [
    "### Dataset exploration\n",
    "Now that we have loaded all our articles, let's get some basic statistics. It's important to get a good overview of the data we are dealing with as it will drive us in the right direction for the processing, for the algorithms to consider etc. For example, we might need different models when dealing with tweets versus large documents.\n",
    "\n",
    "Let's try to answer some of the following questions:\n",
    "- Is our Dataset balanced? How many documents do we have per category?\n",
    "- Are some files empty?\n",
    "- Are there any duplicates?\n",
    "- How many words are usually used? And paragraphs? And lines?\n",
    "- What about the headline? How long are they?"
   ]
  },
  {
   "cell_type": "markdown",
   "metadata": {},
   "source": [
    "#### Number of documents per category\n",
    "How many articles do we have per category? If the distribution is unbalanced, and we are working on a classification problem, it might be needed to undersample some of them."
   ]
  },
  {
   "cell_type": "code",
   "execution_count": 6,
   "metadata": {},
   "outputs": [],
   "source": [
    "categories = ['business', 'entertainment', 'politics', 'sport', 'tech']\n",
    "folder = 'bbc_news'"
   ]
  },
  {
   "cell_type": "code",
   "execution_count": 7,
   "metadata": {},
   "outputs": [
    {
     "data": {
      "text/plain": [
       "Text(0.5, 1.0, 'Number of documents per category on BBC News dataset\\nPeriod: 2004-2005')"
      ]
     },
     "execution_count": 7,
     "metadata": {},
     "output_type": "execute_result"
    },
    {
     "data": {
      "image/png": "[encoded data removed]",
      "text/plain": [
       "<Figure size 432x288 with 1 Axes>"
      ]
     },
     "metadata": {},
     "output_type": "display_data"
    }
   ],
   "source": [
    "n_doc_per_category = pd.DataFrame({'category': categories})\n",
    "n_doc_per_category['n_doc'] = n_doc_per_category.category.apply(\n",
    "    lambda category: len(os.listdir(os.path.join(folder, category)))\n",
    ")\n",
    "\n",
    "sns.set(style='whitegrid')\n",
    "sns.barplot(n_doc_per_category.category, n_doc_per_category.n_doc, palette='Blues_d')\n",
    "plt.ylabel('Number of documents', fontsize=12)\n",
    "plt.xlabel('Category', fontsize=12)\n",
    "plt.title('Number of documents per category on BBC News dataset\\nPeriod: 2004-2005')"
   ]
  },
  {
   "cell_type": "markdown",
   "metadata": {},
   "source": [
    "The categories seem to be balanced. Yay!\n",
    "\n",
    "#### Empty files and small articles\n",
    "Let's check if we have any empty files in our dataset, or files that are very small. If we have any, we should remove them and that something we should handle when loading the files, i.e. in the `TextFiles` class."
   ]
  },
  {
   "cell_type": "code",
   "execution_count": 8,
   "metadata": {},
   "outputs": [
    {
     "name": "stdout",
     "output_type": "stream",
     "text": [
      "No small articles for the current dataset.\n"
     ]
    }
   ],
   "source": [
    "def get_small_articles(raw_data, min_number_of_words=10):\n",
    "    return [elnt for elnt in raw_data if len(elnt['raw_content']) < min_number_of_words]\n",
    "\n",
    "small_articles = get_small_articles(raw_data)\n",
    "\n",
    "if len(small_articles) > 0:\n",
    "    print(f\"We have unusual small articles ({len(small_articles)} in total).\")\n",
    "else:\n",
    "    print(\"No small articles for the current dataset.\")"
   ]
  },
  {
   "cell_type": "markdown",
   "metadata": {},
   "source": [
    "That's good to know, at least there are no empty files in this dataset.\n",
    "\n",
    "#### Duplicates\n",
    "We need to get rid of the duplicates as they are not giving us extra information. The definition of similarity or duplication can be discussed, here we consider only exact duplicates."
   ]
  },
  {
   "cell_type": "code",
   "execution_count": 9,
   "metadata": {},
   "outputs": [
    {
     "name": "stdout",
     "output_type": "stream",
     "text": [
      "We have 98 duplicates in our dataset.\n"
     ]
    }
   ],
   "source": [
    "uniques = set([elnt['raw_content'] for elnt in raw_data])\n",
    "if len(uniques) is not len(raw_data):\n",
    "    print(f\"We have {len(raw_data) - len(uniques)} duplicates in our dataset.\")\n",
    "else:\n",
    "    print(\"All documents are unique.\")"
   ]
  },
  {
   "cell_type": "markdown",
   "metadata": {},
   "source": [
    "Let's check now how many duplicates we have per category, as it can impact the balance of the corpus."
   ]
  },
  {
   "cell_type": "code",
   "execution_count": 10,
   "metadata": {},
   "outputs": [],
   "source": [
    "# Returns the unique and duplicates counts for each category\n",
    "def get_counts(raw_data_df, category):\n",
    "    category_df = raw_data_df[raw_data_df['category_1']==category]\n",
    "    count_total = len(category_df)\n",
    "    count_unique = len(category_df.raw_content.unique())\n",
    "    count_duplicates = count_total - count_unique\n",
    "    return {'category': category, 'uniques': count_unique, 'duplicates': count_duplicates}\n",
    "\n",
    "raw_data_df = pd.DataFrame.from_records(raw_data)\n",
    "duplicates_by_category = [get_counts(raw_data_df, category) for category in categories]\n",
    "\n",
    "duplicates_by_category_df = pd.DataFrame(duplicates_by_category)"
   ]
  },
  {
   "cell_type": "code",
   "execution_count": 11,
   "metadata": {},
   "outputs": [
    {
     "data": {
      "text/plain": [
       "Text(0.5, 1.0, 'Number of documents per category break down by duplicates\\n on BBC News dataset\\nPeriod: 2004-2005')"
      ]
     },
     "execution_count": 11,
     "metadata": {},
     "output_type": "execute_result"
    },
    {
     "data": {
      "image/png": "[encoded data removed]",
      "text/plain": [
       "<Figure size 432x288 with 1 Axes>"
      ]
     },
     "metadata": {},
     "output_type": "display_data"
    }
   ],
   "source": [
    "sns.set(style='whitegrid')\n",
    "duplicates_by_category_df.set_index('category').plot(kind='bar', stacked=True,\n",
    "                                                     colormap=ListedColormap(sns.color_palette(\"Blues_d\", 2)))\n",
    "plt.ylabel('Number of documents', fontsize=12)\n",
    "plt.xlabel('Category', fontsize=12)\n",
    "plt.title('Number of documents per category break down by duplicates\\n on BBC News dataset\\nPeriod: 2004-2005')"
   ]
  },
  {
   "cell_type": "markdown",
   "metadata": {},
   "source": [
    "It seems the majority of the duplicates are in tech. If we train a classification model based on this dataset, we might need to balance our corpus.\n",
    "\n",
    "Let's keep that in mind for the rest of our work.\n",
    "\n",
    "### Data processing\n",
    "When dealing with text data, we usually apply few transformations. First, we don't work with the raw text but with tokens. Also we usually remove stopwords, and we consider only the root of the works: which can be done by stemming, or lemmatization.\n",
    "\n",
    "Finally, some work could be done to replace things like numbers, names, locations, organisations with known tokens. If we have a robust embedding model, it shouldn't matter if the person we're talking about is Theresa May, or Madonna: the context should tell us what the document is about.\n",
    "\n",
    "We'll keep this for later iterations.\n",
    "\n",
    "#### Stemming or Lemmatization?\n",
    "Stemming and Lemmatization both generate the root form of the inflected words. The difference is that stem might not be an actual word whereas, lemma is an actual language word. This is easier for interpretation.\n",
    "\n",
    "Stemming follows an algorithm with steps to perform on the words which makes it faster. Whereas, in lemmatization, a WordNet corpus is used, which makes it slower than the stemming process. To obtain the correct lemma, you also have to define the concept in which you want to lemmatize, or so called \"parts-of-speech\".\n",
    "\n",
    "For a good introduction for both concepts, see [here](https://www.datacamp.com/community/tutorials/stemming-lemmatization-python).\n",
    "\n",
    "Let's now try out these concepts with a concrete example."
   ]
  },
  {
   "cell_type": "code",
   "execution_count": 12,
   "metadata": {},
   "outputs": [],
   "source": [
    "tokenizer = RegexpTokenizer(r'\\w+')\n",
    "stop_words = set(stopwords.words('english'))\n",
    "porter_stemmer = PorterStemmer()\n",
    "lancaster_stemmer = LancasterStemmer()\n",
    "wordnet_lemmatizer = WordNetLemmatizer()"
   ]
  },
  {
   "cell_type": "code",
   "execution_count": 13,
   "metadata": {},
   "outputs": [],
   "source": [
    "ex_raw_text = \"TimeWarner is to restate its accounts as part of efforts to resolve \\\n",
    "an inquiry into AOL by US market regulators. It has already offered to pay $300m to \\\n",
    "settle charges, in a deal that is under review by the SEC. The company said it was \\\n",
    "unable to estimate the amount it needed to set aside for legal reserves, which it \\\n",
    "previously set at $500m. It intends to adjust the way it accounts for a deal with \\\n",
    "German music publisher Bertelsmann's purchase of a stake in AOL Europe, which it had \\\n",
    "reported as advertising revenue. It will now book the sale of its stake in AOL Europe \\\n",
    "as a loss on the value of that stake.\""
   ]
  },
  {
   "cell_type": "code",
   "execution_count": 14,
   "metadata": {},
   "outputs": [
    {
     "data": {
      "text/plain": [
       "['timewarner',\n",
       " 'is',\n",
       " 'to',\n",
       " 'restate',\n",
       " 'its',\n",
       " 'accounts',\n",
       " 'as',\n",
       " 'part',\n",
       " 'of',\n",
       " 'efforts']"
      ]
     },
     "execution_count": 14,
     "metadata": {},
     "output_type": "execute_result"
    }
   ],
   "source": [
    "tokens = tokenizer.tokenize(ex_raw_text.lower())\n",
    "tokens[:10]"
   ]
  },
  {
   "cell_type": "code",
   "execution_count": 15,
   "metadata": {},
   "outputs": [
    {
     "data": {
      "text/plain": [
       "['timewarner',\n",
       " 'restate',\n",
       " 'accounts',\n",
       " 'part',\n",
       " 'efforts',\n",
       " 'resolve',\n",
       " 'inquiry',\n",
       " 'aol',\n",
       " 'us',\n",
       " 'market']"
      ]
     },
     "execution_count": 15,
     "metadata": {},
     "output_type": "execute_result"
    }
   ],
   "source": [
    "tokens_no_stop_words = filter(lambda t: t not in stop_words, tokens)\n",
    "list(tokens_no_stop_words)[:10]"
   ]
  },
  {
   "cell_type": "code",
   "execution_count": 16,
   "metadata": {},
   "outputs": [
    {
     "name": "stdout",
     "output_type": "stream",
     "text": [
      "Word                Porter Stemmer      Lancaster Stemmer   Lemmatizer          Lemm pos=v          \n",
      "timewarner          timewarn            timewarn            timewarner          timewarner          \n",
      "restate             restat              rest                restate             restate             \n",
      "accounts            account             account             account             account             \n",
      "part                part                part                part                part                \n",
      "efforts             effort              effort              effort              efforts             \n",
      "resolve             resolv              resolv              resolve             resolve             \n",
      "inquiry             inquiri             inquiry             inquiry             inquiry             \n",
      "aol                 aol                 aol                 aol                 aol                 \n",
      "us                  us                  us                  u                   us                  \n",
      "market              market              market              market              market              \n",
      "regulators          regul               reg                 regulator           regulators          \n"
     ]
    }
   ],
   "source": [
    "word_list = filter(lambda t: t not in stop_words, tokens[:20])\n",
    "print(\"{0:20}{1:20}{2:20}{3:20}{4:20}\".format(\"Word\", \"Porter Stemmer\",\n",
    "                                              \"Lancaster Stemmer\", \"Lemmatizer\",\n",
    "                                              \"Lemm pos=v\"))\n",
    "for word in word_list:\n",
    "    print(\"{0:20}{1:20}{2:20}{3:20}{4:20}\".format(\n",
    "        word,\n",
    "        porter_stemmer.stem(word),\n",
    "        lancaster_stemmer.stem(word),\n",
    "        wordnet_lemmatizer.lemmatize(word),\n",
    "        wordnet_lemmatizer.lemmatize(word, pos=\"v\") \n",
    "    ))"
   ]
  },
  {
   "cell_type": "markdown",
   "metadata": {},
   "source": [
    "Now let's apply these transformation to our corpus. We'll start by using the Porter Stemmer to get the root of each word. In order to apply easily different transformations, we recommend to use Pipelines (an example of how to build a transformation is under `utils/preprocessing.py`, and you can plug that into a [Pipeline object](https://scikit-learn.org/stable/modules/generated/sklearn.pipeline.Pipeline.html))."
   ]
  },
  {
   "cell_type": "code",
   "execution_count": 17,
   "metadata": {},
   "outputs": [],
   "source": [
    "def process_text(raw_content):\n",
    "    raw_content_lowercase = raw_content.lower()\n",
    "    tokens = tokenizer.tokenize(raw_content_lowercase)\n",
    "    tokens_no_stop_words = filter(lambda t: t not in stop_words, tokens)\n",
    "    token_stem = map(lambda t: porter_stemmer.stem(t), tokens_no_stop_words)\n",
    "    token_non_empty = filter(lambda t: len(t) > 1, token_stem)\n",
    "    return token_non_empty"
   ]
  },
  {
   "cell_type": "code",
   "execution_count": 18,
   "metadata": {},
   "outputs": [],
   "source": [
    "for article in raw_data:\n",
    "    article['tokens'] = process_text(article['raw_content'])"
   ]
  },
  {
   "cell_type": "code",
   "execution_count": 19,
   "metadata": {},
   "outputs": [
    {
     "name": "stdout",
     "output_type": "stream",
     "text": [
      "{'raw_content': 'Ad sales boost Time Warner profit\\n\\nQuarterly profits at US media giant TimeWarner jumped 76% to $1.13bn (£600m) for the three months to December, from $639m year-earlier.\\n\\nThe firm, which is now one of the biggest investors in Google, benefited from sales of high-speed internet connections and higher advert sales. TimeWarner said fourth quarter sales rose 2% to $11.1bn from $10.9bn. Its profits were buoyed by one-off gains which offset a profit dip at Warner Bros, and less users for AOL.\\n\\nTime Warner said on Friday that it now owns 8% of search-engine Google. But its own internet business, AOL, had has mixed fortunes. It lost 464,000 subscribers in the fourth quarter profits were lower than in the preceding three quarters. However, the company said AOL\\'s underlying profit before exceptional items rose 8% on the back of stronger internet advertising revenues. It hopes to increase subscribers by offering the online service free to TimeWarner internet customers and will try to sign up AOL\\'s existing customers for high-speed broadband. TimeWarner also has to restate 2000 and 2003 results following a probe by the US Securities Exchange Commission (SEC), which is close to concluding.\\n\\nTime Warner\\'s fourth quarter profits were slightly better than analysts\\' expectations. But its film division saw profits slump 27% to $284m, helped by box-office flops Alexander and Catwoman, a sharp contrast to year-earlier, when the third and final film in the Lord of the Rings trilogy boosted results. For the full-year, TimeWarner posted a profit of $3.36bn, up 27% from its 2003 performance, while revenues grew 6.4% to $42.09bn. \"Our financial performance was strong, meeting or exceeding all of our full-year objectives and greatly enhancing our flexibility,\" chairman and chief executive Richard Parsons said. For 2005, TimeWarner is projecting operating earnings growth of around 5%, and also expects higher revenue and wider profit margins.\\n\\nTimeWarner is to restate its accounts as part of efforts to resolve an inquiry into AOL by US market regulators. It has already offered to pay $300m to settle charges, in a deal that is under review by the SEC. The company said it was unable to estimate the amount it needed to set aside for legal reserves, which it previously set at $500m. It intends to adjust the way it accounts for a deal with German music publisher Bertelsmann\\'s purchase of a stake in AOL Europe, which it had reported as advertising revenue. It will now book the sale of its stake in AOL Europe as a loss on the value of that stake.\\n', 'category_1': 'business', 'tokens': <filter object at 0x11fe67ac8>}\n"
     ]
    }
   ],
   "source": [
    "print(raw_data[0])"
   ]
  },
  {
   "cell_type": "markdown",
   "metadata": {},
   "source": [
    "### Why embeddings?\n",
    "Whenever we're building a model to capture how similar two documents are, we need to consider how we are representing the document.\n",
    "\n",
    "For example, depending on the technique we use for processing the text, the three phrases below would have the same coded values (or tokens).\n",
    "\n",
    "(1) This is completely meaning**ful** to me.\n",
    "\n",
    "(2) This is completely meaning**less** to me.\n",
    "\n",
    "(3) To be complete: this is meaningful to me. \n",
    "\n",
    "After removing stopwords, tokenizing and stemming, we might end in the same vector representation, because some techniques depend on the tokens alone and do not take into consideration the context.\n",
    "\n",
    "This is something that we definitely do no want, what lead us to use techniques like [Non-Negative Matrix Factorization](https://arxiv.org/abs/1401.5226), Latent Dirichlet Allocation (LDA), and Document Embeddings (like [Doc2Vec](https://arxiv.org/pdf/1405.4053v2.pdf), [BERT](https://ai.googleblog.com/2018/11/open-sourcing-bert-state-of-art-pre.html) and [ELMo](https://allennlp.org/elmo)). In some cases, simpler models can be sufficient, but usually only when we have _lots of data_.\n",
    "\n",
    "With embeddings, in particular, we are able to sum and subtract the word vectors. A well known example is:\n",
    "_QUEEN_ - _WOMAN_ + _MAN_ = _KING_.\n",
    "\n",
    "This is closer to what we would expect from a language model!\n",
    "\n",
    "For the embeddings we consider the [Doc2Vec algorithm](https://radimrehurek.com/gensim/models/doc2vec.html) from the Gensim library, similar to [here](https://github.com/RaRe-Technologies/gensim/blob/develop/docs/notebooks/doc2vec-lee.ipynb). This is based on two papers that used either [hierarchical softmax](https://arxiv.org/pdf/1301.3781.pdf) or [negative sampling](https://papers.nips.cc/paper/5021-distributed-representations-of-words-and-phrases-and-their-compositionality.pdf).\n",
    "\n",
    "In order to use it, we first need to convert our tokens into [TaggedDocument](https://radimrehurek.com/gensim/models/doc2vec.html#gensim.models.doc2vec.TaggedDocument) objects. Tagged documents are documents with an associated label. You could simply use one number for each document and run the model, but when more than one document contains the same label, the model will try to infer the information from documents with the shared tag."
   ]
  },
  {
   "cell_type": "code",
   "execution_count": 20,
   "metadata": {},
   "outputs": [],
   "source": [
    "tagged_documents = [\n",
    "    TaggedDocument(list(elnt['tokens']), [f'article_{idx}']) for idx, elnt in enumerate(raw_data)\n",
    "]"
   ]
  },
  {
   "cell_type": "code",
   "execution_count": 21,
   "metadata": {},
   "outputs": [
    {
     "data": {
      "text/plain": [
       "TaggedDocument(words=['net', 'fingerprint', 'combat', 'attack', 'eighti', 'larg', 'net', 'servic', 'firm', 'switch', 'softwar', 'spot', 'stop', 'net', 'attack', 'automat', 'system', 'creat', 'digit', 'fingerprint', 'ongo', 'incid', 'sent', 'everi', 'network', 'affect', 'firm', 'involv', 'smart', 'sens', 'system', 'believ', 'help', 'trace', 'attack', 'back', 'sourc', 'data', 'gather', 'pass', 'polic', 'help', 'build', 'intellig', 'behind', 'worm', 'outbreak', 'denial', 'servic', 'attack', 'firm', 'sign', 'sens', 'system', 'includ', 'mci', 'bt', 'deutsch', 'telekom', 'energi', 'ntt', 'bell', 'canada', 'mani', 'other', 'creation', 'fingerprint', 'system', 'broker', 'us', 'firm', 'arbor', 'network', 'signatur', 'attack', 'pass', 'anyon', 'suffer', 'weight', 'attack', 'increasingli', 'comput', 'crimin', 'use', 'swarm', 'remot', 'control', 'comput', 'carri', 'denial', 'servic', 'attack', 'websit', 'launch', 'worm', 'relay', 'spam', 'around', 'net', 'seen', 'attack', 'involv', 'five', 'ten', 'gigabyt', 'traffic', 'said', 'rob', 'pollard', 'sale', 'director', 'arbor', 'network', 'behind', 'fingerprint', 'system', 'attack', 'size', 'caus', 'collater', 'damag', 'cross', 'internet', 'get', 'destin', 'said', 'attack', 'spot', 'signatur', 'defin', 'inform', 'pass', 'back', 'chain', 'network', 'affect', 'help', 'everi', 'unwit', 'player', 'tackl', 'problem', 'mr', 'pollard', 'said', 'arbor', 'charg', 'servic', 'would', 'pass', 'fingerprint', 'data', 'everi', 'network', 'affect', 'want', 'help', 'net', 'servic', 'firm', 'commun', 'push', 'attack', 'back', 'around', 'world', 'sourc', 'said', 'mr', 'pollard', 'arbor', 'network', 'technolog', 'work', 'build', 'detail', 'histori', 'traffic', 'network', 'spot', 'comput', 'group', 'user', 'regularli', 'talk', 'type', 'traffic', 'pass', 'machin', 'workgroup', 'anomali', 'usual', 'pattern', 'spot', 'flag', 'network', 'administr', 'take', 'action', 'traffic', 'due', 'net', 'base', 'attack', 'kind', 'type', 'close', 'analysi', 'becom', 'use', 'net', 'attack', 'increasingli', 'launch', 'use', 'sever', 'hundr', 'thousand', 'differ', 'machin', 'anyon', 'look', 'traffic', 'machin', 'machin', 'basi', 'would', 'unlik', 'spot', 'part', 'concert', 'attack', 'attack', 'get', 'diffus', 'sophist', 'said', 'malcolm', 'seagrav', 'secur', 'expert', 'energi', 'last', '12', 'month', 'start', 'get', 'notic', 'crimin', 'take', 'seen', 'massiv', 'growth', 'said', 'although', 'inform', 'system', 'exist', 'pass', 'inform', 'attack', 'often', 'commerci', 'confidenti', 'got', 'way', 'share', 'enough', 'inform', 'properli', 'combat', 'attack'], tags=['article_2191'])"
      ]
     },
     "execution_count": 21,
     "metadata": {},
     "output_type": "execute_result"
    }
   ],
   "source": [
    "tagged_documents[randint(0, len(tagged_documents))]"
   ]
  },
  {
   "cell_type": "markdown",
   "metadata": {},
   "source": [
    "Try to play with the hyperparameters here, to get a better result."
   ]
  },
  {
   "cell_type": "code",
   "execution_count": 22,
   "metadata": {},
   "outputs": [],
   "source": [
    "# You need to set the proper hyperparameter models here\n",
    "doc2vec_model = gensim.models.Doc2Vec(tagged_documents, dm=1, vector_size=5, window=5,\n",
    "                                      alpha=0.025, min_alpha=0.025, min_count=0)"
   ]
  },
  {
   "cell_type": "code",
   "execution_count": 23,
   "metadata": {},
   "outputs": [
    {
     "name": "stdout",
     "output_type": "stream",
     "text": [
      "[('bafin', 0.9949619770050049), ('ambigu', 0.9948400855064392), ('521', 0.9946093559265137), ('draft', 0.9932632446289062), ('jameson', 0.9924834370613098), ('bankrol', 0.9916859865188599), ('diemont', 0.990506649017334), ('pelvi', 0.9902675747871399), ('wollaton', 0.9898276925086975), ('activist', 0.9892165660858154)]\n"
     ]
    }
   ],
   "source": [
    "# This won't be good the first time you run. You need to change the hyperparameters\n",
    "print(doc2vec_model.wv.most_similar('court'))"
   ]
  },
  {
   "cell_type": "code",
   "execution_count": 24,
   "metadata": {},
   "outputs": [],
   "source": [
    "for idx, article in enumerate(raw_data):\n",
    "    article['embeddings'] = doc2vec_model.docvecs[f'article_{idx}']"
   ]
  },
  {
   "cell_type": "code",
   "execution_count": 25,
   "metadata": {},
   "outputs": [
    {
     "name": "stdout",
     "output_type": "stream",
     "text": [
      "{'raw_content': 'Call for Kenteris to be cleared\\n\\nKostas Kenteris\\' lawyer has called for the doping charges against the Greek sprinter to be dropped.\\n\\nGregory Ioannidis has submitted new evidence to a Greek athletics tribunal which he claims proves the former Olympic champion has no case to answer. Kenteris and compatriot Katerina Thanou were given provisional suspensions in December for failing to take drugs tests before the Athens Olympics. The Greek tribunal is expected to give its verdict early next week. Kenteris and Thanou withdrew from the Athens Olympics last August after missing drugs tests on the eve of the opening ceremony. They were also alleged to have avoided tests in Tel Aviv and Chicago before the Games.\\n\\nBut Ioannidis said: \"Everything overwhelmingly shows that the charges should be dropped.\" Ioannidis also said he has presented evidence that will throw a different light on the events leading up to the pair\\'s sensational withdrawal from the Athens Games. The lawyer added that he has proof the authorities \"knew\" Kenteris was in Germany at the time he was alleged to have missed a test in Chicago. Nick Davies, spokesman for athletics\\' ruling body the IAAF, which handed out the provisional bans, said: \"We can\\'t comment because we were not present at the hearing and don\\'t know what was said behind closed doors. \"We expect a verdict from the Greek Athletics Federation before the end of February and will obviously be making a statement then.\" Kenteris won 200m gold at the 2000 Sydney Olympics, while Thanou won silver in the 100m.\\n', 'category_1': 'sport', 'tokens': <filter object at 0x1219e6710>, 'embeddings': array([ 0.5026087 ,  0.40077272, -0.87642896, -0.23660351, -0.133421  ],\n",
      "      dtype=float32)}\n"
     ]
    }
   ],
   "source": [
    "# Checking if the embeddings were added to the document\n",
    "print(raw_data[randint(0, len(raw_data))])"
   ]
  },
  {
   "cell_type": "markdown",
   "metadata": {},
   "source": [
    "## Next Steps\n",
    "\n",
    "So we've reached the end of our workshop, but this is just the beginning. From this point onwards, we leave to you some open questions, that may guide on your journey.\n",
    "\n",
    "- Did you notice that the model is saving some specific names? How would the model perform if you replace named entities with placeholders?\n",
    "- How would you check the model above for different types of bias? How would you check, for example, if the model has a gender or race bias?\n",
    "- What would be the benefits of plugging the process from above into a Pipeline object?\n",
    "- What would be the differences in implementation between the Pipeline you can create here for what you have in Apache Beam or Spark?\n",
    "- How would you refactor this without using Gensim, and using Keras or Tensorflow instead?\n",
    "- What would need to change in your code if you'd like to train this model with data that doesn't fit in memory of a single machine?\n",
    "- How can you detect the minumum number of articles needed to train your model for your use case?\n",
    "- Would you use cross validation when training this model? Why and how?\n",
    "- Is there a way to use Bayesian Optimization, or a simple grid search to find the best hyperparameters?\n",
    "- How would you compare Doc2Vec with LDA, NNMF, BERT or ELMo?\n",
    "- If your problem was to just classify the text into multiple categories, what would you do differently?\n",
    "- How can you make this model available as a service?"
   ]
  }
 ],
 "metadata": {
  "kernelspec": {
   "display_name": "Python 3",
   "language": "python",
   "name": "python3"
  },
  "language_info": {
   "codemirror_mode": {
    "name": "ipython",
    "version": 3
   },
   "file_extension": ".py",
   "mimetype": "text/x-python",
   "name": "python",
   "nbconvert_exporter": "python",
   "pygments_lexer": "ipython3",
   "version": "3.6.6"
  }
 },
 "nbformat": 4,
 "nbformat_minor": 2
}
