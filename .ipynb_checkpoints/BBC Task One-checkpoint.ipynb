{
 "cells": [
  {
   "cell_type": "code",
   "execution_count": 1,
   "metadata": {},
   "outputs": [
    {
     "name": "stdout",
     "output_type": "stream",
     "text": [
      "Requirement already satisfied: jupyter==1.0.0 in c:\\users\\gillro~1\\docume~1\\datala~1\\virtua~1\\lib\\site-packages (from -r requirements.txt (line 1)) (1.0.0)\n",
      "Requirement already satisfied: scikit-learn==0.19.1 in c:\\users\\gillro~1\\docume~1\\datala~1\\virtua~1\\lib\\site-packages (from -r requirements.txt (line 2)) (0.19.1)\n",
      "Requirement already satisfied: pandas==0.21.0 in c:\\users\\gillro~1\\docume~1\\datala~1\\virtua~1\\lib\\site-packages (from -r requirements.txt (line 3)) (0.21.0)\n",
      "Requirement already satisfied: numpy==1.13.3 in c:\\users\\gillro~1\\docume~1\\datala~1\\virtua~1\\lib\\site-packages (from -r requirements.txt (line 4)) (1.13.3)\n",
      "Requirement already satisfied: scipy==1.0.0 in c:\\users\\gillro~1\\docume~1\\datala~1\\virtua~1\\lib\\site-packages (from -r requirements.txt (line 5)) (1.0.0)\n",
      "Requirement already satisfied: matplotlib==2.1.0 in c:\\users\\gillro~1\\docume~1\\datala~1\\virtua~1\\lib\\site-packages (from -r requirements.txt (line 6)) (2.1.0)\n",
      "Requirement already satisfied: nbconvert in c:\\users\\gillro~1\\docume~1\\datala~1\\virtua~1\\lib\\site-packages (from jupyter==1.0.0->-r requirements.txt (line 1)) (5.4.1)\n",
      "Requirement already satisfied: qtconsole in c:\\users\\gillro~1\\docume~1\\datala~1\\virtua~1\\lib\\site-packages (from jupyter==1.0.0->-r requirements.txt (line 1)) (4.4.3)\n",
      "Requirement already satisfied: notebook in c:\\users\\gillro~1\\docume~1\\datala~1\\virtua~1\\lib\\site-packages (from jupyter==1.0.0->-r requirements.txt (line 1)) (5.7.8)\n",
      "Requirement already satisfied: jupyter-console in c:\\users\\gillro~1\\docume~1\\datala~1\\virtua~1\\lib\\site-packages (from jupyter==1.0.0->-r requirements.txt (line 1)) (6.0.0)\n",
      "Requirement already satisfied: ipywidgets in c:\\users\\gillro~1\\docume~1\\datala~1\\virtua~1\\lib\\site-packages (from jupyter==1.0.0->-r requirements.txt (line 1)) (7.4.2)\n",
      "Requirement already satisfied: ipykernel in c:\\users\\gillro~1\\docume~1\\datala~1\\virtua~1\\lib\\site-packages (from jupyter==1.0.0->-r requirements.txt (line 1)) (5.1.0)\n",
      "Requirement already satisfied: python-dateutil>=2 in c:\\users\\gillro~1\\docume~1\\datala~1\\virtua~1\\lib\\site-packages (from pandas==0.21.0->-r requirements.txt (line 3)) (2.8.0)\n",
      "Requirement already satisfied: pytz>=2011k in c:\\users\\gillro~1\\docume~1\\datala~1\\virtua~1\\lib\\site-packages (from pandas==0.21.0->-r requirements.txt (line 3)) (2019.1)\n",
      "Requirement already satisfied: six>=1.10 in c:\\users\\gillro~1\\docume~1\\datala~1\\virtua~1\\lib\\site-packages (from matplotlib==2.1.0->-r requirements.txt (line 6)) (1.12.0)\n",
      "Requirement already satisfied: cycler>=0.10 in c:\\users\\gillro~1\\docume~1\\datala~1\\virtua~1\\lib\\site-packages (from matplotlib==2.1.0->-r requirements.txt (line 6)) (0.10.0)\n",
      "Requirement already satisfied: pyparsing!=2.0.4,!=2.1.2,!=2.1.6,>=2.0.1 in c:\\users\\gillro~1\\docume~1\\datala~1\\virtua~1\\lib\\site-packages (from matplotlib==2.1.0->-r requirements.txt (line 6)) (2.4.0)\n",
      "Requirement already satisfied: jinja2 in c:\\users\\gillro~1\\docume~1\\datala~1\\virtua~1\\lib\\site-packages (from nbconvert->jupyter==1.0.0->-r requirements.txt (line 1)) (2.10.1)\n",
      "Requirement already satisfied: pandocfilters>=1.4.1 in c:\\users\\gillro~1\\docume~1\\datala~1\\virtua~1\\lib\\site-packages (from nbconvert->jupyter==1.0.0->-r requirements.txt (line 1)) (1.4.2)\n",
      "Requirement already satisfied: jupyter-core in c:\\users\\gillro~1\\docume~1\\datala~1\\virtua~1\\lib\\site-packages (from nbconvert->jupyter==1.0.0->-r requirements.txt (line 1)) (4.4.0)\n",
      "Requirement already satisfied: entrypoints>=0.2.2 in c:\\users\\gillro~1\\docume~1\\datala~1\\virtua~1\\lib\\site-packages (from nbconvert->jupyter==1.0.0->-r requirements.txt (line 1)) (0.3)\n",
      "Requirement already satisfied: pygments in c:\\users\\gillro~1\\docume~1\\datala~1\\virtua~1\\lib\\site-packages (from nbconvert->jupyter==1.0.0->-r requirements.txt (line 1)) (2.3.1)\n",
      "Requirement already satisfied: traitlets>=4.2 in c:\\users\\gillro~1\\docume~1\\datala~1\\virtua~1\\lib\\site-packages (from nbconvert->jupyter==1.0.0->-r requirements.txt (line 1)) (4.3.2)\n",
      "Requirement already satisfied: nbformat>=4.4 in c:\\users\\gillro~1\\docume~1\\datala~1\\virtua~1\\lib\\site-packages (from nbconvert->jupyter==1.0.0->-r requirements.txt (line 1)) (4.4.0)\n",
      "Requirement already satisfied: defusedxml in c:\\users\\gillro~1\\docume~1\\datala~1\\virtua~1\\lib\\site-packages (from nbconvert->jupyter==1.0.0->-r requirements.txt (line 1)) (0.5.0)\n",
      "Requirement already satisfied: mistune>=0.8.1 in c:\\users\\gillro~1\\docume~1\\datala~1\\virtua~1\\lib\\site-packages (from nbconvert->jupyter==1.0.0->-r requirements.txt (line 1)) (0.8.4)\n",
      "Requirement already satisfied: bleach in c:\\users\\gillro~1\\docume~1\\datala~1\\virtua~1\\lib\\site-packages (from nbconvert->jupyter==1.0.0->-r requirements.txt (line 1)) (3.1.0)\n",
      "Requirement already satisfied: testpath in c:\\users\\gillro~1\\docume~1\\datala~1\\virtua~1\\lib\\site-packages (from nbconvert->jupyter==1.0.0->-r requirements.txt (line 1)) (0.4.2)\n",
      "Requirement already satisfied: ipython-genutils in c:\\users\\gillro~1\\docume~1\\datala~1\\virtua~1\\lib\\site-packages (from qtconsole->jupyter==1.0.0->-r requirements.txt (line 1)) (0.2.0)\n",
      "Requirement already satisfied: jupyter-client>=4.1 in c:\\users\\gillro~1\\docume~1\\datala~1\\virtua~1\\lib\\site-packages (from qtconsole->jupyter==1.0.0->-r requirements.txt (line 1)) (5.2.4)\n",
      "Requirement already satisfied: terminado>=0.8.1 in c:\\users\\gillro~1\\docume~1\\datala~1\\virtua~1\\lib\\site-packages (from notebook->jupyter==1.0.0->-r requirements.txt (line 1)) (0.8.2)\n",
      "Requirement already satisfied: prometheus-client in c:\\users\\gillro~1\\docume~1\\datala~1\\virtua~1\\lib\\site-packages (from notebook->jupyter==1.0.0->-r requirements.txt (line 1)) (0.6.0)\n",
      "Requirement already satisfied: Send2Trash in c:\\users\\gillro~1\\docume~1\\datala~1\\virtua~1\\lib\\site-packages (from notebook->jupyter==1.0.0->-r requirements.txt (line 1)) (1.5.0)\n",
      "Requirement already satisfied: tornado<7,>=4.1 in c:\\users\\gillro~1\\docume~1\\datala~1\\virtua~1\\lib\\site-packages (from notebook->jupyter==1.0.0->-r requirements.txt (line 1)) (6.0.2)\n",
      "Requirement already satisfied: pyzmq>=17 in c:\\users\\gillro~1\\docume~1\\datala~1\\virtua~1\\lib\\site-packages (from notebook->jupyter==1.0.0->-r requirements.txt (line 1)) (18.0.1)\n",
      "Requirement already satisfied: ipython in c:\\users\\gillro~1\\docume~1\\datala~1\\virtua~1\\lib\\site-packages (from jupyter-console->jupyter==1.0.0->-r requirements.txt (line 1)) (7.4.0)\n",
      "Requirement already satisfied: prompt-toolkit<2.1.0,>=2.0.0 in c:\\users\\gillro~1\\docume~1\\datala~1\\virtua~1\\lib\\site-packages (from jupyter-console->jupyter==1.0.0->-r requirements.txt (line 1)) (2.0.9)\n",
      "Requirement already satisfied: widgetsnbextension~=3.4.0 in c:\\users\\gillro~1\\docume~1\\datala~1\\virtua~1\\lib\\site-packages (from ipywidgets->jupyter==1.0.0->-r requirements.txt (line 1)) (3.4.2)\n",
      "Requirement already satisfied: MarkupSafe>=0.23 in c:\\users\\gillro~1\\docume~1\\datala~1\\virtua~1\\lib\\site-packages (from jinja2->nbconvert->jupyter==1.0.0->-r requirements.txt (line 1)) (1.1.1)\n",
      "Requirement already satisfied: decorator in c:\\users\\gillro~1\\docume~1\\datala~1\\virtua~1\\lib\\site-packages (from traitlets>=4.2->nbconvert->jupyter==1.0.0->-r requirements.txt (line 1)) (4.4.0)\n",
      "Requirement already satisfied: jsonschema!=2.5.0,>=2.4 in c:\\users\\gillro~1\\docume~1\\datala~1\\virtua~1\\lib\\site-packages (from nbformat>=4.4->nbconvert->jupyter==1.0.0->-r requirements.txt (line 1)) (3.0.1)\n",
      "Requirement already satisfied: webencodings in c:\\users\\gillro~1\\docume~1\\datala~1\\virtua~1\\lib\\site-packages (from bleach->nbconvert->jupyter==1.0.0->-r requirements.txt (line 1)) (0.5.1)\n",
      "Requirement already satisfied: pywinpty>=0.5; os_name == \"nt\" in c:\\users\\gillro~1\\docume~1\\datala~1\\virtua~1\\lib\\site-packages (from terminado>=0.8.1->notebook->jupyter==1.0.0->-r requirements.txt (line 1)) (0.5.5)\n",
      "Requirement already satisfied: setuptools>=18.5 in c:\\users\\gillro~1\\docume~1\\datala~1\\virtua~1\\lib\\site-packages (from ipython->jupyter-console->jupyter==1.0.0->-r requirements.txt (line 1)) (41.0.0)\n",
      "Requirement already satisfied: colorama; sys_platform == \"win32\" in c:\\users\\gillro~1\\docume~1\\datala~1\\virtua~1\\lib\\site-packages (from ipython->jupyter-console->jupyter==1.0.0->-r requirements.txt (line 1)) (0.4.1)\n",
      "Requirement already satisfied: pickleshare in c:\\users\\gillro~1\\docume~1\\datala~1\\virtua~1\\lib\\site-packages (from ipython->jupyter-console->jupyter==1.0.0->-r requirements.txt (line 1)) (0.7.5)\n",
      "Requirement already satisfied: jedi>=0.10 in c:\\users\\gillro~1\\docume~1\\datala~1\\virtua~1\\lib\\site-packages (from ipython->jupyter-console->jupyter==1.0.0->-r requirements.txt (line 1)) (0.13.3)\n",
      "Requirement already satisfied: backcall in c:\\users\\gillro~1\\docume~1\\datala~1\\virtua~1\\lib\\site-packages (from ipython->jupyter-console->jupyter==1.0.0->-r requirements.txt (line 1)) (0.1.0)\n",
      "Requirement already satisfied: win-unicode-console>=0.5; sys_platform == \"win32\" and python_version < \"3.6\" in c:\\users\\gillro~1\\docume~1\\datala~1\\virtua~1\\lib\\site-packages (from ipython->jupyter-console->jupyter==1.0.0->-r requirements.txt (line 1)) (0.5)\n",
      "Requirement already satisfied: wcwidth in c:\\users\\gillro~1\\docume~1\\datala~1\\virtua~1\\lib\\site-packages (from prompt-toolkit<2.1.0,>=2.0.0->jupyter-console->jupyter==1.0.0->-r requirements.txt (line 1)) (0.1.7)\n",
      "Requirement already satisfied: attrs>=17.4.0 in c:\\users\\gillro~1\\docume~1\\datala~1\\virtua~1\\lib\\site-packages (from jsonschema!=2.5.0,>=2.4->nbformat>=4.4->nbconvert->jupyter==1.0.0->-r requirements.txt (line 1)) (19.1.0)\n",
      "Requirement already satisfied: pyrsistent>=0.14.0 in c:\\users\\gillro~1\\docume~1\\datala~1\\virtua~1\\lib\\site-packages (from jsonschema!=2.5.0,>=2.4->nbformat>=4.4->nbconvert->jupyter==1.0.0->-r requirements.txt (line 1)) (0.14.11)\n",
      "Requirement already satisfied: parso>=0.3.0 in c:\\users\\gillro~1\\docume~1\\datala~1\\virtua~1\\lib\\site-packages (from jedi>=0.10->ipython->jupyter-console->jupyter==1.0.0->-r requirements.txt (line 1)) (0.4.0)\n"
     ]
    }
   ],
   "source": [
    "# Install all python libraries required for this course.\n",
    "!pip install -r requirements.txt #Expect error as have already pip installed all"
   ]
  },
  {
   "cell_type": "code",
   "execution_count": 7,
   "metadata": {},
   "outputs": [],
   "source": [
    "# Import all relevent libraries to analyse the data\n",
    "import pandas as pd #Data analysis library\n",
    "import numpy as np #Complex scientific functions - essential for pandas and matplot\n",
    "#Pandas is more high level data structures - for spreadsheets. Num\n",
    "import datetime #Date time\n",
    "import math #Adding math functions ie. math.sqrt(4)\n",
    "import matplotlib.pyplot as plt #Graphs\n",
    "\n",
    "# This line makes sure that our graphs are rendered within the notebook\n",
    "%matplotlib inline\n",
    "\n",
    "# Set options to display all columns\n",
    "pd.set_option(\"display.max_columns\",None)"
   ]
  },
  {
   "cell_type": "code",
   "execution_count": 17,
   "metadata": {},
   "outputs": [
    {
     "name": "stdout",
     "output_type": "stream",
     "text": [
      "(490852, 8)\n",
      "  user_id program_id series_id          genre programme_duration  \\\n",
      "0  GUNMFC    BUNBFKC    RFMHXZ        Factual           00:00:21   \n",
      "1  GUNMFC    SBTKDEW    EWBFGO         Comedy           00:01:51   \n",
      "2  GUNMFC    AXXRZDT    HFZOYT        Factual           00:00:30   \n",
      "3  GUNMFC    WEXFFOO    HZCOOC  Entertainment           00:01:22   \n",
      "4  GUNMFC    AUQGTSV    YMAXJD          Sport           00:01:37   \n",
      "\n",
      "      streaming_id         start_date_time  time_viewed  \n",
      "0  1486911129420_1 2017-02-12 15:21:24.544      20920.0  \n",
      "1  1484864257965_1 2017-01-19 22:47:04.648     111285.0  \n",
      "2  1487099603980_1 2017-02-14 19:42:36.667      29945.0  \n",
      "3  1484773546557_1 2017-01-18 21:35:11.466      82620.0  \n",
      "4  1486911176609_1 2017-02-12 15:22:08.965      97444.0  \n",
      "15\n"
     ]
    }
   ],
   "source": [
    "# Load the data into a pandas dataframe\n",
    "# Display the size of the dataset and first couple of rows to see what it looks like\n",
    "data=pd.read_csv('iplayer_data_sample_janapr2017.csv', parse_dates=['start_date_time'])\n",
    "print(data.shape) #Returns (Rows,Columns)\n",
    "print(data.head()) #First 5 results"
   ]
  },
  {
   "cell_type": "code",
   "execution_count": 19,
   "metadata": {},
   "outputs": [],
   "source": [
    "# Enhance the data with a few additional columns\n",
    "# Here we create some functions that we will apply to our dataset columns afterwards\n",
    "\n",
    "# Get the weekday\n",
    "def get_weekday(formated_time):\n",
    "    return 'weekday_' + str(formated_time.weekday()) #returns \"weekday_(dayofweek in  number)\"\n",
    "\n",
    "# Get the two-week number. We will forecast the minutes watched in the last two weeks\n",
    "# Python3 rounds 0.5 up and down depending on the integer so we can't use round function\n",
    "def get_twoweeknumber(formated_time):\n",
    "    return math.floor(formated_time.isocalendar()[1]/2.0)\n",
    "\n",
    "# Get the time of day\n",
    "def get_timeofday(formated_time):\n",
    "    hour=formated_time.hour\n",
    "    if hour in range(5,13):\n",
    "        return 'Morning'\n",
    "    elif hour in range(13,18):\n",
    "        return 'Afternoon'\n",
    "    elif hour in range(18,23):\n",
    "        return 'Evening'\n",
    "    else:\n",
    "        return 'Night'\n",
    "\n",
    "# Parse the programme duration \n",
    "# and turn it into minutes so that we can compute the percentage of time watched\n",
    "# we assume programme_duration is in hh:mm:ss\n",
    "def parse_programme_duration(unformated_time):\n",
    "    try:\n",
    "        timeparts=unformated_time.split(':')\n",
    "        #timeparts = [hour,minutes,seconds]\n",
    "        return int(timeparts[0])*60.0+int(timeparts[1])+int(timeparts[2])/60\n",
    "        #returns total minutes.\n",
    "    except: #Will be used when program duration is blank\n",
    "        return"
   ]
  },
  {
   "cell_type": "code",
   "execution_count": 20,
   "metadata": {},
   "outputs": [
    {
     "data": {
      "text/html": [
       "<div>\n",
       "<style scoped>\n",
       "    .dataframe tbody tr th:only-of-type {\n",
       "        vertical-align: middle;\n",
       "    }\n",
       "\n",
       "    .dataframe tbody tr th {\n",
       "        vertical-align: top;\n",
       "    }\n",
       "\n",
       "    .dataframe thead th {\n",
       "        text-align: right;\n",
       "    }\n",
       "</style>\n",
       "<table border=\"1\" class=\"dataframe\">\n",
       "  <thead>\n",
       "    <tr style=\"text-align: right;\">\n",
       "      <th></th>\n",
       "      <th>user_id</th>\n",
       "      <th>program_id</th>\n",
       "      <th>series_id</th>\n",
       "      <th>genre</th>\n",
       "      <th>programme_duration</th>\n",
       "      <th>streaming_id</th>\n",
       "      <th>start_date_time</th>\n",
       "      <th>time_viewed</th>\n",
       "      <th>weekday</th>\n",
       "      <th>time_of_day</th>\n",
       "      <th>programme_duration_mins</th>\n",
       "      <th>twoweek</th>\n",
       "      <th>min_watched</th>\n",
       "    </tr>\n",
       "  </thead>\n",
       "  <tbody>\n",
       "    <tr>\n",
       "      <th>0</th>\n",
       "      <td>GUNMFC</td>\n",
       "      <td>BUNBFKC</td>\n",
       "      <td>RFMHXZ</td>\n",
       "      <td>Factual</td>\n",
       "      <td>00:00:21</td>\n",
       "      <td>1486911129420_1</td>\n",
       "      <td>2017-02-12 15:21:24.544</td>\n",
       "      <td>20920.0</td>\n",
       "      <td>weekday_6</td>\n",
       "      <td>Afternoon</td>\n",
       "      <td>0.350000</td>\n",
       "      <td>3</td>\n",
       "      <td>0.348667</td>\n",
       "    </tr>\n",
       "    <tr>\n",
       "      <th>1</th>\n",
       "      <td>GUNMFC</td>\n",
       "      <td>SBTKDEW</td>\n",
       "      <td>EWBFGO</td>\n",
       "      <td>Comedy</td>\n",
       "      <td>00:01:51</td>\n",
       "      <td>1484864257965_1</td>\n",
       "      <td>2017-01-19 22:47:04.648</td>\n",
       "      <td>111285.0</td>\n",
       "      <td>weekday_3</td>\n",
       "      <td>Evening</td>\n",
       "      <td>1.850000</td>\n",
       "      <td>1</td>\n",
       "      <td>1.854750</td>\n",
       "    </tr>\n",
       "    <tr>\n",
       "      <th>2</th>\n",
       "      <td>GUNMFC</td>\n",
       "      <td>AXXRZDT</td>\n",
       "      <td>HFZOYT</td>\n",
       "      <td>Factual</td>\n",
       "      <td>00:00:30</td>\n",
       "      <td>1487099603980_1</td>\n",
       "      <td>2017-02-14 19:42:36.667</td>\n",
       "      <td>29945.0</td>\n",
       "      <td>weekday_1</td>\n",
       "      <td>Evening</td>\n",
       "      <td>0.500000</td>\n",
       "      <td>3</td>\n",
       "      <td>0.499083</td>\n",
       "    </tr>\n",
       "    <tr>\n",
       "      <th>3</th>\n",
       "      <td>GUNMFC</td>\n",
       "      <td>WEXFFOO</td>\n",
       "      <td>HZCOOC</td>\n",
       "      <td>Entertainment</td>\n",
       "      <td>00:01:22</td>\n",
       "      <td>1484773546557_1</td>\n",
       "      <td>2017-01-18 21:35:11.466</td>\n",
       "      <td>82620.0</td>\n",
       "      <td>weekday_2</td>\n",
       "      <td>Evening</td>\n",
       "      <td>1.366667</td>\n",
       "      <td>1</td>\n",
       "      <td>1.377000</td>\n",
       "    </tr>\n",
       "    <tr>\n",
       "      <th>4</th>\n",
       "      <td>GUNMFC</td>\n",
       "      <td>AUQGTSV</td>\n",
       "      <td>YMAXJD</td>\n",
       "      <td>Sport</td>\n",
       "      <td>00:01:37</td>\n",
       "      <td>1486911176609_1</td>\n",
       "      <td>2017-02-12 15:22:08.965</td>\n",
       "      <td>97444.0</td>\n",
       "      <td>weekday_6</td>\n",
       "      <td>Afternoon</td>\n",
       "      <td>1.616667</td>\n",
       "      <td>3</td>\n",
       "      <td>1.624067</td>\n",
       "    </tr>\n",
       "  </tbody>\n",
       "</table>\n",
       "</div>"
      ],
      "text/plain": [
       "  user_id program_id series_id          genre programme_duration  \\\n",
       "0  GUNMFC    BUNBFKC    RFMHXZ        Factual           00:00:21   \n",
       "1  GUNMFC    SBTKDEW    EWBFGO         Comedy           00:01:51   \n",
       "2  GUNMFC    AXXRZDT    HFZOYT        Factual           00:00:30   \n",
       "3  GUNMFC    WEXFFOO    HZCOOC  Entertainment           00:01:22   \n",
       "4  GUNMFC    AUQGTSV    YMAXJD          Sport           00:01:37   \n",
       "\n",
       "      streaming_id         start_date_time  time_viewed    weekday  \\\n",
       "0  1486911129420_1 2017-02-12 15:21:24.544      20920.0  weekday_6   \n",
       "1  1484864257965_1 2017-01-19 22:47:04.648     111285.0  weekday_3   \n",
       "2  1487099603980_1 2017-02-14 19:42:36.667      29945.0  weekday_1   \n",
       "3  1484773546557_1 2017-01-18 21:35:11.466      82620.0  weekday_2   \n",
       "4  1486911176609_1 2017-02-12 15:22:08.965      97444.0  weekday_6   \n",
       "\n",
       "  time_of_day  programme_duration_mins  twoweek  min_watched  \n",
       "0   Afternoon                 0.350000        3     0.348667  \n",
       "1     Evening                 1.850000        1     1.854750  \n",
       "2     Evening                 0.500000        3     0.499083  \n",
       "3     Evening                 1.366667        1     1.377000  \n",
       "4   Afternoon                 1.616667        3     1.624067  "
      ]
     },
     "execution_count": 20,
     "metadata": {},
     "output_type": "execute_result"
    }
   ],
   "source": [
    "# Apply the functions to the dataframe\n",
    "data['weekday']=data['start_date_time'].apply(get_weekday) #Week day\n",
    "data['time_of_day']=data['start_date_time'].apply(get_timeofday) #Time of day function\n",
    "data['programme_duration_mins']=data['programme_duration'].apply(parse_programme_duration)\n",
    "data['twoweek']=data['start_date_time'].apply(get_twoweeknumber) \n",
    "\n",
    "# Convert time viewed and length of programme into minutes\n",
    "data['min_watched']=data['time_viewed']/(60000.0) #Was split seconds i believe?\n",
    "\n",
    "data.head()"
   ]
  },
  {
   "cell_type": "code",
   "execution_count": 22,
   "metadata": {},
   "outputs": [
    {
     "name": "stdout",
     "output_type": "stream",
     "text": [
      "user_id - Missing: 0 - Unique: 9937\n",
      "program_id - Missing: 33698 - Unique: 23857\n",
      "series_id - Missing: 33698 - Unique: 5921\n",
      "genre - Missing: 67719 - Unique: 12\n",
      "programme_duration - Missing: 33698 - Unique: 891\n",
      "streaming_id - Missing: 0 - Unique: 434430\n",
      "start_date_time - Missing: 0 - Unique: 490626\n",
      "time_viewed - Missing: 1900 - Unique: 259532\n",
      "weekday - Missing: 0 - Unique: 7\n",
      "time_of_day - Missing: 0 - Unique: 4\n",
      "programme_duration_mins - Missing: 33698 - Unique: 891\n",
      "twoweek - Missing: 0 - Unique: 10\n",
      "min_watched - Missing: 1900 - Unique: 259532\n"
     ]
    }
   ],
   "source": [
    "# Check how many missing and unique values there are per column\n",
    "features=data.columns.values #Titles of each column\n",
    "for feature in features: #For each feature in features\n",
    "    print(feature,'- Missing:', \n",
    "          sum(data[feature].isnull()),\n",
    "          '- Unique:', len(data[feature].unique())) #Prints *titlename* - Missing: *blank values* - Unique: *unique sets of data*"
   ]
  },
  {
   "cell_type": "code",
   "execution_count": 35,
   "metadata": {},
   "outputs": [
    {
     "data": {
      "text/html": [
       "<div>\n",
       "<style scoped>\n",
       "    .dataframe tbody tr th:only-of-type {\n",
       "        vertical-align: middle;\n",
       "    }\n",
       "\n",
       "    .dataframe tbody tr th {\n",
       "        vertical-align: top;\n",
       "    }\n",
       "\n",
       "    .dataframe thead th {\n",
       "        text-align: right;\n",
       "    }\n",
       "</style>\n",
       "<table border=\"1\" class=\"dataframe\">\n",
       "  <thead>\n",
       "    <tr style=\"text-align: right;\">\n",
       "      <th></th>\n",
       "      <th>series_id</th>\n",
       "      <th>enriched_genre</th>\n",
       "    </tr>\n",
       "  </thead>\n",
       "  <tbody>\n",
       "    <tr>\n",
       "      <th>0</th>\n",
       "      <td>AACTJC</td>\n",
       "      <td>Factual</td>\n",
       "    </tr>\n",
       "    <tr>\n",
       "      <th>1</th>\n",
       "      <td>AADNYN</td>\n",
       "      <td>Drama</td>\n",
       "    </tr>\n",
       "    <tr>\n",
       "      <th>2</th>\n",
       "      <td>AAHBPO</td>\n",
       "      <td>Factual</td>\n",
       "    </tr>\n",
       "    <tr>\n",
       "      <th>3</th>\n",
       "      <td>AAJXRW</td>\n",
       "      <td>Factual</td>\n",
       "    </tr>\n",
       "    <tr>\n",
       "      <th>4</th>\n",
       "      <td>AAOAJI</td>\n",
       "      <td>Drama</td>\n",
       "    </tr>\n",
       "  </tbody>\n",
       "</table>\n",
       "</div>"
      ],
      "text/plain": [
       "  series_id enriched_genre\n",
       "0    AACTJC        Factual\n",
       "1    AADNYN          Drama\n",
       "2    AAHBPO        Factual\n",
       "3    AAJXRW        Factual\n",
       "4    AAOAJI          Drama"
      ]
     },
     "execution_count": 35,
     "metadata": {},
     "output_type": "execute_result"
    }
   ],
   "source": [
    "# First create a data frame that maps each piece of content with its genre\n",
    "series_mapping=pd.pivot_table(data,values='streaming_id',\n",
    "                              index=['series_id'],\n",
    "                              columns=['genre'],\n",
    "                              aggfunc=len).idxmax(axis=1) #Creates table linking series id's and genres.\n",
    "#Series_mapping = series_id\n",
    "#                 AACTJC          Factual\n",
    "series_mapping=pd.DataFrame(series_mapping).reset_index().rename(columns={0:'enriched_genre'}) #Adds index and genre title\n",
    "#series_id enriched_genre\n",
    "#0       AACTJC        Factual\n",
    "series_mapping.head()\n"
   ]
  },
  {
   "cell_type": "code",
   "execution_count": 36,
   "metadata": {},
   "outputs": [
    {
     "data": {
      "text/html": [
       "<div>\n",
       "<style scoped>\n",
       "    .dataframe tbody tr th:only-of-type {\n",
       "        vertical-align: middle;\n",
       "    }\n",
       "\n",
       "    .dataframe tbody tr th {\n",
       "        vertical-align: top;\n",
       "    }\n",
       "\n",
       "    .dataframe thead th {\n",
       "        text-align: right;\n",
       "    }\n",
       "</style>\n",
       "<table border=\"1\" class=\"dataframe\">\n",
       "  <thead>\n",
       "    <tr style=\"text-align: right;\">\n",
       "      <th></th>\n",
       "      <th>user_id</th>\n",
       "      <th>program_id</th>\n",
       "      <th>series_id</th>\n",
       "      <th>genre</th>\n",
       "      <th>programme_duration</th>\n",
       "      <th>streaming_id</th>\n",
       "      <th>start_date_time</th>\n",
       "      <th>time_viewed</th>\n",
       "      <th>weekday</th>\n",
       "      <th>time_of_day</th>\n",
       "      <th>programme_duration_mins</th>\n",
       "      <th>twoweek</th>\n",
       "      <th>min_watched</th>\n",
       "      <th>enriched_genre</th>\n",
       "    </tr>\n",
       "  </thead>\n",
       "  <tbody>\n",
       "    <tr>\n",
       "      <th>0</th>\n",
       "      <td>GUNMFC</td>\n",
       "      <td>BUNBFKC</td>\n",
       "      <td>RFMHXZ</td>\n",
       "      <td>Factual</td>\n",
       "      <td>00:00:21</td>\n",
       "      <td>1486911129420_1</td>\n",
       "      <td>2017-02-12 15:21:24.544</td>\n",
       "      <td>20920.0</td>\n",
       "      <td>weekday_6</td>\n",
       "      <td>Afternoon</td>\n",
       "      <td>0.350000</td>\n",
       "      <td>3</td>\n",
       "      <td>0.348667</td>\n",
       "      <td>Factual</td>\n",
       "    </tr>\n",
       "    <tr>\n",
       "      <th>1</th>\n",
       "      <td>GUNMFC</td>\n",
       "      <td>SBTKDEW</td>\n",
       "      <td>EWBFGO</td>\n",
       "      <td>Comedy</td>\n",
       "      <td>00:01:51</td>\n",
       "      <td>1484864257965_1</td>\n",
       "      <td>2017-01-19 22:47:04.648</td>\n",
       "      <td>111285.0</td>\n",
       "      <td>weekday_3</td>\n",
       "      <td>Evening</td>\n",
       "      <td>1.850000</td>\n",
       "      <td>1</td>\n",
       "      <td>1.854750</td>\n",
       "      <td>Comedy</td>\n",
       "    </tr>\n",
       "    <tr>\n",
       "      <th>2</th>\n",
       "      <td>GUNMFC</td>\n",
       "      <td>AXXRZDT</td>\n",
       "      <td>HFZOYT</td>\n",
       "      <td>Factual</td>\n",
       "      <td>00:00:30</td>\n",
       "      <td>1487099603980_1</td>\n",
       "      <td>2017-02-14 19:42:36.667</td>\n",
       "      <td>29945.0</td>\n",
       "      <td>weekday_1</td>\n",
       "      <td>Evening</td>\n",
       "      <td>0.500000</td>\n",
       "      <td>3</td>\n",
       "      <td>0.499083</td>\n",
       "      <td>Factual</td>\n",
       "    </tr>\n",
       "    <tr>\n",
       "      <th>3</th>\n",
       "      <td>GUNMFC</td>\n",
       "      <td>WEXFFOO</td>\n",
       "      <td>HZCOOC</td>\n",
       "      <td>Entertainment</td>\n",
       "      <td>00:01:22</td>\n",
       "      <td>1484773546557_1</td>\n",
       "      <td>2017-01-18 21:35:11.466</td>\n",
       "      <td>82620.0</td>\n",
       "      <td>weekday_2</td>\n",
       "      <td>Evening</td>\n",
       "      <td>1.366667</td>\n",
       "      <td>1</td>\n",
       "      <td>1.377000</td>\n",
       "      <td>Entertainment</td>\n",
       "    </tr>\n",
       "    <tr>\n",
       "      <th>4</th>\n",
       "      <td>GUNMFC</td>\n",
       "      <td>AUQGTSV</td>\n",
       "      <td>YMAXJD</td>\n",
       "      <td>Sport</td>\n",
       "      <td>00:01:37</td>\n",
       "      <td>1486911176609_1</td>\n",
       "      <td>2017-02-12 15:22:08.965</td>\n",
       "      <td>97444.0</td>\n",
       "      <td>weekday_6</td>\n",
       "      <td>Afternoon</td>\n",
       "      <td>1.616667</td>\n",
       "      <td>3</td>\n",
       "      <td>1.624067</td>\n",
       "      <td>Sport</td>\n",
       "    </tr>\n",
       "  </tbody>\n",
       "</table>\n",
       "</div>"
      ],
      "text/plain": [
       "  user_id program_id series_id          genre programme_duration  \\\n",
       "0  GUNMFC    BUNBFKC    RFMHXZ        Factual           00:00:21   \n",
       "1  GUNMFC    SBTKDEW    EWBFGO         Comedy           00:01:51   \n",
       "2  GUNMFC    AXXRZDT    HFZOYT        Factual           00:00:30   \n",
       "3  GUNMFC    WEXFFOO    HZCOOC  Entertainment           00:01:22   \n",
       "4  GUNMFC    AUQGTSV    YMAXJD          Sport           00:01:37   \n",
       "\n",
       "      streaming_id         start_date_time  time_viewed    weekday  \\\n",
       "0  1486911129420_1 2017-02-12 15:21:24.544      20920.0  weekday_6   \n",
       "1  1484864257965_1 2017-01-19 22:47:04.648     111285.0  weekday_3   \n",
       "2  1487099603980_1 2017-02-14 19:42:36.667      29945.0  weekday_1   \n",
       "3  1484773546557_1 2017-01-18 21:35:11.466      82620.0  weekday_2   \n",
       "4  1486911176609_1 2017-02-12 15:22:08.965      97444.0  weekday_6   \n",
       "\n",
       "  time_of_day  programme_duration_mins  twoweek  min_watched enriched_genre  \n",
       "0   Afternoon                 0.350000        3     0.348667        Factual  \n",
       "1     Evening                 1.850000        1     1.854750         Comedy  \n",
       "2     Evening                 0.500000        3     0.499083        Factual  \n",
       "3     Evening                 1.366667        1     1.377000  Entertainment  \n",
       "4   Afternoon                 1.616667        3     1.624067          Sport  "
      ]
     },
     "execution_count": 36,
     "metadata": {},
     "output_type": "execute_result"
    }
   ],
   "source": [
    "# Let's merge in the genre back into the data\n",
    "data=pd.merge(data,series_mapping,how='left',on='series_id')\n",
    "data[data['genre'].isnull()].head()\n",
    "data.head()"
   ]
  },
  {
   "cell_type": "code",
   "execution_count": 37,
   "metadata": {},
   "outputs": [
    {
     "name": "stdout",
     "output_type": "stream",
     "text": [
      "genre - Missing: 67719 - Unique: 12\n",
      "enriched_genre - Missing: 43829 - Unique: 12\n"
     ]
    }
   ],
   "source": [
    "# Check how many missing and unique values for this column\n",
    "features=['genre','enriched_genre']\n",
    "for feature in features:\n",
    "    print(feature,'- Missing:',sum(data[feature].isnull()),\n",
    "          '- Unique:', len(data[feature].unique()))"
   ]
  },
  {
   "cell_type": "code",
   "execution_count": 38,
   "metadata": {},
   "outputs": [
    {
     "data": {
      "text/html": [
       "<div>\n",
       "<style scoped>\n",
       "    .dataframe tbody tr th:only-of-type {\n",
       "        vertical-align: middle;\n",
       "    }\n",
       "\n",
       "    .dataframe tbody tr th {\n",
       "        vertical-align: top;\n",
       "    }\n",
       "\n",
       "    .dataframe thead th {\n",
       "        text-align: right;\n",
       "    }\n",
       "</style>\n",
       "<table border=\"1\" class=\"dataframe\">\n",
       "  <thead>\n",
       "    <tr style=\"text-align: right;\">\n",
       "      <th></th>\n",
       "      <th>time_of_day</th>\n",
       "      <th>enriched_genre</th>\n",
       "    </tr>\n",
       "  </thead>\n",
       "  <tbody>\n",
       "    <tr>\n",
       "      <th>0</th>\n",
       "      <td>Afternoon</td>\n",
       "      <td>Factual</td>\n",
       "    </tr>\n",
       "    <tr>\n",
       "      <th>1</th>\n",
       "      <td>Evening</td>\n",
       "      <td>Factual</td>\n",
       "    </tr>\n",
       "    <tr>\n",
       "      <th>2</th>\n",
       "      <td>Morning</td>\n",
       "      <td>Factual</td>\n",
       "    </tr>\n",
       "    <tr>\n",
       "      <th>3</th>\n",
       "      <td>Night</td>\n",
       "      <td>Factual</td>\n",
       "    </tr>\n",
       "  </tbody>\n",
       "</table>\n",
       "</div>"
      ],
      "text/plain": [
       "  time_of_day enriched_genre\n",
       "0   Afternoon        Factual\n",
       "1     Evening        Factual\n",
       "2     Morning        Factual\n",
       "3       Night        Factual"
      ]
     },
     "execution_count": 38,
     "metadata": {},
     "output_type": "execute_result"
    }
   ],
   "source": [
    "# What genre is the most popular at which time of day\n",
    "genre_by_time=pd.pivot_table(data,values='streaming_id',\n",
    "                             index=['time_of_day'],\n",
    "                             columns=['enriched_genre'],\n",
    "                             aggfunc=len).idxmax(axis=1)\n",
    "genre_by_time=pd.DataFrame(genre_by_time).reset_index().rename(columns={0:'enriched_genre'})\n",
    "genre_by_time"
   ]
  },
  {
   "cell_type": "code",
   "execution_count": 39,
   "metadata": {},
   "outputs": [
    {
     "data": {
      "text/html": [
       "<div>\n",
       "<style scoped>\n",
       "    .dataframe tbody tr th:only-of-type {\n",
       "        vertical-align: middle;\n",
       "    }\n",
       "\n",
       "    .dataframe tbody tr th {\n",
       "        vertical-align: top;\n",
       "    }\n",
       "\n",
       "    .dataframe thead th {\n",
       "        text-align: right;\n",
       "    }\n",
       "</style>\n",
       "<table border=\"1\" class=\"dataframe\">\n",
       "  <thead>\n",
       "    <tr style=\"text-align: right;\">\n",
       "      <th></th>\n",
       "      <th>hour</th>\n",
       "      <th>enriched_genre_hour</th>\n",
       "    </tr>\n",
       "  </thead>\n",
       "  <tbody>\n",
       "    <tr>\n",
       "      <th>0</th>\n",
       "      <td>0</td>\n",
       "      <td>Factual</td>\n",
       "    </tr>\n",
       "    <tr>\n",
       "      <th>1</th>\n",
       "      <td>1</td>\n",
       "      <td>Factual</td>\n",
       "    </tr>\n",
       "    <tr>\n",
       "      <th>2</th>\n",
       "      <td>2</td>\n",
       "      <td>Factual</td>\n",
       "    </tr>\n",
       "    <tr>\n",
       "      <th>3</th>\n",
       "      <td>3</td>\n",
       "      <td>Factual</td>\n",
       "    </tr>\n",
       "    <tr>\n",
       "      <th>4</th>\n",
       "      <td>4</td>\n",
       "      <td>Factual</td>\n",
       "    </tr>\n",
       "    <tr>\n",
       "      <th>5</th>\n",
       "      <td>5</td>\n",
       "      <td>Factual</td>\n",
       "    </tr>\n",
       "    <tr>\n",
       "      <th>6</th>\n",
       "      <td>6</td>\n",
       "      <td>News</td>\n",
       "    </tr>\n",
       "    <tr>\n",
       "      <th>7</th>\n",
       "      <td>7</td>\n",
       "      <td>Factual</td>\n",
       "    </tr>\n",
       "    <tr>\n",
       "      <th>8</th>\n",
       "      <td>8</td>\n",
       "      <td>Factual</td>\n",
       "    </tr>\n",
       "    <tr>\n",
       "      <th>9</th>\n",
       "      <td>9</td>\n",
       "      <td>Factual</td>\n",
       "    </tr>\n",
       "    <tr>\n",
       "      <th>10</th>\n",
       "      <td>10</td>\n",
       "      <td>Factual</td>\n",
       "    </tr>\n",
       "    <tr>\n",
       "      <th>11</th>\n",
       "      <td>11</td>\n",
       "      <td>Factual</td>\n",
       "    </tr>\n",
       "    <tr>\n",
       "      <th>12</th>\n",
       "      <td>12</td>\n",
       "      <td>Factual</td>\n",
       "    </tr>\n",
       "    <tr>\n",
       "      <th>13</th>\n",
       "      <td>13</td>\n",
       "      <td>Factual</td>\n",
       "    </tr>\n",
       "    <tr>\n",
       "      <th>14</th>\n",
       "      <td>14</td>\n",
       "      <td>Factual</td>\n",
       "    </tr>\n",
       "    <tr>\n",
       "      <th>15</th>\n",
       "      <td>15</td>\n",
       "      <td>Factual</td>\n",
       "    </tr>\n",
       "    <tr>\n",
       "      <th>16</th>\n",
       "      <td>16</td>\n",
       "      <td>Factual</td>\n",
       "    </tr>\n",
       "    <tr>\n",
       "      <th>17</th>\n",
       "      <td>17</td>\n",
       "      <td>Factual</td>\n",
       "    </tr>\n",
       "    <tr>\n",
       "      <th>18</th>\n",
       "      <td>18</td>\n",
       "      <td>Factual</td>\n",
       "    </tr>\n",
       "    <tr>\n",
       "      <th>19</th>\n",
       "      <td>19</td>\n",
       "      <td>Factual</td>\n",
       "    </tr>\n",
       "    <tr>\n",
       "      <th>20</th>\n",
       "      <td>20</td>\n",
       "      <td>Factual</td>\n",
       "    </tr>\n",
       "    <tr>\n",
       "      <th>21</th>\n",
       "      <td>21</td>\n",
       "      <td>Drama</td>\n",
       "    </tr>\n",
       "    <tr>\n",
       "      <th>22</th>\n",
       "      <td>22</td>\n",
       "      <td>Drama</td>\n",
       "    </tr>\n",
       "    <tr>\n",
       "      <th>23</th>\n",
       "      <td>23</td>\n",
       "      <td>Factual</td>\n",
       "    </tr>\n",
       "  </tbody>\n",
       "</table>\n",
       "</div>"
      ],
      "text/plain": [
       "    hour enriched_genre_hour\n",
       "0      0             Factual\n",
       "1      1             Factual\n",
       "2      2             Factual\n",
       "3      3             Factual\n",
       "4      4             Factual\n",
       "5      5             Factual\n",
       "6      6                News\n",
       "7      7             Factual\n",
       "8      8             Factual\n",
       "9      9             Factual\n",
       "10    10             Factual\n",
       "11    11             Factual\n",
       "12    12             Factual\n",
       "13    13             Factual\n",
       "14    14             Factual\n",
       "15    15             Factual\n",
       "16    16             Factual\n",
       "17    17             Factual\n",
       "18    18             Factual\n",
       "19    19             Factual\n",
       "20    20             Factual\n",
       "21    21               Drama\n",
       "22    22               Drama\n",
       "23    23             Factual"
      ]
     },
     "execution_count": 39,
     "metadata": {},
     "output_type": "execute_result"
    }
   ],
   "source": [
    "# What genre is the most popular at which hour of day\n",
    "# Rmk: we first need to build this new feature\n",
    "data['hour']=data.start_date_time.apply(lambda x:x.hour)\n",
    "genre_by_hour=pd.pivot_table(data,values='streaming_id',\n",
    "                             index=['hour'],\n",
    "                             columns=['enriched_genre'],\n",
    "                             aggfunc=len).idxmax(axis=1)\n",
    "genre_by_hour=pd.DataFrame(genre_by_hour).reset_index().rename(columns={0:'enriched_genre_hour'})\n",
    "genre_by_hour"
   ]
  },
  {
   "cell_type": "code",
   "execution_count": 40,
   "metadata": {},
   "outputs": [
    {
     "data": {
      "text/html": [
       "<div>\n",
       "<style scoped>\n",
       "    .dataframe tbody tr th:only-of-type {\n",
       "        vertical-align: middle;\n",
       "    }\n",
       "\n",
       "    .dataframe tbody tr th {\n",
       "        vertical-align: top;\n",
       "    }\n",
       "\n",
       "    .dataframe thead th {\n",
       "        text-align: right;\n",
       "    }\n",
       "</style>\n",
       "<table border=\"1\" class=\"dataframe\">\n",
       "  <thead>\n",
       "    <tr style=\"text-align: right;\">\n",
       "      <th></th>\n",
       "      <th>user_id</th>\n",
       "      <th>program_id</th>\n",
       "      <th>series_id</th>\n",
       "      <th>genre</th>\n",
       "      <th>programme_duration</th>\n",
       "      <th>streaming_id</th>\n",
       "      <th>start_date_time</th>\n",
       "      <th>time_viewed</th>\n",
       "      <th>weekday</th>\n",
       "      <th>time_of_day</th>\n",
       "      <th>programme_duration_mins</th>\n",
       "      <th>twoweek</th>\n",
       "      <th>min_watched</th>\n",
       "      <th>enriched_genre</th>\n",
       "      <th>hour</th>\n",
       "      <th>enriched_genre_hour</th>\n",
       "    </tr>\n",
       "  </thead>\n",
       "  <tbody>\n",
       "    <tr>\n",
       "      <th>0</th>\n",
       "      <td>GUNMFC</td>\n",
       "      <td>BUNBFKC</td>\n",
       "      <td>RFMHXZ</td>\n",
       "      <td>Factual</td>\n",
       "      <td>00:00:21</td>\n",
       "      <td>1486911129420_1</td>\n",
       "      <td>2017-02-12 15:21:24.544</td>\n",
       "      <td>20920.0</td>\n",
       "      <td>weekday_6</td>\n",
       "      <td>Afternoon</td>\n",
       "      <td>0.350000</td>\n",
       "      <td>3</td>\n",
       "      <td>0.348667</td>\n",
       "      <td>Factual</td>\n",
       "      <td>15</td>\n",
       "      <td>Factual</td>\n",
       "    </tr>\n",
       "    <tr>\n",
       "      <th>1</th>\n",
       "      <td>GUNMFC</td>\n",
       "      <td>SBTKDEW</td>\n",
       "      <td>EWBFGO</td>\n",
       "      <td>Comedy</td>\n",
       "      <td>00:01:51</td>\n",
       "      <td>1484864257965_1</td>\n",
       "      <td>2017-01-19 22:47:04.648</td>\n",
       "      <td>111285.0</td>\n",
       "      <td>weekday_3</td>\n",
       "      <td>Evening</td>\n",
       "      <td>1.850000</td>\n",
       "      <td>1</td>\n",
       "      <td>1.854750</td>\n",
       "      <td>Comedy</td>\n",
       "      <td>22</td>\n",
       "      <td>Drama</td>\n",
       "    </tr>\n",
       "    <tr>\n",
       "      <th>2</th>\n",
       "      <td>GUNMFC</td>\n",
       "      <td>AXXRZDT</td>\n",
       "      <td>HFZOYT</td>\n",
       "      <td>Factual</td>\n",
       "      <td>00:00:30</td>\n",
       "      <td>1487099603980_1</td>\n",
       "      <td>2017-02-14 19:42:36.667</td>\n",
       "      <td>29945.0</td>\n",
       "      <td>weekday_1</td>\n",
       "      <td>Evening</td>\n",
       "      <td>0.500000</td>\n",
       "      <td>3</td>\n",
       "      <td>0.499083</td>\n",
       "      <td>Factual</td>\n",
       "      <td>19</td>\n",
       "      <td>Factual</td>\n",
       "    </tr>\n",
       "    <tr>\n",
       "      <th>3</th>\n",
       "      <td>GUNMFC</td>\n",
       "      <td>WEXFFOO</td>\n",
       "      <td>HZCOOC</td>\n",
       "      <td>Entertainment</td>\n",
       "      <td>00:01:22</td>\n",
       "      <td>1484773546557_1</td>\n",
       "      <td>2017-01-18 21:35:11.466</td>\n",
       "      <td>82620.0</td>\n",
       "      <td>weekday_2</td>\n",
       "      <td>Evening</td>\n",
       "      <td>1.366667</td>\n",
       "      <td>1</td>\n",
       "      <td>1.377000</td>\n",
       "      <td>Entertainment</td>\n",
       "      <td>21</td>\n",
       "      <td>Drama</td>\n",
       "    </tr>\n",
       "    <tr>\n",
       "      <th>4</th>\n",
       "      <td>GUNMFC</td>\n",
       "      <td>AUQGTSV</td>\n",
       "      <td>YMAXJD</td>\n",
       "      <td>Sport</td>\n",
       "      <td>00:01:37</td>\n",
       "      <td>1486911176609_1</td>\n",
       "      <td>2017-02-12 15:22:08.965</td>\n",
       "      <td>97444.0</td>\n",
       "      <td>weekday_6</td>\n",
       "      <td>Afternoon</td>\n",
       "      <td>1.616667</td>\n",
       "      <td>3</td>\n",
       "      <td>1.624067</td>\n",
       "      <td>Sport</td>\n",
       "      <td>15</td>\n",
       "      <td>Factual</td>\n",
       "    </tr>\n",
       "  </tbody>\n",
       "</table>\n",
       "</div>"
      ],
      "text/plain": [
       "  user_id program_id series_id          genre programme_duration  \\\n",
       "0  GUNMFC    BUNBFKC    RFMHXZ        Factual           00:00:21   \n",
       "1  GUNMFC    SBTKDEW    EWBFGO         Comedy           00:01:51   \n",
       "2  GUNMFC    AXXRZDT    HFZOYT        Factual           00:00:30   \n",
       "3  GUNMFC    WEXFFOO    HZCOOC  Entertainment           00:01:22   \n",
       "4  GUNMFC    AUQGTSV    YMAXJD          Sport           00:01:37   \n",
       "\n",
       "      streaming_id         start_date_time  time_viewed    weekday  \\\n",
       "0  1486911129420_1 2017-02-12 15:21:24.544      20920.0  weekday_6   \n",
       "1  1484864257965_1 2017-01-19 22:47:04.648     111285.0  weekday_3   \n",
       "2  1487099603980_1 2017-02-14 19:42:36.667      29945.0  weekday_1   \n",
       "3  1484773546557_1 2017-01-18 21:35:11.466      82620.0  weekday_2   \n",
       "4  1486911176609_1 2017-02-12 15:22:08.965      97444.0  weekday_6   \n",
       "\n",
       "  time_of_day  programme_duration_mins  twoweek  min_watched enriched_genre  \\\n",
       "0   Afternoon                 0.350000        3     0.348667        Factual   \n",
       "1     Evening                 1.850000        1     1.854750         Comedy   \n",
       "2     Evening                 0.500000        3     0.499083        Factual   \n",
       "3     Evening                 1.366667        1     1.377000  Entertainment   \n",
       "4   Afternoon                 1.616667        3     1.624067          Sport   \n",
       "\n",
       "   hour enriched_genre_hour  \n",
       "0    15             Factual  \n",
       "1    22               Drama  \n",
       "2    19             Factual  \n",
       "3    21               Drama  \n",
       "4    15             Factual  "
      ]
     },
     "execution_count": 40,
     "metadata": {},
     "output_type": "execute_result"
    }
   ],
   "source": [
    "# Let's merge in the genre back into the data\n",
    "data=pd.merge(data,genre_by_hour,how='left',on='hour')\n",
    "data.head()"
   ]
  },
  {
   "cell_type": "code",
   "execution_count": 41,
   "metadata": {},
   "outputs": [],
   "source": [
    "# Function that imputes a genre based on the series id or the time of day if data is missing\n",
    "def impute_genre(row):\n",
    "    if isinstance(row['genre'],str):\n",
    "        return row['genre']\n",
    "    elif isinstance(row['enriched_genre'],str):\n",
    "        return row['enriched_genre']\n",
    "    else:\n",
    "        return row['enriched_genre_hour']"
   ]
  },
  {
   "cell_type": "code",
   "execution_count": 43,
   "metadata": {},
   "outputs": [
    {
     "data": {
      "text/html": [
       "<div>\n",
       "<style scoped>\n",
       "    .dataframe tbody tr th:only-of-type {\n",
       "        vertical-align: middle;\n",
       "    }\n",
       "\n",
       "    .dataframe tbody tr th {\n",
       "        vertical-align: top;\n",
       "    }\n",
       "\n",
       "    .dataframe thead th {\n",
       "        text-align: right;\n",
       "    }\n",
       "</style>\n",
       "<table border=\"1\" class=\"dataframe\">\n",
       "  <thead>\n",
       "    <tr style=\"text-align: right;\">\n",
       "      <th></th>\n",
       "      <th>user_id</th>\n",
       "      <th>program_id</th>\n",
       "      <th>series_id</th>\n",
       "      <th>genre</th>\n",
       "      <th>programme_duration</th>\n",
       "      <th>streaming_id</th>\n",
       "      <th>start_date_time</th>\n",
       "      <th>time_viewed</th>\n",
       "      <th>weekday</th>\n",
       "      <th>time_of_day</th>\n",
       "      <th>programme_duration_mins</th>\n",
       "      <th>twoweek</th>\n",
       "      <th>min_watched</th>\n",
       "      <th>enriched_genre</th>\n",
       "      <th>hour</th>\n",
       "      <th>enriched_genre_hour</th>\n",
       "    </tr>\n",
       "  </thead>\n",
       "  <tbody>\n",
       "    <tr>\n",
       "      <th>0</th>\n",
       "      <td>GUNMFC</td>\n",
       "      <td>BUNBFKC</td>\n",
       "      <td>RFMHXZ</td>\n",
       "      <td>Factual</td>\n",
       "      <td>00:00:21</td>\n",
       "      <td>1486911129420_1</td>\n",
       "      <td>2017-02-12 15:21:24.544</td>\n",
       "      <td>20920.0</td>\n",
       "      <td>weekday_6</td>\n",
       "      <td>Afternoon</td>\n",
       "      <td>0.350000</td>\n",
       "      <td>3</td>\n",
       "      <td>0.348667</td>\n",
       "      <td>Factual</td>\n",
       "      <td>15</td>\n",
       "      <td>Factual</td>\n",
       "    </tr>\n",
       "    <tr>\n",
       "      <th>1</th>\n",
       "      <td>GUNMFC</td>\n",
       "      <td>SBTKDEW</td>\n",
       "      <td>EWBFGO</td>\n",
       "      <td>Comedy</td>\n",
       "      <td>00:01:51</td>\n",
       "      <td>1484864257965_1</td>\n",
       "      <td>2017-01-19 22:47:04.648</td>\n",
       "      <td>111285.0</td>\n",
       "      <td>weekday_3</td>\n",
       "      <td>Evening</td>\n",
       "      <td>1.850000</td>\n",
       "      <td>1</td>\n",
       "      <td>1.854750</td>\n",
       "      <td>Comedy</td>\n",
       "      <td>22</td>\n",
       "      <td>Drama</td>\n",
       "    </tr>\n",
       "    <tr>\n",
       "      <th>2</th>\n",
       "      <td>GUNMFC</td>\n",
       "      <td>AXXRZDT</td>\n",
       "      <td>HFZOYT</td>\n",
       "      <td>Factual</td>\n",
       "      <td>00:00:30</td>\n",
       "      <td>1487099603980_1</td>\n",
       "      <td>2017-02-14 19:42:36.667</td>\n",
       "      <td>29945.0</td>\n",
       "      <td>weekday_1</td>\n",
       "      <td>Evening</td>\n",
       "      <td>0.500000</td>\n",
       "      <td>3</td>\n",
       "      <td>0.499083</td>\n",
       "      <td>Factual</td>\n",
       "      <td>19</td>\n",
       "      <td>Factual</td>\n",
       "    </tr>\n",
       "    <tr>\n",
       "      <th>3</th>\n",
       "      <td>GUNMFC</td>\n",
       "      <td>WEXFFOO</td>\n",
       "      <td>HZCOOC</td>\n",
       "      <td>Entertainment</td>\n",
       "      <td>00:01:22</td>\n",
       "      <td>1484773546557_1</td>\n",
       "      <td>2017-01-18 21:35:11.466</td>\n",
       "      <td>82620.0</td>\n",
       "      <td>weekday_2</td>\n",
       "      <td>Evening</td>\n",
       "      <td>1.366667</td>\n",
       "      <td>1</td>\n",
       "      <td>1.377000</td>\n",
       "      <td>Entertainment</td>\n",
       "      <td>21</td>\n",
       "      <td>Drama</td>\n",
       "    </tr>\n",
       "    <tr>\n",
       "      <th>4</th>\n",
       "      <td>GUNMFC</td>\n",
       "      <td>AUQGTSV</td>\n",
       "      <td>YMAXJD</td>\n",
       "      <td>Sport</td>\n",
       "      <td>00:01:37</td>\n",
       "      <td>1486911176609_1</td>\n",
       "      <td>2017-02-12 15:22:08.965</td>\n",
       "      <td>97444.0</td>\n",
       "      <td>weekday_6</td>\n",
       "      <td>Afternoon</td>\n",
       "      <td>1.616667</td>\n",
       "      <td>3</td>\n",
       "      <td>1.624067</td>\n",
       "      <td>Sport</td>\n",
       "      <td>15</td>\n",
       "      <td>Factual</td>\n",
       "    </tr>\n",
       "  </tbody>\n",
       "</table>\n",
       "</div>"
      ],
      "text/plain": [
       "  user_id program_id series_id          genre programme_duration  \\\n",
       "0  GUNMFC    BUNBFKC    RFMHXZ        Factual           00:00:21   \n",
       "1  GUNMFC    SBTKDEW    EWBFGO         Comedy           00:01:51   \n",
       "2  GUNMFC    AXXRZDT    HFZOYT        Factual           00:00:30   \n",
       "3  GUNMFC    WEXFFOO    HZCOOC  Entertainment           00:01:22   \n",
       "4  GUNMFC    AUQGTSV    YMAXJD          Sport           00:01:37   \n",
       "\n",
       "      streaming_id         start_date_time  time_viewed    weekday  \\\n",
       "0  1486911129420_1 2017-02-12 15:21:24.544      20920.0  weekday_6   \n",
       "1  1484864257965_1 2017-01-19 22:47:04.648     111285.0  weekday_3   \n",
       "2  1487099603980_1 2017-02-14 19:42:36.667      29945.0  weekday_1   \n",
       "3  1484773546557_1 2017-01-18 21:35:11.466      82620.0  weekday_2   \n",
       "4  1486911176609_1 2017-02-12 15:22:08.965      97444.0  weekday_6   \n",
       "\n",
       "  time_of_day  programme_duration_mins  twoweek  min_watched enriched_genre  \\\n",
       "0   Afternoon                 0.350000        3     0.348667        Factual   \n",
       "1     Evening                 1.850000        1     1.854750         Comedy   \n",
       "2     Evening                 0.500000        3     0.499083        Factual   \n",
       "3     Evening                 1.366667        1     1.377000  Entertainment   \n",
       "4   Afternoon                 1.616667        3     1.624067          Sport   \n",
       "\n",
       "   hour enriched_genre_hour  \n",
       "0    15             Factual  \n",
       "1    22               Drama  \n",
       "2    19             Factual  \n",
       "3    21               Drama  \n",
       "4    15             Factual  "
      ]
     },
     "execution_count": 43,
     "metadata": {},
     "output_type": "execute_result"
    }
   ],
   "source": [
    "# Apply the function to the dataframe\n",
    "data['enriched_genre']=data.apply(impute_genre, axis=1)\n",
    "data.head()"
   ]
  },
  {
   "cell_type": "code",
   "execution_count": 44,
   "metadata": {},
   "outputs": [
    {
     "name": "stdout",
     "output_type": "stream",
     "text": [
      "genre - Missing: 67719 - Unique: 12\n",
      "enriched_genre - Missing: 0 - Unique: 11\n"
     ]
    }
   ],
   "source": [
    "# Check how many missing and unique values for this column\n",
    "features=['genre','enriched_genre']\n",
    "for feature in features:\n",
    "    print(feature,'- Missing:',sum(data[feature].isnull()),\n",
    "          '- Unique:', len(data[feature].unique()))"
   ]
  },
  {
   "cell_type": "code",
   "execution_count": 45,
   "metadata": {},
   "outputs": [
    {
     "data": {
      "text/html": [
       "<div>\n",
       "<style scoped>\n",
       "    .dataframe tbody tr th:only-of-type {\n",
       "        vertical-align: middle;\n",
       "    }\n",
       "\n",
       "    .dataframe tbody tr th {\n",
       "        vertical-align: top;\n",
       "    }\n",
       "\n",
       "    .dataframe thead th {\n",
       "        text-align: right;\n",
       "    }\n",
       "</style>\n",
       "<table border=\"1\" class=\"dataframe\">\n",
       "  <thead>\n",
       "    <tr style=\"text-align: right;\">\n",
       "      <th></th>\n",
       "      <th>user_id</th>\n",
       "      <th>program_id</th>\n",
       "      <th>series_id</th>\n",
       "      <th>genre</th>\n",
       "      <th>programme_duration</th>\n",
       "      <th>streaming_id</th>\n",
       "      <th>start_date_time</th>\n",
       "      <th>time_viewed</th>\n",
       "      <th>weekday</th>\n",
       "      <th>time_of_day</th>\n",
       "      <th>programme_duration_mins</th>\n",
       "      <th>twoweek</th>\n",
       "      <th>min_watched</th>\n",
       "      <th>enriched_genre</th>\n",
       "      <th>hour</th>\n",
       "      <th>enriched_genre_hour</th>\n",
       "    </tr>\n",
       "  </thead>\n",
       "  <tbody>\n",
       "    <tr>\n",
       "      <th>134</th>\n",
       "      <td>EBWVEE</td>\n",
       "      <td>CKVVVUL</td>\n",
       "      <td>PCVHKP</td>\n",
       "      <td>NaN</td>\n",
       "      <td>00:00:00</td>\n",
       "      <td>1485900618555_1</td>\n",
       "      <td>2017-01-31 22:40:20.049</td>\n",
       "      <td>3584.0</td>\n",
       "      <td>weekday_1</td>\n",
       "      <td>Evening</td>\n",
       "      <td>0.0</td>\n",
       "      <td>2</td>\n",
       "      <td>0.059733</td>\n",
       "      <td>Factual</td>\n",
       "      <td>22</td>\n",
       "      <td>Drama</td>\n",
       "    </tr>\n",
       "    <tr>\n",
       "      <th>140</th>\n",
       "      <td>EBWVEE</td>\n",
       "      <td>NaN</td>\n",
       "      <td>NaN</td>\n",
       "      <td>NaN</td>\n",
       "      <td>NaN</td>\n",
       "      <td>1489439401348_1</td>\n",
       "      <td>2017-03-13 21:40:02.421</td>\n",
       "      <td>3730.0</td>\n",
       "      <td>weekday_0</td>\n",
       "      <td>Evening</td>\n",
       "      <td>NaN</td>\n",
       "      <td>5</td>\n",
       "      <td>0.062167</td>\n",
       "      <td>Drama</td>\n",
       "      <td>21</td>\n",
       "      <td>Drama</td>\n",
       "    </tr>\n",
       "    <tr>\n",
       "      <th>141</th>\n",
       "      <td>EBWVEE</td>\n",
       "      <td>NaN</td>\n",
       "      <td>NaN</td>\n",
       "      <td>NaN</td>\n",
       "      <td>NaN</td>\n",
       "      <td>1485100892026_1</td>\n",
       "      <td>2017-01-22 16:31:34.292</td>\n",
       "      <td>3634.0</td>\n",
       "      <td>weekday_6</td>\n",
       "      <td>Afternoon</td>\n",
       "      <td>NaN</td>\n",
       "      <td>1</td>\n",
       "      <td>0.060567</td>\n",
       "      <td>Factual</td>\n",
       "      <td>16</td>\n",
       "      <td>Factual</td>\n",
       "    </tr>\n",
       "    <tr>\n",
       "      <th>142</th>\n",
       "      <td>EBWVEE</td>\n",
       "      <td>NaN</td>\n",
       "      <td>NaN</td>\n",
       "      <td>NaN</td>\n",
       "      <td>NaN</td>\n",
       "      <td>1489441109070_3</td>\n",
       "      <td>2017-03-13 22:08:30.203</td>\n",
       "      <td>3651.0</td>\n",
       "      <td>weekday_0</td>\n",
       "      <td>Evening</td>\n",
       "      <td>NaN</td>\n",
       "      <td>5</td>\n",
       "      <td>0.060850</td>\n",
       "      <td>Drama</td>\n",
       "      <td>22</td>\n",
       "      <td>Drama</td>\n",
       "    </tr>\n",
       "    <tr>\n",
       "      <th>143</th>\n",
       "      <td>EBWVEE</td>\n",
       "      <td>NaN</td>\n",
       "      <td>NaN</td>\n",
       "      <td>NaN</td>\n",
       "      <td>NaN</td>\n",
       "      <td>1493538827057_2</td>\n",
       "      <td>2017-04-30 08:23:47.559</td>\n",
       "      <td>3665.0</td>\n",
       "      <td>weekday_6</td>\n",
       "      <td>Morning</td>\n",
       "      <td>NaN</td>\n",
       "      <td>8</td>\n",
       "      <td>0.061083</td>\n",
       "      <td>Factual</td>\n",
       "      <td>8</td>\n",
       "      <td>Factual</td>\n",
       "    </tr>\n",
       "  </tbody>\n",
       "</table>\n",
       "</div>"
      ],
      "text/plain": [
       "    user_id program_id series_id genre programme_duration     streaming_id  \\\n",
       "134  EBWVEE    CKVVVUL    PCVHKP   NaN           00:00:00  1485900618555_1   \n",
       "140  EBWVEE        NaN       NaN   NaN                NaN  1489439401348_1   \n",
       "141  EBWVEE        NaN       NaN   NaN                NaN  1485100892026_1   \n",
       "142  EBWVEE        NaN       NaN   NaN                NaN  1489441109070_3   \n",
       "143  EBWVEE        NaN       NaN   NaN                NaN  1493538827057_2   \n",
       "\n",
       "            start_date_time  time_viewed    weekday time_of_day  \\\n",
       "134 2017-01-31 22:40:20.049       3584.0  weekday_1     Evening   \n",
       "140 2017-03-13 21:40:02.421       3730.0  weekday_0     Evening   \n",
       "141 2017-01-22 16:31:34.292       3634.0  weekday_6   Afternoon   \n",
       "142 2017-03-13 22:08:30.203       3651.0  weekday_0     Evening   \n",
       "143 2017-04-30 08:23:47.559       3665.0  weekday_6     Morning   \n",
       "\n",
       "     programme_duration_mins  twoweek  min_watched enriched_genre  hour  \\\n",
       "134                      0.0        2     0.059733        Factual    22   \n",
       "140                      NaN        5     0.062167          Drama    21   \n",
       "141                      NaN        1     0.060567        Factual    16   \n",
       "142                      NaN        5     0.060850          Drama    22   \n",
       "143                      NaN        8     0.061083        Factual     8   \n",
       "\n",
       "    enriched_genre_hour  \n",
       "134               Drama  \n",
       "140               Drama  \n",
       "141             Factual  \n",
       "142               Drama  \n",
       "143             Factual  "
      ]
     },
     "execution_count": 45,
     "metadata": {},
     "output_type": "execute_result"
    }
   ],
   "source": [
    "# Check whether this has worked\n",
    "data[data['genre'].isnull()].head()"
   ]
  },
  {
   "cell_type": "code",
   "execution_count": 46,
   "metadata": {},
   "outputs": [
    {
     "name": "stdout",
     "output_type": "stream",
     "text": [
      "genre\n",
      "Children's           15.0\n",
      "Comedy               28.0\n",
      "Drama                45.0\n",
      "Entertainment        30.0\n",
      "Factual              45.0\n",
      "Learning             10.0\n",
      "Music                60.0\n",
      "News                 30.0\n",
      "Religion & Ethics    60.0\n",
      "Sport                80.0\n",
      "Weather              30.0\n",
      "Name: programme_duration_mins, dtype: float64\n"
     ]
    },
    {
     "data": {
      "text/html": [
       "<div>\n",
       "<style scoped>\n",
       "    .dataframe tbody tr th:only-of-type {\n",
       "        vertical-align: middle;\n",
       "    }\n",
       "\n",
       "    .dataframe tbody tr th {\n",
       "        vertical-align: top;\n",
       "    }\n",
       "\n",
       "    .dataframe thead th {\n",
       "        text-align: right;\n",
       "    }\n",
       "</style>\n",
       "<table border=\"1\" class=\"dataframe\">\n",
       "  <thead>\n",
       "    <tr style=\"text-align: right;\">\n",
       "      <th></th>\n",
       "      <th>enriched_genre</th>\n",
       "      <th>enriched_duration_mins</th>\n",
       "    </tr>\n",
       "  </thead>\n",
       "  <tbody>\n",
       "    <tr>\n",
       "      <th>0</th>\n",
       "      <td>Children's</td>\n",
       "      <td>15.0</td>\n",
       "    </tr>\n",
       "    <tr>\n",
       "      <th>1</th>\n",
       "      <td>Comedy</td>\n",
       "      <td>28.0</td>\n",
       "    </tr>\n",
       "    <tr>\n",
       "      <th>2</th>\n",
       "      <td>Drama</td>\n",
       "      <td>45.0</td>\n",
       "    </tr>\n",
       "    <tr>\n",
       "      <th>3</th>\n",
       "      <td>Entertainment</td>\n",
       "      <td>30.0</td>\n",
       "    </tr>\n",
       "    <tr>\n",
       "      <th>4</th>\n",
       "      <td>Factual</td>\n",
       "      <td>45.0</td>\n",
       "    </tr>\n",
       "    <tr>\n",
       "      <th>5</th>\n",
       "      <td>Learning</td>\n",
       "      <td>10.0</td>\n",
       "    </tr>\n",
       "    <tr>\n",
       "      <th>6</th>\n",
       "      <td>Music</td>\n",
       "      <td>60.0</td>\n",
       "    </tr>\n",
       "    <tr>\n",
       "      <th>7</th>\n",
       "      <td>News</td>\n",
       "      <td>30.0</td>\n",
       "    </tr>\n",
       "    <tr>\n",
       "      <th>8</th>\n",
       "      <td>Religion &amp; Ethics</td>\n",
       "      <td>60.0</td>\n",
       "    </tr>\n",
       "    <tr>\n",
       "      <th>9</th>\n",
       "      <td>Sport</td>\n",
       "      <td>80.0</td>\n",
       "    </tr>\n",
       "    <tr>\n",
       "      <th>10</th>\n",
       "      <td>Weather</td>\n",
       "      <td>30.0</td>\n",
       "    </tr>\n",
       "  </tbody>\n",
       "</table>\n",
       "</div>"
      ],
      "text/plain": [
       "       enriched_genre  enriched_duration_mins\n",
       "0          Children's                    15.0\n",
       "1              Comedy                    28.0\n",
       "2               Drama                    45.0\n",
       "3       Entertainment                    30.0\n",
       "4             Factual                    45.0\n",
       "5            Learning                    10.0\n",
       "6               Music                    60.0\n",
       "7                News                    30.0\n",
       "8   Religion & Ethics                    60.0\n",
       "9               Sport                    80.0\n",
       "10            Weather                    30.0"
      ]
     },
     "execution_count": 46,
     "metadata": {},
     "output_type": "execute_result"
    }
   ],
   "source": [
    "# Check the average length of a programme based on genre \n",
    "# Rmk: we rename the columns for merging afterwards\n",
    "length_by_genre=data.groupby('genre')['programme_duration_mins'].median()\n",
    "length_by_genre=pd.DataFrame(length_by_genre).reset_index().rename(columns={'programme_duration_mins':\n",
    "                                                            'enriched_duration_mins',\n",
    "                                                            'genre':'enriched_genre'})\n",
    "length_by_genre\n",
    "#Creates table of genre and median length"
   ]
  },
  {
   "cell_type": "code",
   "execution_count": 47,
   "metadata": {},
   "outputs": [
    {
     "data": {
      "text/html": [
       "<div>\n",
       "<style scoped>\n",
       "    .dataframe tbody tr th:only-of-type {\n",
       "        vertical-align: middle;\n",
       "    }\n",
       "\n",
       "    .dataframe tbody tr th {\n",
       "        vertical-align: top;\n",
       "    }\n",
       "\n",
       "    .dataframe thead th {\n",
       "        text-align: right;\n",
       "    }\n",
       "</style>\n",
       "<table border=\"1\" class=\"dataframe\">\n",
       "  <thead>\n",
       "    <tr style=\"text-align: right;\">\n",
       "      <th></th>\n",
       "      <th>user_id</th>\n",
       "      <th>program_id</th>\n",
       "      <th>series_id</th>\n",
       "      <th>genre</th>\n",
       "      <th>programme_duration</th>\n",
       "      <th>streaming_id</th>\n",
       "      <th>start_date_time</th>\n",
       "      <th>time_viewed</th>\n",
       "      <th>weekday</th>\n",
       "      <th>time_of_day</th>\n",
       "      <th>programme_duration_mins</th>\n",
       "      <th>twoweek</th>\n",
       "      <th>min_watched</th>\n",
       "      <th>enriched_genre</th>\n",
       "      <th>hour</th>\n",
       "      <th>enriched_genre_hour</th>\n",
       "      <th>enriched_duration_mins</th>\n",
       "    </tr>\n",
       "  </thead>\n",
       "  <tbody>\n",
       "    <tr>\n",
       "      <th>0</th>\n",
       "      <td>GUNMFC</td>\n",
       "      <td>BUNBFKC</td>\n",
       "      <td>RFMHXZ</td>\n",
       "      <td>Factual</td>\n",
       "      <td>00:00:21</td>\n",
       "      <td>1486911129420_1</td>\n",
       "      <td>2017-02-12 15:21:24.544</td>\n",
       "      <td>20920.0</td>\n",
       "      <td>weekday_6</td>\n",
       "      <td>Afternoon</td>\n",
       "      <td>0.350000</td>\n",
       "      <td>3</td>\n",
       "      <td>0.348667</td>\n",
       "      <td>Factual</td>\n",
       "      <td>15</td>\n",
       "      <td>Factual</td>\n",
       "      <td>45.0</td>\n",
       "    </tr>\n",
       "    <tr>\n",
       "      <th>1</th>\n",
       "      <td>GUNMFC</td>\n",
       "      <td>SBTKDEW</td>\n",
       "      <td>EWBFGO</td>\n",
       "      <td>Comedy</td>\n",
       "      <td>00:01:51</td>\n",
       "      <td>1484864257965_1</td>\n",
       "      <td>2017-01-19 22:47:04.648</td>\n",
       "      <td>111285.0</td>\n",
       "      <td>weekday_3</td>\n",
       "      <td>Evening</td>\n",
       "      <td>1.850000</td>\n",
       "      <td>1</td>\n",
       "      <td>1.854750</td>\n",
       "      <td>Comedy</td>\n",
       "      <td>22</td>\n",
       "      <td>Drama</td>\n",
       "      <td>28.0</td>\n",
       "    </tr>\n",
       "    <tr>\n",
       "      <th>2</th>\n",
       "      <td>GUNMFC</td>\n",
       "      <td>AXXRZDT</td>\n",
       "      <td>HFZOYT</td>\n",
       "      <td>Factual</td>\n",
       "      <td>00:00:30</td>\n",
       "      <td>1487099603980_1</td>\n",
       "      <td>2017-02-14 19:42:36.667</td>\n",
       "      <td>29945.0</td>\n",
       "      <td>weekday_1</td>\n",
       "      <td>Evening</td>\n",
       "      <td>0.500000</td>\n",
       "      <td>3</td>\n",
       "      <td>0.499083</td>\n",
       "      <td>Factual</td>\n",
       "      <td>19</td>\n",
       "      <td>Factual</td>\n",
       "      <td>45.0</td>\n",
       "    </tr>\n",
       "    <tr>\n",
       "      <th>3</th>\n",
       "      <td>GUNMFC</td>\n",
       "      <td>WEXFFOO</td>\n",
       "      <td>HZCOOC</td>\n",
       "      <td>Entertainment</td>\n",
       "      <td>00:01:22</td>\n",
       "      <td>1484773546557_1</td>\n",
       "      <td>2017-01-18 21:35:11.466</td>\n",
       "      <td>82620.0</td>\n",
       "      <td>weekday_2</td>\n",
       "      <td>Evening</td>\n",
       "      <td>1.366667</td>\n",
       "      <td>1</td>\n",
       "      <td>1.377000</td>\n",
       "      <td>Entertainment</td>\n",
       "      <td>21</td>\n",
       "      <td>Drama</td>\n",
       "      <td>30.0</td>\n",
       "    </tr>\n",
       "    <tr>\n",
       "      <th>4</th>\n",
       "      <td>GUNMFC</td>\n",
       "      <td>AUQGTSV</td>\n",
       "      <td>YMAXJD</td>\n",
       "      <td>Sport</td>\n",
       "      <td>00:01:37</td>\n",
       "      <td>1486911176609_1</td>\n",
       "      <td>2017-02-12 15:22:08.965</td>\n",
       "      <td>97444.0</td>\n",
       "      <td>weekday_6</td>\n",
       "      <td>Afternoon</td>\n",
       "      <td>1.616667</td>\n",
       "      <td>3</td>\n",
       "      <td>1.624067</td>\n",
       "      <td>Sport</td>\n",
       "      <td>15</td>\n",
       "      <td>Factual</td>\n",
       "      <td>80.0</td>\n",
       "    </tr>\n",
       "  </tbody>\n",
       "</table>\n",
       "</div>"
      ],
      "text/plain": [
       "  user_id program_id series_id          genre programme_duration  \\\n",
       "0  GUNMFC    BUNBFKC    RFMHXZ        Factual           00:00:21   \n",
       "1  GUNMFC    SBTKDEW    EWBFGO         Comedy           00:01:51   \n",
       "2  GUNMFC    AXXRZDT    HFZOYT        Factual           00:00:30   \n",
       "3  GUNMFC    WEXFFOO    HZCOOC  Entertainment           00:01:22   \n",
       "4  GUNMFC    AUQGTSV    YMAXJD          Sport           00:01:37   \n",
       "\n",
       "      streaming_id         start_date_time  time_viewed    weekday  \\\n",
       "0  1486911129420_1 2017-02-12 15:21:24.544      20920.0  weekday_6   \n",
       "1  1484864257965_1 2017-01-19 22:47:04.648     111285.0  weekday_3   \n",
       "2  1487099603980_1 2017-02-14 19:42:36.667      29945.0  weekday_1   \n",
       "3  1484773546557_1 2017-01-18 21:35:11.466      82620.0  weekday_2   \n",
       "4  1486911176609_1 2017-02-12 15:22:08.965      97444.0  weekday_6   \n",
       "\n",
       "  time_of_day  programme_duration_mins  twoweek  min_watched enriched_genre  \\\n",
       "0   Afternoon                 0.350000        3     0.348667        Factual   \n",
       "1     Evening                 1.850000        1     1.854750         Comedy   \n",
       "2     Evening                 0.500000        3     0.499083        Factual   \n",
       "3     Evening                 1.366667        1     1.377000  Entertainment   \n",
       "4   Afternoon                 1.616667        3     1.624067          Sport   \n",
       "\n",
       "   hour enriched_genre_hour  enriched_duration_mins  \n",
       "0    15             Factual                    45.0  \n",
       "1    22               Drama                    28.0  \n",
       "2    19             Factual                    45.0  \n",
       "3    21               Drama                    30.0  \n",
       "4    15             Factual                    80.0  "
      ]
     },
     "execution_count": 47,
     "metadata": {},
     "output_type": "execute_result"
    }
   ],
   "source": [
    "# Let's merge in the duration back into the data\n",
    "data=pd.merge(data,length_by_genre,how='left',on='enriched_genre')\n",
    "data.head()"
   ]
  },
  {
   "cell_type": "code",
   "execution_count": 48,
   "metadata": {},
   "outputs": [],
   "source": [
    "# Function that imputes a duration based on the (enriched) genre\n",
    "def impute_duration(row):\n",
    "    if row['programme_duration_mins']>0:\n",
    "        return row['programme_duration_mins']\n",
    "    else:\n",
    "        return row['enriched_duration_mins']"
   ]
  },
  {
   "cell_type": "code",
   "execution_count": 49,
   "metadata": {},
   "outputs": [],
   "source": [
    "# Apply the function to the dataframe\n",
    "data['enriched_duration_mins'] = data.apply(impute_duration, axis=1)"
   ]
  },
  {
   "cell_type": "code",
   "execution_count": 50,
   "metadata": {},
   "outputs": [
    {
     "data": {
      "text/html": [
       "<div>\n",
       "<style scoped>\n",
       "    .dataframe tbody tr th:only-of-type {\n",
       "        vertical-align: middle;\n",
       "    }\n",
       "\n",
       "    .dataframe tbody tr th {\n",
       "        vertical-align: top;\n",
       "    }\n",
       "\n",
       "    .dataframe thead th {\n",
       "        text-align: right;\n",
       "    }\n",
       "</style>\n",
       "<table border=\"1\" class=\"dataframe\">\n",
       "  <thead>\n",
       "    <tr style=\"text-align: right;\">\n",
       "      <th></th>\n",
       "      <th>user_id</th>\n",
       "      <th>program_id</th>\n",
       "      <th>series_id</th>\n",
       "      <th>genre</th>\n",
       "      <th>programme_duration</th>\n",
       "      <th>streaming_id</th>\n",
       "      <th>start_date_time</th>\n",
       "      <th>time_viewed</th>\n",
       "      <th>weekday</th>\n",
       "      <th>time_of_day</th>\n",
       "      <th>programme_duration_mins</th>\n",
       "      <th>twoweek</th>\n",
       "      <th>min_watched</th>\n",
       "      <th>enriched_genre</th>\n",
       "      <th>hour</th>\n",
       "      <th>enriched_genre_hour</th>\n",
       "      <th>enriched_duration_mins</th>\n",
       "    </tr>\n",
       "  </thead>\n",
       "  <tbody>\n",
       "    <tr>\n",
       "      <th>140</th>\n",
       "      <td>EBWVEE</td>\n",
       "      <td>NaN</td>\n",
       "      <td>NaN</td>\n",
       "      <td>NaN</td>\n",
       "      <td>NaN</td>\n",
       "      <td>1489439401348_1</td>\n",
       "      <td>2017-03-13 21:40:02.421</td>\n",
       "      <td>3730.0</td>\n",
       "      <td>weekday_0</td>\n",
       "      <td>Evening</td>\n",
       "      <td>NaN</td>\n",
       "      <td>5</td>\n",
       "      <td>0.062167</td>\n",
       "      <td>Drama</td>\n",
       "      <td>21</td>\n",
       "      <td>Drama</td>\n",
       "      <td>45.0</td>\n",
       "    </tr>\n",
       "    <tr>\n",
       "      <th>141</th>\n",
       "      <td>EBWVEE</td>\n",
       "      <td>NaN</td>\n",
       "      <td>NaN</td>\n",
       "      <td>NaN</td>\n",
       "      <td>NaN</td>\n",
       "      <td>1485100892026_1</td>\n",
       "      <td>2017-01-22 16:31:34.292</td>\n",
       "      <td>3634.0</td>\n",
       "      <td>weekday_6</td>\n",
       "      <td>Afternoon</td>\n",
       "      <td>NaN</td>\n",
       "      <td>1</td>\n",
       "      <td>0.060567</td>\n",
       "      <td>Factual</td>\n",
       "      <td>16</td>\n",
       "      <td>Factual</td>\n",
       "      <td>45.0</td>\n",
       "    </tr>\n",
       "    <tr>\n",
       "      <th>142</th>\n",
       "      <td>EBWVEE</td>\n",
       "      <td>NaN</td>\n",
       "      <td>NaN</td>\n",
       "      <td>NaN</td>\n",
       "      <td>NaN</td>\n",
       "      <td>1489441109070_3</td>\n",
       "      <td>2017-03-13 22:08:30.203</td>\n",
       "      <td>3651.0</td>\n",
       "      <td>weekday_0</td>\n",
       "      <td>Evening</td>\n",
       "      <td>NaN</td>\n",
       "      <td>5</td>\n",
       "      <td>0.060850</td>\n",
       "      <td>Drama</td>\n",
       "      <td>22</td>\n",
       "      <td>Drama</td>\n",
       "      <td>45.0</td>\n",
       "    </tr>\n",
       "    <tr>\n",
       "      <th>143</th>\n",
       "      <td>EBWVEE</td>\n",
       "      <td>NaN</td>\n",
       "      <td>NaN</td>\n",
       "      <td>NaN</td>\n",
       "      <td>NaN</td>\n",
       "      <td>1493538827057_2</td>\n",
       "      <td>2017-04-30 08:23:47.559</td>\n",
       "      <td>3665.0</td>\n",
       "      <td>weekday_6</td>\n",
       "      <td>Morning</td>\n",
       "      <td>NaN</td>\n",
       "      <td>8</td>\n",
       "      <td>0.061083</td>\n",
       "      <td>Factual</td>\n",
       "      <td>8</td>\n",
       "      <td>Factual</td>\n",
       "      <td>45.0</td>\n",
       "    </tr>\n",
       "    <tr>\n",
       "      <th>144</th>\n",
       "      <td>EBWVEE</td>\n",
       "      <td>NaN</td>\n",
       "      <td>NaN</td>\n",
       "      <td>NaN</td>\n",
       "      <td>NaN</td>\n",
       "      <td>1489258896796_3</td>\n",
       "      <td>2017-03-11 19:31:39.890</td>\n",
       "      <td>3545.0</td>\n",
       "      <td>weekday_5</td>\n",
       "      <td>Evening</td>\n",
       "      <td>NaN</td>\n",
       "      <td>5</td>\n",
       "      <td>0.059083</td>\n",
       "      <td>Factual</td>\n",
       "      <td>19</td>\n",
       "      <td>Factual</td>\n",
       "      <td>45.0</td>\n",
       "    </tr>\n",
       "  </tbody>\n",
       "</table>\n",
       "</div>"
      ],
      "text/plain": [
       "    user_id program_id series_id genre programme_duration     streaming_id  \\\n",
       "140  EBWVEE        NaN       NaN   NaN                NaN  1489439401348_1   \n",
       "141  EBWVEE        NaN       NaN   NaN                NaN  1485100892026_1   \n",
       "142  EBWVEE        NaN       NaN   NaN                NaN  1489441109070_3   \n",
       "143  EBWVEE        NaN       NaN   NaN                NaN  1493538827057_2   \n",
       "144  EBWVEE        NaN       NaN   NaN                NaN  1489258896796_3   \n",
       "\n",
       "            start_date_time  time_viewed    weekday time_of_day  \\\n",
       "140 2017-03-13 21:40:02.421       3730.0  weekday_0     Evening   \n",
       "141 2017-01-22 16:31:34.292       3634.0  weekday_6   Afternoon   \n",
       "142 2017-03-13 22:08:30.203       3651.0  weekday_0     Evening   \n",
       "143 2017-04-30 08:23:47.559       3665.0  weekday_6     Morning   \n",
       "144 2017-03-11 19:31:39.890       3545.0  weekday_5     Evening   \n",
       "\n",
       "     programme_duration_mins  twoweek  min_watched enriched_genre  hour  \\\n",
       "140                      NaN        5     0.062167          Drama    21   \n",
       "141                      NaN        1     0.060567        Factual    16   \n",
       "142                      NaN        5     0.060850          Drama    22   \n",
       "143                      NaN        8     0.061083        Factual     8   \n",
       "144                      NaN        5     0.059083        Factual    19   \n",
       "\n",
       "    enriched_genre_hour  enriched_duration_mins  \n",
       "140               Drama                    45.0  \n",
       "141             Factual                    45.0  \n",
       "142               Drama                    45.0  \n",
       "143             Factual                    45.0  \n",
       "144             Factual                    45.0  "
      ]
     },
     "execution_count": 50,
     "metadata": {},
     "output_type": "execute_result"
    }
   ],
   "source": [
    "# Check whether this has worked\n",
    "data[data['programme_duration_mins'].isnull()].head()"
   ]
  },
  {
   "cell_type": "code",
   "execution_count": 51,
   "metadata": {},
   "outputs": [
    {
     "name": "stdout",
     "output_type": "stream",
     "text": [
      "programme_duration_mins - Missing: 33698 - Unique: 891\n",
      "enriched_duration_mins - Missing: 0 - Unique: 889\n"
     ]
    }
   ],
   "source": [
    "# Check how many missing and unique values for this column\n",
    "features=['programme_duration_mins','enriched_duration_mins']\n",
    "for feature in features:\n",
    "    print(feature,'- Missing:',sum(data[feature].isnull()),\n",
    "          '- Unique:', len(data[feature].unique()))"
   ]
  },
  {
   "cell_type": "code",
   "execution_count": 52,
   "metadata": {},
   "outputs": [
    {
     "data": {
      "text/plain": [
       "count    4.889520e+05\n",
       "mean     8.565867e+05\n",
       "std      3.491022e+06\n",
       "min     -3.563513e+06\n",
       "25%      3.935000e+03\n",
       "50%      8.194150e+04\n",
       "75%      9.219698e+05\n",
       "max      8.515021e+08\n",
       "Name: time_viewed, dtype: float64"
      ]
     },
     "execution_count": 52,
     "metadata": {},
     "output_type": "execute_result"
    }
   ],
   "source": [
    "data.time_viewed.describe()"
   ]
  },
  {
   "cell_type": "code",
   "execution_count": 53,
   "metadata": {},
   "outputs": [],
   "source": [
    "# Assume that is error and make positive\n",
    "data['time_viewed']=abs(data['time_viewed']) #Abs function turns positive"
   ]
  },
  {
   "cell_type": "code",
   "execution_count": 54,
   "metadata": {},
   "outputs": [
    {
     "data": {
      "text/plain": [
       "count    488952.000000\n",
       "mean         14.276694\n",
       "std          58.183645\n",
       "min           0.000000\n",
       "25%           0.065583\n",
       "50%           1.365700\n",
       "75%          15.366200\n",
       "max       14191.701283\n",
       "Name: min_watched, dtype: float64"
      ]
     },
     "execution_count": 54,
     "metadata": {},
     "output_type": "execute_result"
    }
   ],
   "source": [
    "data['min_watched']=data['time_viewed']/(60000.0) #Turns into minutes\n",
    "data.min_watched.describe()"
   ]
  },
  {
   "cell_type": "code",
   "execution_count": 55,
   "metadata": {},
   "outputs": [
    {
     "data": {
      "text/plain": [
       "count    488952.000000\n",
       "mean          1.054973\n",
       "std          17.764672\n",
       "min           0.000000\n",
       "25%           0.004064\n",
       "50%           0.139491\n",
       "75%           0.805828\n",
       "max        4971.469250\n",
       "Name: percentage_watched, dtype: float64"
      ]
     },
     "execution_count": 55,
     "metadata": {},
     "output_type": "execute_result"
    }
   ],
   "source": [
    "# Percentage of content watched by the user\n",
    "data['percentage_watched']=(data['min_watched']/data['enriched_duration_mins'])\n",
    "data.percentage_watched.describe()"
   ]
  },
  {
   "cell_type": "code",
   "execution_count": 56,
   "metadata": {},
   "outputs": [],
   "source": [
    "# Clean up the percentage field from when the number is more than 100%\n",
    "def clean_perc(number):\n",
    "    return min(number,1)"
   ]
  },
  {
   "cell_type": "code",
   "execution_count": 57,
   "metadata": {},
   "outputs": [],
   "source": [
    "# Clean up percentaged watched from anything bigger than 100%\n",
    "data['percentage_watched']=data['percentage_watched'].apply(clean_perc)"
   ]
  },
  {
   "cell_type": "code",
   "execution_count": 58,
   "metadata": {},
   "outputs": [
    {
     "name": "stdout",
     "output_type": "stream",
     "text": [
      "user_id - Missing: 0 - Unique: 9937\n",
      "program_id - Missing: 33698 - Unique: 23857\n",
      "series_id - Missing: 33698 - Unique: 5921\n",
      "genre - Missing: 67719 - Unique: 12\n",
      "programme_duration - Missing: 33698 - Unique: 891\n",
      "streaming_id - Missing: 0 - Unique: 434430\n",
      "start_date_time - Missing: 0 - Unique: 490626\n",
      "time_viewed - Missing: 1900 - Unique: 259529\n",
      "weekday - Missing: 0 - Unique: 7\n",
      "time_of_day - Missing: 0 - Unique: 4\n",
      "programme_duration_mins - Missing: 33698 - Unique: 891\n",
      "twoweek - Missing: 0 - Unique: 10\n",
      "min_watched - Missing: 1900 - Unique: 259529\n",
      "enriched_genre - Missing: 0 - Unique: 11\n",
      "hour - Missing: 0 - Unique: 24\n",
      "enriched_genre_hour - Missing: 0 - Unique: 3\n",
      "enriched_duration_mins - Missing: 0 - Unique: 889\n",
      "percentage_watched - Missing: 1900 - Unique: 298032\n"
     ]
    }
   ],
   "source": [
    "# Check how many missing and unique values there are per column\n",
    "features=data.columns.values\n",
    "for feature in features:\n",
    "    print(feature,'- Missing:', \n",
    "          sum(data[feature].isnull()),\n",
    "          '- Unique:', len(data[feature].unique()))"
   ]
  },
  {
   "cell_type": "code",
   "execution_count": 59,
   "metadata": {},
   "outputs": [
    {
     "data": {
      "text/html": [
       "<div>\n",
       "<style scoped>\n",
       "    .dataframe tbody tr th:only-of-type {\n",
       "        vertical-align: middle;\n",
       "    }\n",
       "\n",
       "    .dataframe tbody tr th {\n",
       "        vertical-align: top;\n",
       "    }\n",
       "\n",
       "    .dataframe thead th {\n",
       "        text-align: right;\n",
       "    }\n",
       "</style>\n",
       "<table border=\"1\" class=\"dataframe\">\n",
       "  <thead>\n",
       "    <tr style=\"text-align: right;\">\n",
       "      <th></th>\n",
       "      <th>user_id</th>\n",
       "      <th>program_id</th>\n",
       "      <th>series_id</th>\n",
       "      <th>genre</th>\n",
       "      <th>programme_duration</th>\n",
       "      <th>streaming_id</th>\n",
       "      <th>start_date_time</th>\n",
       "      <th>time_viewed</th>\n",
       "      <th>weekday</th>\n",
       "      <th>time_of_day</th>\n",
       "      <th>programme_duration_mins</th>\n",
       "      <th>twoweek</th>\n",
       "      <th>min_watched</th>\n",
       "      <th>enriched_genre</th>\n",
       "      <th>hour</th>\n",
       "      <th>enriched_genre_hour</th>\n",
       "      <th>enriched_duration_mins</th>\n",
       "      <th>percentage_watched</th>\n",
       "    </tr>\n",
       "  </thead>\n",
       "  <tbody>\n",
       "    <tr>\n",
       "      <th>0</th>\n",
       "      <td>GUNMFC</td>\n",
       "      <td>BUNBFKC</td>\n",
       "      <td>RFMHXZ</td>\n",
       "      <td>Factual</td>\n",
       "      <td>00:00:21</td>\n",
       "      <td>1486911129420_1</td>\n",
       "      <td>2017-02-12 15:21:24.544</td>\n",
       "      <td>20920.0</td>\n",
       "      <td>weekday_6</td>\n",
       "      <td>Afternoon</td>\n",
       "      <td>0.350000</td>\n",
       "      <td>3</td>\n",
       "      <td>0.348667</td>\n",
       "      <td>Factual</td>\n",
       "      <td>15</td>\n",
       "      <td>Factual</td>\n",
       "      <td>0.350000</td>\n",
       "      <td>0.996190</td>\n",
       "    </tr>\n",
       "    <tr>\n",
       "      <th>1</th>\n",
       "      <td>GUNMFC</td>\n",
       "      <td>SBTKDEW</td>\n",
       "      <td>EWBFGO</td>\n",
       "      <td>Comedy</td>\n",
       "      <td>00:01:51</td>\n",
       "      <td>1484864257965_1</td>\n",
       "      <td>2017-01-19 22:47:04.648</td>\n",
       "      <td>111285.0</td>\n",
       "      <td>weekday_3</td>\n",
       "      <td>Evening</td>\n",
       "      <td>1.850000</td>\n",
       "      <td>1</td>\n",
       "      <td>1.854750</td>\n",
       "      <td>Comedy</td>\n",
       "      <td>22</td>\n",
       "      <td>Drama</td>\n",
       "      <td>1.850000</td>\n",
       "      <td>1.000000</td>\n",
       "    </tr>\n",
       "    <tr>\n",
       "      <th>2</th>\n",
       "      <td>GUNMFC</td>\n",
       "      <td>AXXRZDT</td>\n",
       "      <td>HFZOYT</td>\n",
       "      <td>Factual</td>\n",
       "      <td>00:00:30</td>\n",
       "      <td>1487099603980_1</td>\n",
       "      <td>2017-02-14 19:42:36.667</td>\n",
       "      <td>29945.0</td>\n",
       "      <td>weekday_1</td>\n",
       "      <td>Evening</td>\n",
       "      <td>0.500000</td>\n",
       "      <td>3</td>\n",
       "      <td>0.499083</td>\n",
       "      <td>Factual</td>\n",
       "      <td>19</td>\n",
       "      <td>Factual</td>\n",
       "      <td>0.500000</td>\n",
       "      <td>0.998167</td>\n",
       "    </tr>\n",
       "    <tr>\n",
       "      <th>3</th>\n",
       "      <td>GUNMFC</td>\n",
       "      <td>WEXFFOO</td>\n",
       "      <td>HZCOOC</td>\n",
       "      <td>Entertainment</td>\n",
       "      <td>00:01:22</td>\n",
       "      <td>1484773546557_1</td>\n",
       "      <td>2017-01-18 21:35:11.466</td>\n",
       "      <td>82620.0</td>\n",
       "      <td>weekday_2</td>\n",
       "      <td>Evening</td>\n",
       "      <td>1.366667</td>\n",
       "      <td>1</td>\n",
       "      <td>1.377000</td>\n",
       "      <td>Entertainment</td>\n",
       "      <td>21</td>\n",
       "      <td>Drama</td>\n",
       "      <td>1.366667</td>\n",
       "      <td>1.000000</td>\n",
       "    </tr>\n",
       "    <tr>\n",
       "      <th>4</th>\n",
       "      <td>GUNMFC</td>\n",
       "      <td>AUQGTSV</td>\n",
       "      <td>YMAXJD</td>\n",
       "      <td>Sport</td>\n",
       "      <td>00:01:37</td>\n",
       "      <td>1486911176609_1</td>\n",
       "      <td>2017-02-12 15:22:08.965</td>\n",
       "      <td>97444.0</td>\n",
       "      <td>weekday_6</td>\n",
       "      <td>Afternoon</td>\n",
       "      <td>1.616667</td>\n",
       "      <td>3</td>\n",
       "      <td>1.624067</td>\n",
       "      <td>Sport</td>\n",
       "      <td>15</td>\n",
       "      <td>Factual</td>\n",
       "      <td>1.616667</td>\n",
       "      <td>1.000000</td>\n",
       "    </tr>\n",
       "  </tbody>\n",
       "</table>\n",
       "</div>"
      ],
      "text/plain": [
       "  user_id program_id series_id          genre programme_duration  \\\n",
       "0  GUNMFC    BUNBFKC    RFMHXZ        Factual           00:00:21   \n",
       "1  GUNMFC    SBTKDEW    EWBFGO         Comedy           00:01:51   \n",
       "2  GUNMFC    AXXRZDT    HFZOYT        Factual           00:00:30   \n",
       "3  GUNMFC    WEXFFOO    HZCOOC  Entertainment           00:01:22   \n",
       "4  GUNMFC    AUQGTSV    YMAXJD          Sport           00:01:37   \n",
       "\n",
       "      streaming_id         start_date_time  time_viewed    weekday  \\\n",
       "0  1486911129420_1 2017-02-12 15:21:24.544      20920.0  weekday_6   \n",
       "1  1484864257965_1 2017-01-19 22:47:04.648     111285.0  weekday_3   \n",
       "2  1487099603980_1 2017-02-14 19:42:36.667      29945.0  weekday_1   \n",
       "3  1484773546557_1 2017-01-18 21:35:11.466      82620.0  weekday_2   \n",
       "4  1486911176609_1 2017-02-12 15:22:08.965      97444.0  weekday_6   \n",
       "\n",
       "  time_of_day  programme_duration_mins  twoweek  min_watched enriched_genre  \\\n",
       "0   Afternoon                 0.350000        3     0.348667        Factual   \n",
       "1     Evening                 1.850000        1     1.854750         Comedy   \n",
       "2     Evening                 0.500000        3     0.499083        Factual   \n",
       "3     Evening                 1.366667        1     1.377000  Entertainment   \n",
       "4   Afternoon                 1.616667        3     1.624067          Sport   \n",
       "\n",
       "   hour enriched_genre_hour  enriched_duration_mins  percentage_watched  \n",
       "0    15             Factual                0.350000            0.996190  \n",
       "1    22               Drama                1.850000            1.000000  \n",
       "2    19             Factual                0.500000            0.998167  \n",
       "3    21               Drama                1.366667            1.000000  \n",
       "4    15             Factual                1.616667            1.000000  "
      ]
     },
     "execution_count": 59,
     "metadata": {},
     "output_type": "execute_result"
    }
   ],
   "source": [
    "data.head()"
   ]
  },
  {
   "cell_type": "code",
   "execution_count": 60,
   "metadata": {},
   "outputs": [],
   "source": [
    "# Drop the 1st of January - incomplete week\n",
    "data=data[data['start_date_time']>'2017-01-02']"
   ]
  },
  {
   "cell_type": "code",
   "execution_count": 61,
   "metadata": {},
   "outputs": [
    {
     "data": {
      "text/plain": [
       "<matplotlib.axes._subplots.AxesSubplot at 0x1965b670>"
      ]
     },
     "execution_count": 61,
     "metadata": {},
     "output_type": "execute_result"
    },
    {
     "data": {
      "image/png": "[encoded data removed]",
      "text/plain": [
       "<matplotlib.figure.Figure at 0x727a6d0>"
      ]
     },
     "metadata": {
      "needs_background": "light"
     },
     "output_type": "display_data"
    }
   ],
   "source": [
    "# Check the distribution of our numerical values\n",
    "#Programme Duration\n",
    "data['programme_duration_mins'].hist(bins=50) #Creates histogram\n",
    "#Long tailed. More that last 60 mins than 30 mins."
   ]
  },
  {
   "cell_type": "code",
   "execution_count": 62,
   "metadata": {},
   "outputs": [
    {
     "data": {
      "text/plain": [
       "<matplotlib.axes._subplots.AxesSubplot at 0x19659630>"
      ]
     },
     "execution_count": 62,
     "metadata": {},
     "output_type": "execute_result"
    },
    {
     "data": {
      "image/png": "[encoded data removed]",
      "text/plain": [
       "<matplotlib.figure.Figure at 0x12895150>"
      ]
     },
     "metadata": {
      "needs_background": "light"
     },
     "output_type": "display_data"
    }
   ],
   "source": [
    "# Check the distribution for length watches (under 200 mins to be able to see more)\n",
    "#Minutes watched (those less than 200 mins)\n",
    "data[data['min_watched']<200]['min_watched'].hist(bins=50)\n",
    "#Surprisingly high number that only watch for 1 min. Not only 1 min shows but those that quickly turn off."
   ]
  },
  {
   "cell_type": "code",
   "execution_count": 63,
   "metadata": {},
   "outputs": [
    {
     "data": {
      "text/plain": [
       "<matplotlib.axes._subplots.AxesSubplot at 0x113525d0>"
      ]
     },
     "execution_count": 63,
     "metadata": {},
     "output_type": "execute_result"
    },
    {
     "data": {
      "image/png": "[encoded data removed]",
      "text/plain": [
       "<matplotlib.figure.Figure at 0x12882db0>"
      ]
     },
     "metadata": {
      "needs_background": "light"
     },
     "output_type": "display_data"
    }
   ],
   "source": [
    "# Check the distribution of the completion rate\n",
    "data['percentage_watched'].hist(bins=50) #Roughly 32% first bar (2%). Only 16% complete."
   ]
  },
  {
   "cell_type": "code",
   "execution_count": 64,
   "metadata": {},
   "outputs": [
    {
     "data": {
      "text/plain": [
       "<matplotlib.axes._subplots.AxesSubplot at 0x1138ebb0>"
      ]
     },
     "execution_count": 64,
     "metadata": {},
     "output_type": "execute_result"
    },
    {
     "data": {
      "image/png": "[encoded data removed]",
      "text/plain": [
       "<matplotlib.figure.Figure at 0x14312cf0>"
      ]
     },
     "metadata": {
      "needs_background": "light"
     },
     "output_type": "display_data"
    }
   ],
   "source": [
    "# Check whether we have more or less the same amount of data for each two week period. Form of validating representative sample.\n",
    "data['twoweek'].value_counts().plot(kind='bar')"
   ]
  },
  {
   "cell_type": "code",
   "execution_count": 75,
   "metadata": {},
   "outputs": [
    {
     "data": {
      "text/plain": [
       "<matplotlib.axes._subplots.AxesSubplot at 0xb11d610>"
      ]
     },
     "execution_count": 75,
     "metadata": {},
     "output_type": "execute_result"
    },
    {
     "data": {
      "image/png": "[encoded data removed]",
      "text/plain": [
       "<matplotlib.figure.Figure at 0x126bfad0>"
      ]
     },
     "metadata": {
      "needs_background": "light"
     },
     "output_type": "display_data"
    }
   ],
   "source": [
    "# Check distribution of categorical values\n",
    "data['genre'].value_counts().plot(kind='bar') #Shows how many shows are shows of each genre not popularity.\n",
    "#Not solid evidence but suggests factual and drama are most popular. Better way may be to show viewcount by genre.\n",
    "#Graph would be data.groupby(['genre'])['min_watched'].sum().plot(kind='bar')"
   ]
  },
  {
   "cell_type": "code",
   "execution_count": 67,
   "metadata": {},
   "outputs": [
    {
     "data": {
      "text/plain": [
       "<matplotlib.axes._subplots.AxesSubplot at 0x126c6110>"
      ]
     },
     "execution_count": 67,
     "metadata": {},
     "output_type": "execute_result"
    },
    {
     "data": {
      "image/png": "[encoded data removed]",
      "text/plain": [
       "<matplotlib.figure.Figure at 0x126c0b50>"
      ]
     },
     "metadata": {
      "needs_background": "light"
     },
     "output_type": "display_data"
    }
   ],
   "source": [
    "# How does this differ from the distribution of the enriched genre?\n",
    "# For NULL values - for 21 hours of the day assumptions were made that factual was genre. Because we assumed this, there is a big\n",
    "# Increase in factual genre. Drama and news have stayed very similar- but the assumptions forgot about the smaller genres.\n",
    "data['enriched_genre'].value_counts().plot(kind='bar')"
   ]
  },
  {
   "cell_type": "code",
   "execution_count": 68,
   "metadata": {},
   "outputs": [
    {
     "data": {
      "text/plain": [
       "<matplotlib.axes._subplots.AxesSubplot at 0x14a3b950>"
      ]
     },
     "execution_count": 68,
     "metadata": {},
     "output_type": "execute_result"
    },
    {
     "data": {
      "image/png": "[encoded data removed]",
      "text/plain": [
       "<matplotlib.figure.Figure at 0x126c6ab0>"
      ]
     },
     "metadata": {
      "needs_background": "light"
     },
     "output_type": "display_data"
    }
   ],
   "source": [
    "# Plot the difference between the genre and enriched genre.\n",
    "diff = data['enriched_genre'].value_counts() - data['genre'].value_counts() \n",
    "diff.plot(kind='bar')"
   ]
  },
  {
   "cell_type": "code",
   "execution_count": 69,
   "metadata": {},
   "outputs": [
    {
     "data": {
      "text/plain": [
       "<matplotlib.axes._subplots.AxesSubplot at 0x12693230>"
      ]
     },
     "execution_count": 69,
     "metadata": {},
     "output_type": "execute_result"
    },
    {
     "data": {
      "image/png": "[encoded data removed]",
      "text/plain": [
       "<matplotlib.figure.Figure at 0xc5a3e90>"
      ]
     },
     "metadata": {
      "needs_background": "light"
     },
     "output_type": "display_data"
    }
   ],
   "source": [
    "# When do people mostly watch (distribution over time of day)?\n",
    "data['time_of_day'].value_counts().sort_index().plot(kind='bar')"
   ]
  },
  {
   "cell_type": "code",
   "execution_count": 70,
   "metadata": {},
   "outputs": [
    {
     "data": {
      "text/plain": [
       "<matplotlib.axes._subplots.AxesSubplot at 0x1877f030>"
      ]
     },
     "execution_count": 70,
     "metadata": {},
     "output_type": "execute_result"
    },
    {
     "data": {
      "image/png": "[encoded data removed]",
      "text/plain": [
       "<matplotlib.figure.Figure at 0x18784190>"
      ]
     },
     "metadata": {
      "needs_background": "light"
     },
     "output_type": "display_data"
    }
   ],
   "source": [
    "data.groupby(['time_of_day'])['min_watched'].sum().plot(kind='bar')"
   ]
  },
  {
   "cell_type": "code",
   "execution_count": 71,
   "metadata": {},
   "outputs": [
    {
     "data": {
      "text/plain": [
       "<matplotlib.axes._subplots.AxesSubplot at 0x18791bd0>"
      ]
     },
     "execution_count": 71,
     "metadata": {},
     "output_type": "execute_result"
    },
    {
     "data": {
      "image/png": "[encoded data removed]",
      "text/plain": [
       "<matplotlib.figure.Figure at 0x18772d50>"
      ]
     },
     "metadata": {
      "needs_background": "light"
     },
     "output_type": "display_data"
    }
   ],
   "source": [
    "# Distribution over the weekday (weekday_0 is Monday)\n",
    "data['weekday'].value_counts().sort_index().plot(kind='bar')"
   ]
  },
  {
   "cell_type": "code",
   "execution_count": 72,
   "metadata": {},
   "outputs": [
    {
     "data": {
      "text/plain": [
       "<matplotlib.axes._subplots.AxesSubplot at 0x1879baf0>"
      ]
     },
     "execution_count": 72,
     "metadata": {},
     "output_type": "execute_result"
    },
    {
     "data": {
      "image/png": "[encoded data removed]",
      "text/plain": [
       "<matplotlib.figure.Figure at 0xef4e910>"
      ]
     },
     "metadata": {
      "needs_background": "light"
     },
     "output_type": "display_data"
    }
   ],
   "source": [
    "data.groupby(['weekday'])['min_watched'].sum().plot(kind='bar')"
   ]
  },
  {
   "cell_type": "code",
   "execution_count": 76,
   "metadata": {},
   "outputs": [
    {
     "name": "stdout",
     "output_type": "stream",
     "text": [
      "Evening      28868.000000\n",
      "Afternoon    15376.285714\n",
      "Morning      13034.571429\n",
      "Night        11976.571429\n",
      "Name: time_of_day, dtype: float64\n",
      "\n",
      "*********** \n",
      "\n",
      "weekday_0\n",
      "\n"
     ]
    },
    {
     "data": {
      "image/png": "[encoded data removed]",
      "text/plain": [
       "<matplotlib.figure.Figure at 0xb7e7490>"
      ]
     },
     "metadata": {
      "needs_background": "light"
     },
     "output_type": "display_data"
    },
    {
     "data": {
      "image/png": "[encoded data removed]",
      "text/plain": [
       "<matplotlib.figure.Figure at 0xb8184f0>"
      ]
     },
     "metadata": {
      "needs_background": "light"
     },
     "output_type": "display_data"
    },
    {
     "name": "stdout",
     "output_type": "stream",
     "text": [
      "\n",
      "*********** \n",
      "\n",
      "weekday_1\n",
      "\n"
     ]
    },
    {
     "data": {
      "image/png": "[encoded data removed]",
      "text/plain": [
       "<matplotlib.figure.Figure at 0xd78b530>"
      ]
     },
     "metadata": {
      "needs_background": "light"
     },
     "output_type": "display_data"
    },
    {
     "data": {
      "image/png": "[encoded data removed]",
      "text/plain": [
       "<matplotlib.figure.Figure at 0xd7b8b50>"
      ]
     },
     "metadata": {
      "needs_background": "light"
     },
     "output_type": "display_data"
    },
    {
     "name": "stdout",
     "output_type": "stream",
     "text": [
      "\n",
      "*********** \n",
      "\n",
      "weekday_2\n",
      "\n"
     ]
    },
    {
     "data": {
      "image/png": "[encoded data removed]",
      "text/plain": [
       "<matplotlib.figure.Figure at 0xce2d810>"
      ]
     },
     "metadata": {
      "needs_background": "light"
     },
     "output_type": "display_data"
    },
    {
     "data": {
      "image/png": "[encoded data removed]",
      "text/plain": [
       "<matplotlib.figure.Figure at 0xce4bb10>"
      ]
     },
     "metadata": {
      "needs_background": "light"
     },
     "output_type": "display_data"
    },
    {
     "name": "stdout",
     "output_type": "stream",
     "text": [
      "\n",
      "*********** \n",
      "\n",
      "weekday_3\n",
      "\n"
     ]
    },
    {
     "data": {
      "image/png": "[encoded data removed]",
      "text/plain": [
       "<matplotlib.figure.Figure at 0x11ec2210>"
      ]
     },
     "metadata": {
      "needs_background": "light"
     },
     "output_type": "display_data"
    },
    {
     "data": {
      "image/png": "[encoded data removed]",
      "text/plain": [
       "<matplotlib.figure.Figure at 0x11eac710>"
      ]
     },
     "metadata": {
      "needs_background": "light"
     },
     "output_type": "display_data"
    },
    {
     "name": "stdout",
     "output_type": "stream",
     "text": [
      "\n",
      "*********** \n",
      "\n",
      "weekday_4\n",
      "\n"
     ]
    },
    {
     "data": {
      "image/png": "[encoded data removed]",
      "text/plain": [
       "<matplotlib.figure.Figure at 0xcd31eb0>"
      ]
     },
     "metadata": {
      "needs_background": "light"
     },
     "output_type": "display_data"
    },
    {
     "data": {
      "image/png": "[encoded data removed]",
      "text/plain": [
       "<matplotlib.figure.Figure at 0xe443670>"
      ]
     },
     "metadata": {
      "needs_background": "light"
     },
     "output_type": "display_data"
    },
    {
     "name": "stdout",
     "output_type": "stream",
     "text": [
      "\n",
      "*********** \n",
      "\n",
      "weekday_5\n",
      "\n"
     ]
    },
    {
     "data": {
      "image/png": "[encoded data removed]",
      "text/plain": [
       "<matplotlib.figure.Figure at 0xe46a3f0>"
      ]
     },
     "metadata": {
      "needs_background": "light"
     },
     "output_type": "display_data"
    },
    {
     "data": {
      "image/png": "[encoded data removed]",
      "text/plain": [
       "<matplotlib.figure.Figure at 0xf0eeb50>"
      ]
     },
     "metadata": {
      "needs_background": "light"
     },
     "output_type": "display_data"
    },
    {
     "name": "stdout",
     "output_type": "stream",
     "text": [
      "\n",
      "*********** \n",
      "\n",
      "weekday_6\n",
      "\n"
     ]
    },
    {
     "data": {
      "image/png": "[encoded data removed]",
      "text/plain": [
       "<matplotlib.figure.Figure at 0xf0e1250>"
      ]
     },
     "metadata": {
      "needs_background": "light"
     },
     "output_type": "display_data"
    },
    {
     "data": {
      "image/png": "[encoded data removed]",
      "text/plain": [
       "<matplotlib.figure.Figure at 0xc79b4d0>"
      ]
     },
     "metadata": {
      "needs_background": "light"
     },
     "output_type": "display_data"
    }
   ],
   "source": [
    "# Let's look at whether people watch at different times across different days\n",
    "\n",
    "averageCounts=data['time_of_day'].value_counts()/7 #Returns average for times of day.\n",
    "#For each day - shows graph of views for different times of the day. Then 2nd graph shows how it differs from the average.\n",
    "for day in sorted(set(data['weekday'])):   \n",
    "    print('\\n*********** \\n')\n",
    "    print(day+'\\n')\n",
    "    \n",
    "    data[data['weekday']==day]['time_of_day'].value_counts().plot(kind='bar')\n",
    "    plt.title(day)\n",
    "    plt.show()\n",
    "    \n",
    "    diff=data[data['weekday']==day]['time_of_day'].value_counts() - averageCounts\n",
    "    diff.plot(kind='bar',color='grey')\n",
    "    plt.title(day+\" (difference from average)\")\n",
    "    plt.show()"
   ]
  },
  {
   "cell_type": "code",
   "execution_count": 77,
   "metadata": {},
   "outputs": [
    {
     "name": "stdout",
     "output_type": "stream",
     "text": [
      "Number of users: 9794\n"
     ]
    }
   ],
   "source": [
    "# Get the number of unique users in the dataset\n",
    "print('Number of users: '+\n",
    "      str(len(data.user_id.unique())))"
   ]
  },
  {
   "cell_type": "code",
   "execution_count": 78,
   "metadata": {},
   "outputs": [
    {
     "data": {
      "text/plain": [
       "count    39834.000000\n",
       "mean        12.170206\n",
       "std         20.698870\n",
       "min          1.000000\n",
       "25%          2.000000\n",
       "50%          5.000000\n",
       "75%         14.000000\n",
       "max        495.000000\n",
       "dtype: float64"
      ]
     },
     "execution_count": 78,
     "metadata": {},
     "output_type": "execute_result"
    }
   ],
   "source": [
    "# We first need to aggregate the number of observations per user per twoweek\n",
    "# Describe gives us some basic statistics on this new field\n",
    "data.groupby(['user_id','twoweek']).size().describe()"
   ]
  },
  {
   "cell_type": "code",
   "execution_count": 79,
   "metadata": {},
   "outputs": [
    {
     "data": {
      "image/png": "[encoded data removed]",
      "text/plain": [
       "<matplotlib.figure.Figure at 0xb801e10>"
      ]
     },
     "metadata": {
      "needs_background": "light"
     },
     "output_type": "display_data"
    }
   ],
   "source": [
    "data.groupby(['user_id','twoweek']).size().hist(bins=50)\n",
    "plt.title('Number of observations per user per two-week group')\n",
    "plt.show()\n",
    "#Most saw 0-10 minutes in the two week group."
   ]
  },
  {
   "cell_type": "code",
   "execution_count": 83,
   "metadata": {},
   "outputs": [
    {
     "data": {
      "text/plain": [
       "<matplotlib.axes._subplots.AxesSubplot at 0x161a3e10>"
      ]
     },
     "execution_count": 83,
     "metadata": {},
     "output_type": "execute_result"
    },
    {
     "data": {
      "image/png": "[encoded data removed]",
      "text/plain": [
       "<matplotlib.figure.Figure at 0xbd54bb0>"
      ]
     },
     "metadata": {
      "needs_background": "light"
     },
     "output_type": "display_data"
    }
   ],
   "source": [
    "# We first need to get all the possible pairs user_id x twoweek\n",
    "# And then aggregate at the user id level\n",
    "nb_twoweeks_user=data[['user_id','twoweek']].drop_duplicates()\n",
    "nb_twoweeks_user=pd.DataFrame(nb_twoweeks_user.groupby(['user_id']).size())\n",
    "nb_twoweeks_user=nb_twoweeks_user.rename(columns={0:'nb_twoweek'})\n",
    "nb_twoweeks_user.nb_twoweek.value_counts().sort_index().plot(kind='bar')"
   ]
  },
  {
   "cell_type": "code",
   "execution_count": 107,
   "metadata": {},
   "outputs": [
    {
     "data": {
      "text/html": [
       "<div>\n",
       "<style scoped>\n",
       "    .dataframe tbody tr th:only-of-type {\n",
       "        vertical-align: middle;\n",
       "    }\n",
       "\n",
       "    .dataframe tbody tr th {\n",
       "        vertical-align: top;\n",
       "    }\n",
       "\n",
       "    .dataframe thead th {\n",
       "        text-align: right;\n",
       "    }\n",
       "</style>\n",
       "<table border=\"1\" class=\"dataframe\">\n",
       "  <thead>\n",
       "    <tr style=\"text-align: right;\">\n",
       "      <th></th>\n",
       "      <th>twoweek_0</th>\n",
       "      <th>twoweek_1</th>\n",
       "      <th>twoweek_2</th>\n",
       "      <th>twoweek_3</th>\n",
       "      <th>twoweek_4</th>\n",
       "      <th>twoweek_5</th>\n",
       "      <th>twoweek_6</th>\n",
       "      <th>twoweek_7</th>\n",
       "      <th>twoweek_8</th>\n",
       "    </tr>\n",
       "    <tr>\n",
       "      <th>user_id</th>\n",
       "      <th></th>\n",
       "      <th></th>\n",
       "      <th></th>\n",
       "      <th></th>\n",
       "      <th></th>\n",
       "      <th></th>\n",
       "      <th></th>\n",
       "      <th></th>\n",
       "      <th></th>\n",
       "    </tr>\n",
       "  </thead>\n",
       "  <tbody>\n",
       "    <tr>\n",
       "      <th>AADDJF</th>\n",
       "      <td>0</td>\n",
       "      <td>0</td>\n",
       "      <td>1</td>\n",
       "      <td>1</td>\n",
       "      <td>0</td>\n",
       "      <td>0</td>\n",
       "      <td>0</td>\n",
       "      <td>0</td>\n",
       "      <td>0</td>\n",
       "    </tr>\n",
       "    <tr>\n",
       "      <th>AADVCF</th>\n",
       "      <td>1</td>\n",
       "      <td>1</td>\n",
       "      <td>1</td>\n",
       "      <td>1</td>\n",
       "      <td>1</td>\n",
       "      <td>1</td>\n",
       "      <td>1</td>\n",
       "      <td>1</td>\n",
       "      <td>0</td>\n",
       "    </tr>\n",
       "    <tr>\n",
       "      <th>AADWBM</th>\n",
       "      <td>0</td>\n",
       "      <td>1</td>\n",
       "      <td>1</td>\n",
       "      <td>0</td>\n",
       "      <td>0</td>\n",
       "      <td>0</td>\n",
       "      <td>0</td>\n",
       "      <td>0</td>\n",
       "      <td>0</td>\n",
       "    </tr>\n",
       "    <tr>\n",
       "      <th>AAHITE</th>\n",
       "      <td>0</td>\n",
       "      <td>1</td>\n",
       "      <td>1</td>\n",
       "      <td>1</td>\n",
       "      <td>1</td>\n",
       "      <td>1</td>\n",
       "      <td>1</td>\n",
       "      <td>1</td>\n",
       "      <td>1</td>\n",
       "    </tr>\n",
       "    <tr>\n",
       "      <th>AAKIJG</th>\n",
       "      <td>0</td>\n",
       "      <td>1</td>\n",
       "      <td>0</td>\n",
       "      <td>0</td>\n",
       "      <td>0</td>\n",
       "      <td>0</td>\n",
       "      <td>0</td>\n",
       "      <td>0</td>\n",
       "      <td>0</td>\n",
       "    </tr>\n",
       "  </tbody>\n",
       "</table>\n",
       "</div>"
      ],
      "text/plain": [
       "         twoweek_0  twoweek_1  twoweek_2  twoweek_3  twoweek_4  twoweek_5  \\\n",
       "user_id                                                                     \n",
       "AADDJF           0          0          1          1          0          0   \n",
       "AADVCF           1          1          1          1          1          1   \n",
       "AADWBM           0          1          1          0          0          0   \n",
       "AAHITE           0          1          1          1          1          1   \n",
       "AAKIJG           0          1          0          0          0          0   \n",
       "\n",
       "         twoweek_6  twoweek_7  twoweek_8  \n",
       "user_id                                   \n",
       "AADDJF           0          0          0  \n",
       "AADVCF           1          1          0  \n",
       "AADWBM           0          0          0  \n",
       "AAHITE           1          1          1  \n",
       "AAKIJG           0          0          0  "
      ]
     },
     "execution_count": 107,
     "metadata": {},
     "output_type": "execute_result"
    }
   ],
   "source": [
    "# We want to get the number of users that come back from one two-week group to another\n",
    "# We first create a table of 0 and 1s \n",
    "# if a given user (row) consumes content on a given two-week (column)\n",
    "twoweeks_user=data[['user_id','twoweek']].drop_duplicates().set_index('user_id')\n",
    "twoweeks_user.twoweek=twoweeks_user.twoweek.apply(lambda x:str(x))\n",
    "twoweeks_user=pd.get_dummies(twoweeks_user).reset_index().groupby(['user_id']).sum()\n",
    "twoweeks_user.head()"
   ]
  },
  {
   "cell_type": "code",
   "execution_count": 108,
   "metadata": {},
   "outputs": [
    {
     "name": "stderr",
     "output_type": "stream",
     "text": [
      "c:\\users\\gillro~1\\docume~1\\datala~1\\virtua~1\\lib\\site-packages\\ipykernel_launcher.py:7: UserWarning: Pandas doesn't allow columns to be created via a new attribute name - see https://pandas.pydata.org/pandas-docs/stable/indexing.html#attribute-access\n",
      "  import sys\n"
     ]
    },
    {
     "data": {
      "text/html": [
       "<div>\n",
       "<style scoped>\n",
       "    .dataframe tbody tr th:only-of-type {\n",
       "        vertical-align: middle;\n",
       "    }\n",
       "\n",
       "    .dataframe tbody tr th {\n",
       "        vertical-align: top;\n",
       "    }\n",
       "\n",
       "    .dataframe thead th {\n",
       "        text-align: right;\n",
       "    }\n",
       "</style>\n",
       "<table border=\"1\" class=\"dataframe\">\n",
       "  <thead>\n",
       "    <tr style=\"text-align: right;\">\n",
       "      <th></th>\n",
       "      <th>0</th>\n",
       "      <th>1</th>\n",
       "      <th>2</th>\n",
       "      <th>3</th>\n",
       "      <th>4</th>\n",
       "      <th>5</th>\n",
       "      <th>6</th>\n",
       "      <th>7</th>\n",
       "      <th>8</th>\n",
       "    </tr>\n",
       "  </thead>\n",
       "  <tbody>\n",
       "    <tr>\n",
       "      <th>0</th>\n",
       "      <td>4374</td>\n",
       "      <td>2872</td>\n",
       "      <td>2161</td>\n",
       "      <td>1827</td>\n",
       "      <td>1560</td>\n",
       "      <td>1412</td>\n",
       "      <td>1264</td>\n",
       "      <td>1137</td>\n",
       "      <td>1051</td>\n",
       "    </tr>\n",
       "    <tr>\n",
       "      <th>1</th>\n",
       "      <td>NaN</td>\n",
       "      <td>6705</td>\n",
       "      <td>3635</td>\n",
       "      <td>2769</td>\n",
       "      <td>2232</td>\n",
       "      <td>1931</td>\n",
       "      <td>1673</td>\n",
       "      <td>1474</td>\n",
       "      <td>1354</td>\n",
       "    </tr>\n",
       "    <tr>\n",
       "      <th>2</th>\n",
       "      <td>NaN</td>\n",
       "      <td>NaN</td>\n",
       "      <td>5491</td>\n",
       "      <td>3471</td>\n",
       "      <td>2634</td>\n",
       "      <td>2204</td>\n",
       "      <td>1866</td>\n",
       "      <td>1614</td>\n",
       "      <td>1468</td>\n",
       "    </tr>\n",
       "    <tr>\n",
       "      <th>3</th>\n",
       "      <td>NaN</td>\n",
       "      <td>NaN</td>\n",
       "      <td>NaN</td>\n",
       "      <td>4376</td>\n",
       "      <td>3060</td>\n",
       "      <td>2479</td>\n",
       "      <td>2051</td>\n",
       "      <td>1739</td>\n",
       "      <td>1562</td>\n",
       "    </tr>\n",
       "    <tr>\n",
       "      <th>4</th>\n",
       "      <td>NaN</td>\n",
       "      <td>NaN</td>\n",
       "      <td>NaN</td>\n",
       "      <td>NaN</td>\n",
       "      <td>4002</td>\n",
       "      <td>2927</td>\n",
       "      <td>2309</td>\n",
       "      <td>1892</td>\n",
       "      <td>1681</td>\n",
       "    </tr>\n",
       "    <tr>\n",
       "      <th>5</th>\n",
       "      <td>NaN</td>\n",
       "      <td>NaN</td>\n",
       "      <td>NaN</td>\n",
       "      <td>NaN</td>\n",
       "      <td>NaN</td>\n",
       "      <td>4008</td>\n",
       "      <td>2799</td>\n",
       "      <td>2163</td>\n",
       "      <td>1874</td>\n",
       "    </tr>\n",
       "    <tr>\n",
       "      <th>6</th>\n",
       "      <td>NaN</td>\n",
       "      <td>NaN</td>\n",
       "      <td>NaN</td>\n",
       "      <td>NaN</td>\n",
       "      <td>NaN</td>\n",
       "      <td>NaN</td>\n",
       "      <td>3705</td>\n",
       "      <td>2525</td>\n",
       "      <td>2103</td>\n",
       "    </tr>\n",
       "    <tr>\n",
       "      <th>7</th>\n",
       "      <td>NaN</td>\n",
       "      <td>NaN</td>\n",
       "      <td>NaN</td>\n",
       "      <td>NaN</td>\n",
       "      <td>NaN</td>\n",
       "      <td>NaN</td>\n",
       "      <td>NaN</td>\n",
       "      <td>3417</td>\n",
       "      <td>2547</td>\n",
       "    </tr>\n",
       "    <tr>\n",
       "      <th>8</th>\n",
       "      <td>NaN</td>\n",
       "      <td>NaN</td>\n",
       "      <td>NaN</td>\n",
       "      <td>NaN</td>\n",
       "      <td>NaN</td>\n",
       "      <td>NaN</td>\n",
       "      <td>NaN</td>\n",
       "      <td>NaN</td>\n",
       "      <td>3756</td>\n",
       "    </tr>\n",
       "  </tbody>\n",
       "</table>\n",
       "</div>"
      ],
      "text/plain": [
       "      0     1     2     3     4     5     6     7     8\n",
       "0  4374  2872  2161  1827  1560  1412  1264  1137  1051\n",
       "1   NaN  6705  3635  2769  2232  1931  1673  1474  1354\n",
       "2   NaN   NaN  5491  3471  2634  2204  1866  1614  1468\n",
       "3   NaN   NaN   NaN  4376  3060  2479  2051  1739  1562\n",
       "4   NaN   NaN   NaN   NaN  4002  2927  2309  1892  1681\n",
       "5   NaN   NaN   NaN   NaN   NaN  4008  2799  2163  1874\n",
       "6   NaN   NaN   NaN   NaN   NaN   NaN  3705  2525  2103\n",
       "7   NaN   NaN   NaN   NaN   NaN   NaN   NaN  3417  2547\n",
       "8   NaN   NaN   NaN   NaN   NaN   NaN   NaN   NaN  3756"
      ]
     },
     "execution_count": 108,
     "metadata": {},
     "output_type": "execute_result"
    }
   ],
   "source": [
    "# Let's build a retention matrix\n",
    "ret_matrix=pd.DataFrame(columns=np.arange(0,9), index=np.arange(0,9))\n",
    "\n",
    "for i in np.arange(0,8):\n",
    "    # We fill [i,i] with the number of users consuming content in twoweek i\n",
    "    ret_matrix.loc[i,i]=sum(twoweeks_user['twoweek_'+str(i)])\n",
    "    twoweeks_user.cumul_tmp=twoweeks_user['twoweek_'+str(i)]\n",
    "    \n",
    "    for j in np.arange(i+1,9):\n",
    "        # Then we fill for the other columns of row i [i,j] the number of users consuming\n",
    "        # content in every twoweek from twoweek i to twoweek j\n",
    "        twoweeks_user.cumul_tmp+=twoweeks_user['twoweek_'+str(j)]\n",
    "        ret_matrix.loc[i,j]=len(twoweeks_user[twoweeks_user.cumul_tmp==j+1-i])\n",
    "        \n",
    "ret_matrix.loc[8,8]=sum(twoweeks_user['twoweek_'+str(8)])\n",
    "ret_matrix"
   ]
  },
  {
   "cell_type": "code",
   "execution_count": 109,
   "metadata": {},
   "outputs": [
    {
     "data": {
      "text/html": [
       "<div>\n",
       "<style scoped>\n",
       "    .dataframe tbody tr th:only-of-type {\n",
       "        vertical-align: middle;\n",
       "    }\n",
       "\n",
       "    .dataframe tbody tr th {\n",
       "        vertical-align: top;\n",
       "    }\n",
       "\n",
       "    .dataframe thead th {\n",
       "        text-align: right;\n",
       "    }\n",
       "</style>\n",
       "<table border=\"1\" class=\"dataframe\">\n",
       "  <thead>\n",
       "    <tr style=\"text-align: right;\">\n",
       "      <th></th>\n",
       "      <th>0</th>\n",
       "      <th>1</th>\n",
       "      <th>2</th>\n",
       "      <th>3</th>\n",
       "      <th>4</th>\n",
       "      <th>5</th>\n",
       "      <th>6</th>\n",
       "      <th>7</th>\n",
       "      <th>8</th>\n",
       "    </tr>\n",
       "  </thead>\n",
       "  <tbody>\n",
       "    <tr>\n",
       "      <th>0</th>\n",
       "      <td>1</td>\n",
       "      <td>0.656607</td>\n",
       "      <td>0.494056</td>\n",
       "      <td>0.417695</td>\n",
       "      <td>0.356653</td>\n",
       "      <td>0.322817</td>\n",
       "      <td>0.28898</td>\n",
       "      <td>0.259945</td>\n",
       "      <td>0.240283</td>\n",
       "    </tr>\n",
       "    <tr>\n",
       "      <th>1</th>\n",
       "      <td>NaN</td>\n",
       "      <td>1</td>\n",
       "      <td>0.542133</td>\n",
       "      <td>0.412975</td>\n",
       "      <td>0.332886</td>\n",
       "      <td>0.287994</td>\n",
       "      <td>0.249515</td>\n",
       "      <td>0.219836</td>\n",
       "      <td>0.201939</td>\n",
       "    </tr>\n",
       "    <tr>\n",
       "      <th>2</th>\n",
       "      <td>NaN</td>\n",
       "      <td>NaN</td>\n",
       "      <td>1</td>\n",
       "      <td>0.632125</td>\n",
       "      <td>0.479694</td>\n",
       "      <td>0.401384</td>\n",
       "      <td>0.339829</td>\n",
       "      <td>0.293936</td>\n",
       "      <td>0.267347</td>\n",
       "    </tr>\n",
       "    <tr>\n",
       "      <th>3</th>\n",
       "      <td>NaN</td>\n",
       "      <td>NaN</td>\n",
       "      <td>NaN</td>\n",
       "      <td>1</td>\n",
       "      <td>0.699269</td>\n",
       "      <td>0.566499</td>\n",
       "      <td>0.468693</td>\n",
       "      <td>0.397395</td>\n",
       "      <td>0.356947</td>\n",
       "    </tr>\n",
       "    <tr>\n",
       "      <th>4</th>\n",
       "      <td>NaN</td>\n",
       "      <td>NaN</td>\n",
       "      <td>NaN</td>\n",
       "      <td>NaN</td>\n",
       "      <td>1</td>\n",
       "      <td>0.731384</td>\n",
       "      <td>0.576962</td>\n",
       "      <td>0.472764</td>\n",
       "      <td>0.42004</td>\n",
       "    </tr>\n",
       "    <tr>\n",
       "      <th>5</th>\n",
       "      <td>NaN</td>\n",
       "      <td>NaN</td>\n",
       "      <td>NaN</td>\n",
       "      <td>NaN</td>\n",
       "      <td>NaN</td>\n",
       "      <td>1</td>\n",
       "      <td>0.698353</td>\n",
       "      <td>0.539671</td>\n",
       "      <td>0.467565</td>\n",
       "    </tr>\n",
       "    <tr>\n",
       "      <th>6</th>\n",
       "      <td>NaN</td>\n",
       "      <td>NaN</td>\n",
       "      <td>NaN</td>\n",
       "      <td>NaN</td>\n",
       "      <td>NaN</td>\n",
       "      <td>NaN</td>\n",
       "      <td>1</td>\n",
       "      <td>0.681511</td>\n",
       "      <td>0.567611</td>\n",
       "    </tr>\n",
       "    <tr>\n",
       "      <th>7</th>\n",
       "      <td>NaN</td>\n",
       "      <td>NaN</td>\n",
       "      <td>NaN</td>\n",
       "      <td>NaN</td>\n",
       "      <td>NaN</td>\n",
       "      <td>NaN</td>\n",
       "      <td>NaN</td>\n",
       "      <td>1</td>\n",
       "      <td>0.745391</td>\n",
       "    </tr>\n",
       "    <tr>\n",
       "      <th>8</th>\n",
       "      <td>NaN</td>\n",
       "      <td>NaN</td>\n",
       "      <td>NaN</td>\n",
       "      <td>NaN</td>\n",
       "      <td>NaN</td>\n",
       "      <td>NaN</td>\n",
       "      <td>NaN</td>\n",
       "      <td>NaN</td>\n",
       "      <td>1</td>\n",
       "    </tr>\n",
       "  </tbody>\n",
       "</table>\n",
       "</div>"
      ],
      "text/plain": [
       "     0         1         2         3         4         5         6         7  \\\n",
       "0    1  0.656607  0.494056  0.417695  0.356653  0.322817   0.28898  0.259945   \n",
       "1  NaN         1  0.542133  0.412975  0.332886  0.287994  0.249515  0.219836   \n",
       "2  NaN       NaN         1  0.632125  0.479694  0.401384  0.339829  0.293936   \n",
       "3  NaN       NaN       NaN         1  0.699269  0.566499  0.468693  0.397395   \n",
       "4  NaN       NaN       NaN       NaN         1  0.731384  0.576962  0.472764   \n",
       "5  NaN       NaN       NaN       NaN       NaN         1  0.698353  0.539671   \n",
       "6  NaN       NaN       NaN       NaN       NaN       NaN         1  0.681511   \n",
       "7  NaN       NaN       NaN       NaN       NaN       NaN       NaN         1   \n",
       "8  NaN       NaN       NaN       NaN       NaN       NaN       NaN       NaN   \n",
       "\n",
       "          8  \n",
       "0  0.240283  \n",
       "1  0.201939  \n",
       "2  0.267347  \n",
       "3  0.356947  \n",
       "4   0.42004  \n",
       "5  0.467565  \n",
       "6  0.567611  \n",
       "7  0.745391  \n",
       "8         1  "
      ]
     },
     "execution_count": 109,
     "metadata": {},
     "output_type": "execute_result"
    }
   ],
   "source": [
    "# Let's put these results in ratios of the size of the cohorts\n",
    "ret_matrix_ratio=pd.DataFrame(columns=np.arange(0,9), index=np.arange(0,9))\n",
    "for i in np.arange(0,9):\n",
    "    for j in np.arange(0,9):\n",
    "        ret_matrix_ratio.loc[i,j]=ret_matrix.loc[i,j]/ret_matrix.loc[i,i]\n",
    "ret_matrix_ratio\n",
    "#Shows retention chances - in group 0 - 65% chance of coming back etc.(see row 1)"
   ]
  },
  {
   "cell_type": "code",
   "execution_count": 110,
   "metadata": {},
   "outputs": [
    {
     "name": "stdout",
     "output_type": "stream",
     "text": [
      "Average retention from one twoweek to another: 0.673346720203\n"
     ]
    }
   ],
   "source": [
    "# Let's compute an average retention ratio\n",
    "ret_tw=[]\n",
    "for i in np.arange(0,8):\n",
    "    ret_tw+=[ret_matrix_ratio.loc[i,i+1]] '#Gives average value from (0,1),(1,2) etc.\n",
    "print('Average retention from one twoweek to another: '+str(np.mean(ret_tw)))"
   ]
  },
  {
   "cell_type": "code",
   "execution_count": 111,
   "metadata": {},
   "outputs": [],
   "source": [
    "data.to_csv('iplayer_data_c1.csv', index=False)"
   ]
  },
  {
   "cell_type": "code",
   "execution_count": null,
   "metadata": {},
   "outputs": [],
   "source": []
  }
 ],
 "metadata": {
  "kernelspec": {
   "display_name": "Python 3",
   "language": "python",
   "name": "python3"
  },
  "language_info": {
   "codemirror_mode": {
    "name": "ipython",
    "version": 3
   },
   "file_extension": ".py",
   "mimetype": "text/x-python",
   "name": "python",
   "nbconvert_exporter": "python",
   "pygments_lexer": "ipython3",
   "version": "3.5.2"
  }
 },
 "nbformat": 4,
 "nbformat_minor": 2
}
