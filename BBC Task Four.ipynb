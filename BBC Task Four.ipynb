{
 "cells": [
  {
   "cell_type": "code",
   "execution_count": 1,
   "metadata": {},
   "outputs": [],
   "source": [
    "import pandas as pd\n",
    "import numpy as np\n",
    "import itertools\n",
    "import matplotlib.pyplot as plt\n",
    "# Comment below if you want to display the warnings (quite verbose here in the modeling part)\n",
    "import warnings\n",
    "warnings.filterwarnings('ignore')"
   ]
  },
  {
   "cell_type": "code",
   "execution_count": 2,
   "metadata": {},
   "outputs": [],
   "source": [
    "# We put both target arrays (regression and classification) in the same txt file\n",
    "# As both target arrays have the same size we just need to split it it two\n",
    "# and get the correct part for the prediction task\n",
    "target = np.split(np.loadtxt('target.txt'), 2)[0].flatten()\n",
    "features = pd.read_csv('features.csv')\n",
    "\n",
    "# User id as index\n",
    "features = features.set_index('user_id')"
   ]
  },
  {
   "cell_type": "code",
   "execution_count": 3,
   "metadata": {},
   "outputs": [
    {
     "data": {
      "text/html": [
       "<div>\n",
       "<style scoped>\n",
       "    .dataframe tbody tr th:only-of-type {\n",
       "        vertical-align: middle;\n",
       "    }\n",
       "\n",
       "    .dataframe tbody tr th {\n",
       "        vertical-align: top;\n",
       "    }\n",
       "\n",
       "    .dataframe thead th {\n",
       "        text-align: right;\n",
       "    }\n",
       "</style>\n",
       "<table border=\"1\" class=\"dataframe\">\n",
       "  <thead>\n",
       "    <tr style=\"text-align: right;\">\n",
       "      <th></th>\n",
       "      <th>tw_lag7_watched</th>\n",
       "      <th>tw_lag6_watched</th>\n",
       "      <th>tw_lag5_watched</th>\n",
       "      <th>tw_lag4_watched</th>\n",
       "      <th>tw_lag3_watched</th>\n",
       "      <th>tw_lag2_watched</th>\n",
       "      <th>tw_lag1_watched</th>\n",
       "      <th>average_completion</th>\n",
       "      <th>total_sessions</th>\n",
       "      <th>num_genre</th>\n",
       "      <th>...</th>\n",
       "      <th>most_weekday_weekday_1</th>\n",
       "      <th>most_weekday_weekday_2</th>\n",
       "      <th>most_weekday_weekday_3</th>\n",
       "      <th>most_weekday_weekday_4</th>\n",
       "      <th>most_weekday_weekday_5</th>\n",
       "      <th>most_weekday_weekday_6</th>\n",
       "      <th>most_timeday_Afternoon</th>\n",
       "      <th>most_timeday_Evening</th>\n",
       "      <th>most_timeday_Morning</th>\n",
       "      <th>most_timeday_Night</th>\n",
       "    </tr>\n",
       "    <tr>\n",
       "      <th>user_id</th>\n",
       "      <th></th>\n",
       "      <th></th>\n",
       "      <th></th>\n",
       "      <th></th>\n",
       "      <th></th>\n",
       "      <th></th>\n",
       "      <th></th>\n",
       "      <th></th>\n",
       "      <th></th>\n",
       "      <th></th>\n",
       "      <th></th>\n",
       "      <th></th>\n",
       "      <th></th>\n",
       "      <th></th>\n",
       "      <th></th>\n",
       "      <th></th>\n",
       "      <th></th>\n",
       "      <th></th>\n",
       "      <th></th>\n",
       "      <th></th>\n",
       "      <th></th>\n",
       "    </tr>\n",
       "  </thead>\n",
       "  <tbody>\n",
       "    <tr>\n",
       "      <th>AADDJF</th>\n",
       "      <td>0.000000</td>\n",
       "      <td>115.841750</td>\n",
       "      <td>3.622533</td>\n",
       "      <td>0.000000</td>\n",
       "      <td>0.000000</td>\n",
       "      <td>0.000000</td>\n",
       "      <td>0.000000</td>\n",
       "      <td>0.534068</td>\n",
       "      <td>7</td>\n",
       "      <td>7</td>\n",
       "      <td>...</td>\n",
       "      <td>0</td>\n",
       "      <td>0</td>\n",
       "      <td>0</td>\n",
       "      <td>1</td>\n",
       "      <td>0</td>\n",
       "      <td>0</td>\n",
       "      <td>0</td>\n",
       "      <td>1</td>\n",
       "      <td>0</td>\n",
       "      <td>0</td>\n",
       "    </tr>\n",
       "    <tr>\n",
       "      <th>AADVCF</th>\n",
       "      <td>104.502533</td>\n",
       "      <td>68.422800</td>\n",
       "      <td>11.407633</td>\n",
       "      <td>44.933767</td>\n",
       "      <td>15.139300</td>\n",
       "      <td>0.146700</td>\n",
       "      <td>22.515167</td>\n",
       "      <td>0.207554</td>\n",
       "      <td>38</td>\n",
       "      <td>7</td>\n",
       "      <td>...</td>\n",
       "      <td>0</td>\n",
       "      <td>1</td>\n",
       "      <td>0</td>\n",
       "      <td>0</td>\n",
       "      <td>0</td>\n",
       "      <td>0</td>\n",
       "      <td>0</td>\n",
       "      <td>0</td>\n",
       "      <td>1</td>\n",
       "      <td>0</td>\n",
       "    </tr>\n",
       "    <tr>\n",
       "      <th>AADWBM</th>\n",
       "      <td>27.124283</td>\n",
       "      <td>59.183333</td>\n",
       "      <td>0.000000</td>\n",
       "      <td>0.000000</td>\n",
       "      <td>0.000000</td>\n",
       "      <td>0.000000</td>\n",
       "      <td>0.000000</td>\n",
       "      <td>0.453004</td>\n",
       "      <td>4</td>\n",
       "      <td>3</td>\n",
       "      <td>...</td>\n",
       "      <td>0</td>\n",
       "      <td>0</td>\n",
       "      <td>0</td>\n",
       "      <td>0</td>\n",
       "      <td>0</td>\n",
       "      <td>0</td>\n",
       "      <td>0</td>\n",
       "      <td>1</td>\n",
       "      <td>0</td>\n",
       "      <td>0</td>\n",
       "    </tr>\n",
       "    <tr>\n",
       "      <th>AAHITE</th>\n",
       "      <td>0.356717</td>\n",
       "      <td>167.613733</td>\n",
       "      <td>58.899383</td>\n",
       "      <td>10.311800</td>\n",
       "      <td>55.222833</td>\n",
       "      <td>59.831783</td>\n",
       "      <td>61.613833</td>\n",
       "      <td>0.567544</td>\n",
       "      <td>20</td>\n",
       "      <td>4</td>\n",
       "      <td>...</td>\n",
       "      <td>0</td>\n",
       "      <td>0</td>\n",
       "      <td>0</td>\n",
       "      <td>0</td>\n",
       "      <td>0</td>\n",
       "      <td>1</td>\n",
       "      <td>0</td>\n",
       "      <td>1</td>\n",
       "      <td>0</td>\n",
       "      <td>0</td>\n",
       "    </tr>\n",
       "    <tr>\n",
       "      <th>AAKIJG</th>\n",
       "      <td>28.299717</td>\n",
       "      <td>0.000000</td>\n",
       "      <td>0.000000</td>\n",
       "      <td>0.000000</td>\n",
       "      <td>0.000000</td>\n",
       "      <td>0.000000</td>\n",
       "      <td>0.000000</td>\n",
       "      <td>0.062762</td>\n",
       "      <td>15</td>\n",
       "      <td>2</td>\n",
       "      <td>...</td>\n",
       "      <td>0</td>\n",
       "      <td>0</td>\n",
       "      <td>0</td>\n",
       "      <td>0</td>\n",
       "      <td>0</td>\n",
       "      <td>0</td>\n",
       "      <td>0</td>\n",
       "      <td>0</td>\n",
       "      <td>0</td>\n",
       "      <td>1</td>\n",
       "    </tr>\n",
       "  </tbody>\n",
       "</table>\n",
       "<p>5 rows × 34 columns</p>\n",
       "</div>"
      ],
      "text/plain": [
       "         tw_lag7_watched  tw_lag6_watched  tw_lag5_watched  tw_lag4_watched  \\\n",
       "user_id                                                                       \n",
       "AADDJF          0.000000       115.841750         3.622533         0.000000   \n",
       "AADVCF        104.502533        68.422800        11.407633        44.933767   \n",
       "AADWBM         27.124283        59.183333         0.000000         0.000000   \n",
       "AAHITE          0.356717       167.613733        58.899383        10.311800   \n",
       "AAKIJG         28.299717         0.000000         0.000000         0.000000   \n",
       "\n",
       "         tw_lag3_watched  tw_lag2_watched  tw_lag1_watched  \\\n",
       "user_id                                                      \n",
       "AADDJF          0.000000         0.000000         0.000000   \n",
       "AADVCF         15.139300         0.146700        22.515167   \n",
       "AADWBM          0.000000         0.000000         0.000000   \n",
       "AAHITE         55.222833        59.831783        61.613833   \n",
       "AAKIJG          0.000000         0.000000         0.000000   \n",
       "\n",
       "         average_completion  total_sessions  num_genre         ...          \\\n",
       "user_id                                                        ...           \n",
       "AADDJF             0.534068               7          7         ...           \n",
       "AADVCF             0.207554              38          7         ...           \n",
       "AADWBM             0.453004               4          3         ...           \n",
       "AAHITE             0.567544              20          4         ...           \n",
       "AAKIJG             0.062762              15          2         ...           \n",
       "\n",
       "         most_weekday_weekday_1  most_weekday_weekday_2  \\\n",
       "user_id                                                   \n",
       "AADDJF                        0                       0   \n",
       "AADVCF                        0                       1   \n",
       "AADWBM                        0                       0   \n",
       "AAHITE                        0                       0   \n",
       "AAKIJG                        0                       0   \n",
       "\n",
       "         most_weekday_weekday_3  most_weekday_weekday_4  \\\n",
       "user_id                                                   \n",
       "AADDJF                        0                       1   \n",
       "AADVCF                        0                       0   \n",
       "AADWBM                        0                       0   \n",
       "AAHITE                        0                       0   \n",
       "AAKIJG                        0                       0   \n",
       "\n",
       "         most_weekday_weekday_5  most_weekday_weekday_6  \\\n",
       "user_id                                                   \n",
       "AADDJF                        0                       0   \n",
       "AADVCF                        0                       0   \n",
       "AADWBM                        0                       0   \n",
       "AAHITE                        0                       1   \n",
       "AAKIJG                        0                       0   \n",
       "\n",
       "         most_timeday_Afternoon  most_timeday_Evening  most_timeday_Morning  \\\n",
       "user_id                                                                       \n",
       "AADDJF                        0                     1                     0   \n",
       "AADVCF                        0                     0                     1   \n",
       "AADWBM                        0                     1                     0   \n",
       "AAHITE                        0                     1                     0   \n",
       "AAKIJG                        0                     0                     0   \n",
       "\n",
       "         most_timeday_Night  \n",
       "user_id                      \n",
       "AADDJF                    0  \n",
       "AADVCF                    0  \n",
       "AADWBM                    0  \n",
       "AAHITE                    0  \n",
       "AAKIJG                    1  \n",
       "\n",
       "[5 rows x 34 columns]"
      ]
     },
     "execution_count": 3,
     "metadata": {},
     "output_type": "execute_result"
    }
   ],
   "source": [
    "# Make sure we have the right input database\n",
    "features.head()"
   ]
  },
  {
   "cell_type": "code",
   "execution_count": 4,
   "metadata": {},
   "outputs": [
    {
     "data": {
      "text/plain": [
       "array([  0.        ,   0.        ,   0.        ,  68.79965   ,\n",
       "         0.        ,   0.        ,  47.33886667,   0.        ,\n",
       "         0.        ,   0.        ])"
      ]
     },
     "execution_count": 4,
     "metadata": {},
     "output_type": "execute_result"
    }
   ],
   "source": [
    "# Make sure we have the right output\n",
    "target[:10]"
   ]
  },
  {
   "cell_type": "code",
   "execution_count": 5,
   "metadata": {},
   "outputs": [],
   "source": [
    "# Create a baseline to compare our results to (mean and median minutes watched and 0)\n",
    "mean=np.mean(target)\n",
    "median=np.median(target)\n",
    "\n",
    "mean_forecast=[mean]*len(target)\n",
    "median_forecast=[median]*len(target)\n",
    "zero_forecast=[0]*len(target)"
   ]
  },
  {
   "cell_type": "code",
   "execution_count": 6,
   "metadata": {},
   "outputs": [
    {
     "name": "stdout",
     "output_type": "stream",
     "text": [
      "Mean: 76.0569649888\n",
      "Median: 0.0\n"
     ]
    }
   ],
   "source": [
    "print(\"Mean: \"+str(mean))\n",
    "print(\"Median: \"+str(median)) #Median is 0 because over half didnt consume anything."
   ]
  },
  {
   "cell_type": "code",
   "execution_count": 7,
   "metadata": {},
   "outputs": [
    {
     "name": "stdout",
     "output_type": "stream",
     "text": [
      "Score if we forecast the mean: -115.557859274\n",
      "Score if we forecast the median: -76.0569649888\n"
     ]
    }
   ],
   "source": [
    "# Compute the errors for these different baselines\n",
    "from sklearn import metrics\n",
    "print(\"Score if we forecast the mean:\",\n",
    "      -metrics.mean_absolute_error(target,mean_forecast))\n",
    "print(\"Score if we forecast the median:\",\n",
    "      -metrics.mean_absolute_error(target,median_forecast))"
   ]
  },
  {
   "cell_type": "code",
   "execution_count": 8,
   "metadata": {},
   "outputs": [],
   "source": [
    "# Let's build a simple regression\n",
    "from sklearn import linear_model\n",
    "\n",
    "# We will use cross validation, so import helper functions for this\n",
    "from sklearn.model_selection import cross_val_score, cross_val_predict\n",
    "\n",
    "# Plots\n",
    "from matplotlib import pyplot as plt "
   ]
  },
  {
   "cell_type": "code",
   "execution_count": 9,
   "metadata": {},
   "outputs": [],
   "source": [
    "# We setup a simple linear regression, again using cross validation\n",
    "reg=linear_model.LinearRegression() #Creating the model\n",
    "\n",
    "MR_oos=cross_val_score(reg, features, target, scoring='neg_mean_absolute_error')\n",
    "MR_r2 = cross_val_score(reg, features, target, scoring='r2')\n",
    "predicted=cross_val_predict(reg, features,target)"
   ]
  },
  {
   "cell_type": "code",
   "execution_count": 10,
   "metadata": {},
   "outputs": [
    {
     "name": "stdout",
     "output_type": "stream",
     "text": [
      "Score Of Our Model (Mean inverse out-of-sample error): -58.464009641\n",
      "Baseline Score 1: -115.557859274\n",
      "Baseline Score 2: -76.0569649888\n"
     ]
    }
   ],
   "source": [
    "# Compute the mean error obtained in the CV\n",
    "print(\"Score Of Our Model (Mean inverse out-of-sample error):\", np.mean(MR_oos))\n",
    "print(\"Baseline Score 1:\",\n",
    "      -metrics.mean_absolute_error(target,mean_forecast))\n",
    "print(\"Baseline Score 2:\",\n",
    "      -metrics.mean_absolute_error(target,median_forecast))"
   ]
  },
  {
   "cell_type": "code",
   "execution_count": 11,
   "metadata": {},
   "outputs": [
    {
     "name": "stdout",
     "output_type": "stream",
     "text": [
      "Pearson correlation coefficient: 0.7734118178507821\n",
      "P-value 0.0\n"
     ]
    },
    {
     "data": {
      "image/png": "[encoded data removed]",
      "text/plain": [
       "<matplotlib.figure.Figure at 0x131fae30>"
      ]
     },
     "metadata": {
      "needs_background": "light"
     },
     "output_type": "display_data"
    }
   ],
   "source": [
    "# First let's see how correlated the predicted and actual output variables are.\n",
    "from scipy.stats.stats import pearsonr\n",
    "MR_r, p  = pearsonr(target,predicted)\n",
    "print('Pearson correlation coefficient: {}'.format(MR_r) )\n",
    "print(\"P-value {}\".format(p)) #Represents significance of the test\n",
    "\n",
    "# Let's compare graphically the predicted and actual values\n",
    "fig, ax = plt.subplots()\n",
    "ax.scatter(target, predicted)\n",
    "ax.plot([target.min(), target.max()], [target.min(), target.max()], 'k--', lw=1)\n",
    "ax.set_xlabel('Observed')\n",
    "ax.set_ylabel('Predicted')\n",
    "plt.show()\n",
    "\n",
    "#Outlier top right - should be removed for accuracy."
   ]
  },
  {
   "cell_type": "code",
   "execution_count": 12,
   "metadata": {},
   "outputs": [],
   "source": [
    "# Let's train on all data \n",
    "lin_reg=linear_model.LinearRegression()\n",
    "MR=lin_reg.fit(features,target)"
   ]
  },
  {
   "cell_type": "code",
   "execution_count": 13,
   "metadata": {},
   "outputs": [
    {
     "name": "stdout",
     "output_type": "stream",
     "text": [
      "Inverse in-sample error: -56.84449578523835\n",
      "Mean inverse out-of-sample error: -58.464009641\n"
     ]
    }
   ],
   "source": [
    "# In-sample error\n",
    "from sklearn.metrics import mean_absolute_error\n",
    "MR_is = -metrics.mean_absolute_error(target,MR.predict(features))\n",
    "print(\"Inverse in-sample error: {}\".format(MR_is))\n",
    "print(\"Mean inverse out-of-sample error:\", np.mean(MR_oos))\n",
    "#In sample error will always be higher - because the training set was created from the sample. #Values are not too far apart\n",
    "#which shows it is a good model."
   ]
  },
  {
   "cell_type": "code",
   "execution_count": 14,
   "metadata": {},
   "outputs": [
    {
     "data": {
      "text/html": [
       "<div>\n",
       "<style scoped>\n",
       "    .dataframe tbody tr th:only-of-type {\n",
       "        vertical-align: middle;\n",
       "    }\n",
       "\n",
       "    .dataframe tbody tr th {\n",
       "        vertical-align: top;\n",
       "    }\n",
       "\n",
       "    .dataframe thead th {\n",
       "        text-align: right;\n",
       "    }\n",
       "</style>\n",
       "<table border=\"1\" class=\"dataframe\">\n",
       "  <thead>\n",
       "    <tr style=\"text-align: right;\">\n",
       "      <th></th>\n",
       "      <th>coefficient</th>\n",
       "      <th>feature</th>\n",
       "    </tr>\n",
       "  </thead>\n",
       "  <tbody>\n",
       "    <tr>\n",
       "      <th>0</th>\n",
       "      <td>5.995050</td>\n",
       "      <td>most_weekday_weekday_2</td>\n",
       "    </tr>\n",
       "    <tr>\n",
       "      <th>1</th>\n",
       "      <td>4.653732</td>\n",
       "      <td>most_genre_Sport</td>\n",
       "    </tr>\n",
       "    <tr>\n",
       "      <th>2</th>\n",
       "      <td>3.117719</td>\n",
       "      <td>most_genre_Drama</td>\n",
       "    </tr>\n",
       "    <tr>\n",
       "      <th>3</th>\n",
       "      <td>2.448939</td>\n",
       "      <td>most_weekday_weekday_6</td>\n",
       "    </tr>\n",
       "    <tr>\n",
       "      <th>4</th>\n",
       "      <td>2.123121</td>\n",
       "      <td>most_genre_News</td>\n",
       "    </tr>\n",
       "  </tbody>\n",
       "</table>\n",
       "</div>"
      ],
      "text/plain": [
       "   coefficient                 feature\n",
       "0     5.995050  most_weekday_weekday_2\n",
       "1     4.653732        most_genre_Sport\n",
       "2     3.117719        most_genre_Drama\n",
       "3     2.448939  most_weekday_weekday_6\n",
       "4     2.123121         most_genre_News"
      ]
     },
     "execution_count": 14,
     "metadata": {},
     "output_type": "execute_result"
    }
   ],
   "source": [
    "# First, let's have a look at the highest magnitude positive coefficients.\n",
    "coefMR=pd.DataFrame(\n",
    "    {'feature': list(features.columns),\n",
    "     'coefficient': list(MR.coef_)\n",
    "    })\n",
    "coefMR.sort_values(by='coefficient', ascending=False).reset_index(drop=True).head()"
   ]
  },
  {
   "cell_type": "code",
   "execution_count": 15,
   "metadata": {},
   "outputs": [
    {
     "data": {
      "text/html": [
       "<div>\n",
       "<style scoped>\n",
       "    .dataframe tbody tr th:only-of-type {\n",
       "        vertical-align: middle;\n",
       "    }\n",
       "\n",
       "    .dataframe tbody tr th {\n",
       "        vertical-align: top;\n",
       "    }\n",
       "\n",
       "    .dataframe thead th {\n",
       "        text-align: right;\n",
       "    }\n",
       "</style>\n",
       "<table border=\"1\" class=\"dataframe\">\n",
       "  <thead>\n",
       "    <tr style=\"text-align: right;\">\n",
       "      <th></th>\n",
       "      <th>coefficient</th>\n",
       "      <th>feature</th>\n",
       "    </tr>\n",
       "  </thead>\n",
       "  <tbody>\n",
       "    <tr>\n",
       "      <th>29</th>\n",
       "      <td>-6.352125</td>\n",
       "      <td>most_genre_Music</td>\n",
       "    </tr>\n",
       "    <tr>\n",
       "      <th>30</th>\n",
       "      <td>-6.981394</td>\n",
       "      <td>most_weekday_weekday_3</td>\n",
       "    </tr>\n",
       "    <tr>\n",
       "      <th>31</th>\n",
       "      <td>-9.302150</td>\n",
       "      <td>most_weekday_weekday_0</td>\n",
       "    </tr>\n",
       "    <tr>\n",
       "      <th>32</th>\n",
       "      <td>-10.996516</td>\n",
       "      <td>most_timeday_Night</td>\n",
       "    </tr>\n",
       "    <tr>\n",
       "      <th>33</th>\n",
       "      <td>-16.837280</td>\n",
       "      <td>most_genre_Children's</td>\n",
       "    </tr>\n",
       "  </tbody>\n",
       "</table>\n",
       "</div>"
      ],
      "text/plain": [
       "    coefficient                 feature\n",
       "29    -6.352125        most_genre_Music\n",
       "30    -6.981394  most_weekday_weekday_3\n",
       "31    -9.302150  most_weekday_weekday_0\n",
       "32   -10.996516      most_timeday_Night\n",
       "33   -16.837280   most_genre_Children's"
      ]
     },
     "execution_count": 15,
     "metadata": {},
     "output_type": "execute_result"
    }
   ],
   "source": [
    "# Now lets have a look at the highest magnitude negative coefficients.\n",
    "coefMR.sort_values(by='coefficient', ascending=False).reset_index(drop=True).tail()"
   ]
  },
  {
   "cell_type": "code",
   "execution_count": 16,
   "metadata": {},
   "outputs": [
    {
     "data": {
      "image/png": "[encoded data removed]",
      "text/plain": [
       "<matplotlib.figure.Figure at 0x1326a310>"
      ]
     },
     "metadata": {
      "needs_background": "light"
     },
     "output_type": "display_data"
    }
   ],
   "source": [
    "# Now let's plot them all\n",
    "coefMR = coefMR.set_index(['feature'])\n",
    "coefMR.sort_values(by='coefficient', ascending=False).plot(kind='bar')\n",
    "plt.show()"
   ]
  },
  {
   "cell_type": "code",
   "execution_count": 17,
   "metadata": {},
   "outputs": [],
   "source": [
    "#The above graph shows that those that watch most on weekday 2 - Wednesdays and those whos favourite genre is sport - are more\n",
    "#likely to watch more than the average user. We can derive from this data that there is a definite correlation between a \n",
    "#consumer and the quantity they watch. Could read further into it - and see that childrens shows are shorter than sports."
   ]
  },
  {
   "cell_type": "code",
   "execution_count": 19,
   "metadata": {},
   "outputs": [],
   "source": [
    "# Setup the model and develop a simple grid search against some key parameters\n",
    "RR_param_alpha=[0.001,0.01,0.1,1.0,10,100]"
   ]
  },
  {
   "cell_type": "code",
   "execution_count": 20,
   "metadata": {},
   "outputs": [
    {
     "name": "stdout",
     "output_type": "stream",
     "text": [
      "Best Settings: alpha: 100\n",
      "Inverse out-of-sample error: -58.0677630335\n"
     ]
    }
   ],
   "source": [
    "# Let's keep track of our best parameters\n",
    "RR_best_score=-200\n",
    "RR_best_param=0\n",
    "\n",
    "# we will setup a manual grid search, but you can also use the gridsearchCV capability in sklearn\n",
    "for i in RR_param_alpha:\n",
    "    reg_r = linear_model.Ridge(alpha = i)\n",
    "    scores=cross_val_score(reg_r,\n",
    "                           features,\n",
    "                           target,\n",
    "                           scoring='neg_mean_absolute_error')\n",
    "    \n",
    "    if np.mean(scores)>RR_best_score:\n",
    "        RR_best_score=np.mean(scores)\n",
    "        RR_best_param=i\n",
    "\n",
    "# print the overall best results\n",
    "print('Best Settings: alpha:',RR_best_param)\n",
    "print('Inverse out-of-sample error:',RR_best_score)\n",
    "#ridge regression model does slightly better than our previous multivariate linear regression model."
   ]
  },
  {
   "cell_type": "code",
   "execution_count": 21,
   "metadata": {},
   "outputs": [
    {
     "name": "stdout",
     "output_type": "stream",
     "text": [
      "Pearson correlation coefficient: 0.7734240976182667\n",
      "P-value 0.0\n"
     ]
    },
    {
     "data": {
      "image/png": "[encoded data removed]",
      "text/plain": [
       "<matplotlib.figure.Figure at 0x132f02b0>"
      ]
     },
     "metadata": {
      "needs_background": "light"
     },
     "output_type": "display_data"
    }
   ],
   "source": [
    "# First let's see how correlated the predicted and actual output variables are.\n",
    "reg_r=linear_model.Ridge(alpha=RR_best_param)\n",
    "predicted=cross_val_predict(reg_r,features,target)\n",
    "RR_r, p  = pearsonr(target,predicted)\n",
    "print('Pearson correlation coefficient: {}'.format(RR_r) )\n",
    "print(\"P-value {}\".format(p))\n",
    "\n",
    "# Let's compare graphically the predicted and actual values\n",
    "fig, ax = plt.subplots()\n",
    "ax.scatter(target, predicted)\n",
    "ax.plot([target.min(), target.max()], [target.min(), target.max()], 'k--', lw=1)\n",
    "ax.set_xlabel('Measured')\n",
    "ax.set_ylabel('Predicted')\n",
    "plt.show()\n",
    "#Graph looks very similar to previous reghrssion model. This means there are no more insights to be made."
   ]
  },
  {
   "cell_type": "code",
   "execution_count": 22,
   "metadata": {},
   "outputs": [],
   "source": [
    "# Let's keep our best model (hyperparameters tuned)\n",
    "ridge=linear_model.Ridge(alpha=RR_best_param)\n",
    "RR=ridge.fit(features,target)"
   ]
  },
  {
   "cell_type": "code",
   "execution_count": 23,
   "metadata": {},
   "outputs": [
    {
     "name": "stdout",
     "output_type": "stream",
     "text": [
      "Inverse in-sample error: -56.579876508149525\n"
     ]
    }
   ],
   "source": [
    "# In-sample error\n",
    "RR_is=-metrics.mean_absolute_error(target,RR.predict(features))\n",
    "print(\"Inverse in-sample error: {}\".format(RR_is))"
   ]
  },
  {
   "cell_type": "code",
   "execution_count": 24,
   "metadata": {},
   "outputs": [],
   "source": [
    "# Let's have a look at the estimated coefficients\n",
    "coefRR=pd.DataFrame(\n",
    "    {'feature': list(features.columns),\n",
    "     'coefficient': list(RR.coef_)\n",
    "    })\n",
    "# Make the index the feature label.\n",
    "coefRR = coefRR.set_index(['feature'])"
   ]
  },
  {
   "cell_type": "code",
   "execution_count": 25,
   "metadata": {},
   "outputs": [
    {
     "data": {
      "text/html": [
       "<div>\n",
       "<style scoped>\n",
       "    .dataframe tbody tr th:only-of-type {\n",
       "        vertical-align: middle;\n",
       "    }\n",
       "\n",
       "    .dataframe tbody tr th {\n",
       "        vertical-align: top;\n",
       "    }\n",
       "\n",
       "    .dataframe thead th {\n",
       "        text-align: right;\n",
       "    }\n",
       "</style>\n",
       "<table border=\"1\" class=\"dataframe\">\n",
       "  <thead>\n",
       "    <tr style=\"text-align: right;\">\n",
       "      <th></th>\n",
       "      <th>coefficient</th>\n",
       "    </tr>\n",
       "    <tr>\n",
       "      <th>feature</th>\n",
       "      <th></th>\n",
       "    </tr>\n",
       "  </thead>\n",
       "  <tbody>\n",
       "    <tr>\n",
       "      <th>most_weekday_weekday_2</th>\n",
       "      <td>7.247986</td>\n",
       "    </tr>\n",
       "    <tr>\n",
       "      <th>most_genre_Sport</th>\n",
       "      <td>4.780119</td>\n",
       "    </tr>\n",
       "    <tr>\n",
       "      <th>most_timeday_Morning</th>\n",
       "      <td>4.470938</td>\n",
       "    </tr>\n",
       "    <tr>\n",
       "      <th>most_weekday_weekday_6</th>\n",
       "      <td>4.172299</td>\n",
       "    </tr>\n",
       "    <tr>\n",
       "      <th>most_timeday_Afternoon</th>\n",
       "      <td>3.756461</td>\n",
       "    </tr>\n",
       "  </tbody>\n",
       "</table>\n",
       "</div>"
      ],
      "text/plain": [
       "                        coefficient\n",
       "feature                            \n",
       "most_weekday_weekday_2     7.247986\n",
       "most_genre_Sport           4.780119\n",
       "most_timeday_Morning       4.470938\n",
       "most_weekday_weekday_6     4.172299\n",
       "most_timeday_Afternoon     3.756461"
      ]
     },
     "execution_count": 25,
     "metadata": {},
     "output_type": "execute_result"
    }
   ],
   "source": [
    "# First, let's have a look at the highest magnitude positive coefficients. These are the factors that are responsive to a change\n",
    "# in minutes watched\n",
    "coefRR.sort_values(by='coefficient', ascending=False).head()"
   ]
  },
  {
   "cell_type": "code",
   "execution_count": 26,
   "metadata": {},
   "outputs": [
    {
     "data": {
      "text/html": [
       "<div>\n",
       "<style scoped>\n",
       "    .dataframe tbody tr th:only-of-type {\n",
       "        vertical-align: middle;\n",
       "    }\n",
       "\n",
       "    .dataframe tbody tr th {\n",
       "        vertical-align: top;\n",
       "    }\n",
       "\n",
       "    .dataframe thead th {\n",
       "        text-align: right;\n",
       "    }\n",
       "</style>\n",
       "<table border=\"1\" class=\"dataframe\">\n",
       "  <thead>\n",
       "    <tr style=\"text-align: right;\">\n",
       "      <th></th>\n",
       "      <th>coefficient</th>\n",
       "    </tr>\n",
       "    <tr>\n",
       "      <th>feature</th>\n",
       "      <th></th>\n",
       "    </tr>\n",
       "  </thead>\n",
       "  <tbody>\n",
       "    <tr>\n",
       "      <th>most_timeday_Evening</th>\n",
       "      <td>-2.905749</td>\n",
       "    </tr>\n",
       "    <tr>\n",
       "      <th>most_weekday_weekday_3</th>\n",
       "      <td>-4.673711</td>\n",
       "    </tr>\n",
       "    <tr>\n",
       "      <th>most_weekday_weekday_0</th>\n",
       "      <td>-6.872753</td>\n",
       "    </tr>\n",
       "    <tr>\n",
       "      <th>most_timeday_Night</th>\n",
       "      <td>-7.009671</td>\n",
       "    </tr>\n",
       "    <tr>\n",
       "      <th>most_genre_Children's</th>\n",
       "      <td>-12.328231</td>\n",
       "    </tr>\n",
       "  </tbody>\n",
       "</table>\n",
       "</div>"
      ],
      "text/plain": [
       "                        coefficient\n",
       "feature                            \n",
       "most_timeday_Evening      -2.905749\n",
       "most_weekday_weekday_3    -4.673711\n",
       "most_weekday_weekday_0    -6.872753\n",
       "most_timeday_Night        -7.009671\n",
       "most_genre_Children's    -12.328231"
      ]
     },
     "execution_count": 26,
     "metadata": {},
     "output_type": "execute_result"
    }
   ],
   "source": [
    "# Then, let's have a look at the highest magnitude negative coefficients.\n",
    "coefRR.sort_values(by='coefficient', ascending=False).tail()"
   ]
  },
  {
   "cell_type": "code",
   "execution_count": 27,
   "metadata": {},
   "outputs": [
    {
     "data": {
      "image/png": "[encoded data removed]",
      "text/plain": [
       "<matplotlib.figure.Figure at 0x132fde50>"
      ]
     },
     "metadata": {
      "needs_background": "light"
     },
     "output_type": "display_data"
    }
   ],
   "source": [
    "# Now let's plot them all\n",
    "coefRR.sort_values(by='coefficient', ascending=False).plot(kind='bar')\n",
    "plt.show()"
   ]
  },
  {
   "cell_type": "code",
   "execution_count": 28,
   "metadata": {},
   "outputs": [],
   "source": [
    "#Lasso Regression\n",
    "# Setup the model and develop a simple grid search against some key parameters\n",
    "LR_param_alpha=[0.001,0.01,0.1,1.0,10,100]"
   ]
  },
  {
   "cell_type": "code",
   "execution_count": 29,
   "metadata": {},
   "outputs": [
    {
     "name": "stdout",
     "output_type": "stream",
     "text": [
      "Best Settings: alpha: 0.1\n",
      "Score: -57.1455918421\n"
     ]
    }
   ],
   "source": [
    "# Let's keep track of our best parameters\n",
    "LR_best_score=-200\n",
    "LR_best_param=0\n",
    "\n",
    "# we will setup a manual grid search, but you can also use the gridsearchCV capability in sklearn\n",
    "for i in LR_param_alpha:\n",
    "    reg_l = linear_model.LassoLars(alpha = i)\n",
    "    scores=cross_val_score(reg_l,\n",
    "                           features,\n",
    "                           target,\n",
    "                           scoring='neg_mean_absolute_error')\n",
    "    if np.mean(scores)>LR_best_score:\n",
    "        LR_best_score=np.mean(scores)\n",
    "        LR_best_param=i\n",
    "\n",
    "# print the overall best results\n",
    "print('Best Settings: alpha:',LR_best_param)\n",
    "print('Score:',LR_best_score)"
   ]
  },
  {
   "cell_type": "code",
   "execution_count": 30,
   "metadata": {},
   "outputs": [
    {
     "name": "stdout",
     "output_type": "stream",
     "text": [
      "Pearson correlation coefficient: 0.7704023594369519\n",
      "P-value 0.0\n"
     ]
    },
    {
     "data": {
      "image/png": "[encoded data removed]",
      "text/plain": [
       "<matplotlib.figure.Figure at 0x132c2310>"
      ]
     },
     "metadata": {
      "needs_background": "light"
     },
     "output_type": "display_data"
    }
   ],
   "source": [
    "# First let's see how correlated the predicted and actual output variables are.\n",
    "reg_l=linear_model.LassoLars(alpha=LR_best_param)\n",
    "predicted=cross_val_predict(reg_l,features,target)\n",
    "LR_r, p  = pearsonr(target,predicted)\n",
    "print('Pearson correlation coefficient: {}'.format(LR_r) )\n",
    "print(\"P-value {}\".format(p))\n",
    "\n",
    "# Let's compare graphically the predicted and actual values\n",
    "fig, ax = plt.subplots()\n",
    "ax.scatter(target,predicted)\n",
    "ax.plot([target.min(), target.max()], [target.min(), target.max()], 'k--', lw=1)\n",
    "ax.set_xlabel('Measured')\n",
    "ax.set_ylabel('Predicted')\n",
    "plt.show()\n",
    "#Graph looks similar to the rest so we gather any more insights."
   ]
  },
  {
   "cell_type": "code",
   "execution_count": 31,
   "metadata": {},
   "outputs": [],
   "source": [
    "# Let's keep our best model (hyperparameters tuned)\n",
    "lasso=linear_model.LassoLars(alpha=LR_best_param)\n",
    "LR=lasso.fit(features,target)"
   ]
  },
  {
   "cell_type": "code",
   "execution_count": 32,
   "metadata": {},
   "outputs": [
    {
     "name": "stdout",
     "output_type": "stream",
     "text": [
      "-56.0332719739\n"
     ]
    }
   ],
   "source": [
    "# In-sample error\n",
    "LR_is=-metrics.mean_absolute_error(target,LR.predict(features))\n",
    "print(LR_is)"
   ]
  },
  {
   "cell_type": "code",
   "execution_count": 33,
   "metadata": {},
   "outputs": [],
   "source": [
    "# Let's have a look at the estimated coefficients\n",
    "coefLR=pd.DataFrame(\n",
    "    {'feature': list(features.columns),\n",
    "     'coefficient': list(LR.coef_)\n",
    "    })\n",
    "# Make the index the feature label.\n",
    "coefLR=coefLR.set_index(['feature'])"
   ]
  },
  {
   "cell_type": "code",
   "execution_count": 34,
   "metadata": {},
   "outputs": [
    {
     "data": {
      "text/html": [
       "<div>\n",
       "<style scoped>\n",
       "    .dataframe tbody tr th:only-of-type {\n",
       "        vertical-align: middle;\n",
       "    }\n",
       "\n",
       "    .dataframe tbody tr th {\n",
       "        vertical-align: top;\n",
       "    }\n",
       "\n",
       "    .dataframe thead th {\n",
       "        text-align: right;\n",
       "    }\n",
       "</style>\n",
       "<table border=\"1\" class=\"dataframe\">\n",
       "  <thead>\n",
       "    <tr style=\"text-align: right;\">\n",
       "      <th></th>\n",
       "      <th>coefficient</th>\n",
       "    </tr>\n",
       "    <tr>\n",
       "      <th>feature</th>\n",
       "      <th></th>\n",
       "    </tr>\n",
       "  </thead>\n",
       "  <tbody>\n",
       "    <tr>\n",
       "      <th>tw_lag1_watched</th>\n",
       "      <td>0.332405</td>\n",
       "    </tr>\n",
       "    <tr>\n",
       "      <th>total_sessions</th>\n",
       "      <td>0.300867</td>\n",
       "    </tr>\n",
       "    <tr>\n",
       "      <th>tw_lag2_watched</th>\n",
       "      <td>0.168514</td>\n",
       "    </tr>\n",
       "    <tr>\n",
       "      <th>tw_lag5_watched</th>\n",
       "      <td>0.113995</td>\n",
       "    </tr>\n",
       "    <tr>\n",
       "      <th>tw_lag4_watched</th>\n",
       "      <td>0.066622</td>\n",
       "    </tr>\n",
       "  </tbody>\n",
       "</table>\n",
       "</div>"
      ],
      "text/plain": [
       "                 coefficient\n",
       "feature                     \n",
       "tw_lag1_watched     0.332405\n",
       "total_sessions      0.300867\n",
       "tw_lag2_watched     0.168514\n",
       "tw_lag5_watched     0.113995\n",
       "tw_lag4_watched     0.066622"
      ]
     },
     "execution_count": 34,
     "metadata": {},
     "output_type": "execute_result"
    }
   ],
   "source": [
    "# First, let's have a look at the highest magnitude positive coefficients.\n",
    "coefLR.sort_values(by='coefficient', ascending=False).head()"
   ]
  },
  {
   "cell_type": "code",
   "execution_count": 36,
   "metadata": {},
   "outputs": [
    {
     "data": {
      "text/html": [
       "<div>\n",
       "<style scoped>\n",
       "    .dataframe tbody tr th:only-of-type {\n",
       "        vertical-align: middle;\n",
       "    }\n",
       "\n",
       "    .dataframe tbody tr th {\n",
       "        vertical-align: top;\n",
       "    }\n",
       "\n",
       "    .dataframe thead th {\n",
       "        text-align: right;\n",
       "    }\n",
       "</style>\n",
       "<table border=\"1\" class=\"dataframe\">\n",
       "  <thead>\n",
       "    <tr style=\"text-align: right;\">\n",
       "      <th></th>\n",
       "      <th>coefficient</th>\n",
       "    </tr>\n",
       "    <tr>\n",
       "      <th>feature</th>\n",
       "      <th></th>\n",
       "    </tr>\n",
       "  </thead>\n",
       "  <tbody>\n",
       "    <tr>\n",
       "      <th>num_timeday</th>\n",
       "      <td>0.0</td>\n",
       "    </tr>\n",
       "    <tr>\n",
       "      <th>num_weekday</th>\n",
       "      <td>0.0</td>\n",
       "    </tr>\n",
       "    <tr>\n",
       "      <th>num_genre</th>\n",
       "      <td>0.0</td>\n",
       "    </tr>\n",
       "    <tr>\n",
       "      <th>average_completion</th>\n",
       "      <td>0.0</td>\n",
       "    </tr>\n",
       "    <tr>\n",
       "      <th>most_timeday_Night</th>\n",
       "      <td>0.0</td>\n",
       "    </tr>\n",
       "  </tbody>\n",
       "</table>\n",
       "</div>"
      ],
      "text/plain": [
       "                    coefficient\n",
       "feature                        \n",
       "num_timeday                 0.0\n",
       "num_weekday                 0.0\n",
       "num_genre                   0.0\n",
       "average_completion          0.0\n",
       "most_timeday_Night          0.0"
      ]
     },
     "execution_count": 36,
     "metadata": {},
     "output_type": "execute_result"
    }
   ],
   "source": [
    "# First, let's have a look at the highest magnitude positive coefficients.\n",
    "coefLR.sort_values(by='coefficient', ascending=False).tail()"
   ]
  },
  {
   "cell_type": "code",
   "execution_count": 37,
   "metadata": {},
   "outputs": [
    {
     "data": {
      "image/png": "[encoded data removed]",
      "text/plain": [
       "<matplotlib.figure.Figure at 0x13230c90>"
      ]
     },
     "metadata": {
      "needs_background": "light"
     },
     "output_type": "display_data"
    }
   ],
   "source": [
    "# Now let's plot them all\n",
    "coefLR.sort_values(by='coefficient', ascending=False).plot(kind='bar')\n",
    "plt.show()"
   ]
  },
  {
   "cell_type": "code",
   "execution_count": 38,
   "metadata": {},
   "outputs": [],
   "source": [
    "#So, as expected we see a drastically different distribution of coefficients to our previous two models, with only seven of the\n",
    "#original thirty-four coefficients included different from zero.\n"
   ]
  },
  {
   "cell_type": "code",
   "execution_count": 40,
   "metadata": {},
   "outputs": [
    {
     "data": {
      "image/png": "[encoded data removed]",
      "text/plain": [
       "<matplotlib.figure.Figure at 0xcca950>"
      ]
     },
     "metadata": {
      "needs_background": "light"
     },
     "output_type": "display_data"
    }
   ],
   "source": [
    "# We will negate the accuracy here as it's easier to read \n",
    "# and then plot the errors: the best model is the one than MINIMIZES these values\n",
    "scores = pd.DataFrame({'Baseline (median)':[metrics.mean_absolute_error(target,median_forecast),\n",
    "                                            metrics.mean_absolute_error(target,median_forecast)],\n",
    "                       'Linear Regression':[-np.mean(MR_oos), -MR_is], \n",
    "                       'Ridge Regression':[-RR_best_score, -RR_is],\n",
    "                       'Lasso Regression':[-LR_best_score, -LR_is]},\n",
    "                      index=['Out-of-Sample','In-sample'])\n",
    "\n",
    "scores.plot(kind='bar')\n",
    "plt.legend(loc='center left', bbox_to_anchor=(1.0, 0.5))\n",
    "plt.show()"
   ]
  },
  {
   "cell_type": "code",
   "execution_count": 41,
   "metadata": {},
   "outputs": [],
   "source": [
    "#On the basis of these results, it is likely that each of the three models would not perform significantly better than each \n",
    "#other on new data but if we follow Occam's razor, the lasso model makes the fewest assumptions, is the least complex, and is \n",
    "#therefore most likely to generalise to new data."
   ]
  },
  {
   "cell_type": "code",
   "execution_count": 42,
   "metadata": {},
   "outputs": [
    {
     "data": {
      "text/plain": [
       "array([ 0.,  0.,  0.,  1.,  0.,  0.,  1.,  0.,  0.,  0.])"
      ]
     },
     "execution_count": 42,
     "metadata": {},
     "output_type": "execute_result"
    }
   ],
   "source": [
    "#Retraining our classifier\n",
    "# We put both target arrays (regression and classification) in the same txt file\n",
    "# As both target arrays have the same size we just need to split it it two\n",
    "# and get the correct part for the prediction task\n",
    "target_class = np.split(np.loadtxt('target.txt'), 2)[1].flatten()\n",
    "target_class[:10]"
   ]
  },
  {
   "cell_type": "code",
   "execution_count": 43,
   "metadata": {},
   "outputs": [
    {
     "name": "stdout",
     "output_type": "stream",
     "text": [
      "In-sample accuracy RF: 0.799648699089\n"
     ]
    }
   ],
   "source": [
    "# Classifier with the hyperparameters tuned from last course\n",
    "#Random forrest\n",
    "from sklearn.ensemble import RandomForestClassifier\n",
    "forrestclass=RandomForestClassifier(n_estimators=200,\n",
    "                                    max_depth=6,\n",
    "                                    min_samples_leaf=75)\n",
    "RF=forrestclass.fit(features,target_class)\n",
    "print(\"In-sample accuracy RF: \"+str(RF.score(features,target_class)))"
   ]
  },
  {
   "cell_type": "code",
   "execution_count": 44,
   "metadata": {},
   "outputs": [
    {
     "name": "stdout",
     "output_type": "stream",
     "text": [
      "Confusion matrix, without normalization\n",
      "[[4841  574]\n",
      " [1251 2443]]\n",
      "Normalized confusion matrix\n",
      "[[ 0.89  0.11]\n",
      " [ 0.34  0.66]]\n"
     ]
    },
    {
     "data": {
      "image/png": "[encoded data removed]",
      "text/plain": [
       "<matplotlib.figure.Figure at 0x5078970>"
      ]
     },
     "metadata": {
      "needs_background": "light"
     },
     "output_type": "display_data"
    },
    {
     "data": {
      "image/png": "[encoded data removed]",
      "text/plain": [
       "<matplotlib.figure.Figure at 0xcd2f70>"
      ]
     },
     "metadata": {
      "needs_background": "light"
     },
     "output_type": "display_data"
    }
   ],
   "source": [
    "# Let's have a look at the confusion matrix of our classifier\n",
    "from sklearn.metrics import confusion_matrix\n",
    "class_names=[0,1]\n",
    "\n",
    "# We found this code here:\n",
    "# http://scikit-learn.org/stable/auto_examples/model_selection/plot_confusion_matrix.html#sphx-glr-auto-examples-model-selection-plot-confusion-matrix-py\n",
    "def plot_confusion_matrix(cm, classes,\n",
    "                          normalize=False,\n",
    "                          title='Confusion matrix',\n",
    "                          cmap=plt.cm.Blues):\n",
    "    \"\"\"\n",
    "    This function prints and plots the confusion matrix.\n",
    "    Normalization can be applied by setting `normalize=True`.\n",
    "    \"\"\"\n",
    "    if normalize:\n",
    "        cm = cm.astype('float') / cm.sum(axis=1)[:, np.newaxis]\n",
    "        print('Normalized confusion matrix')\n",
    "    else:\n",
    "        print('Confusion matrix, without normalization')\n",
    "\n",
    "    print(cm)\n",
    "\n",
    "    plt.imshow(cm, interpolation='nearest', cmap=cmap)\n",
    "    plt.title(title)\n",
    "    plt.colorbar()\n",
    "    tick_marks = np.arange(len(classes))\n",
    "    plt.xticks(tick_marks, classes, rotation=45)\n",
    "    plt.yticks(tick_marks, classes)\n",
    "\n",
    "    fmt = '.2f' if normalize else 'd'\n",
    "    thresh = cm.max() / 2.\n",
    "    for i, j in itertools.product(range(cm.shape[0]), range(cm.shape[1])):\n",
    "        plt.text(j, i, format(cm[i, j], fmt),\n",
    "                 horizontalalignment=\"center\",\n",
    "                 color=\"white\" if cm[i, j] > thresh else \"black\")\n",
    "\n",
    "    plt.tight_layout()\n",
    "    plt.ylabel('True label')\n",
    "    plt.xlabel('Predicted label')\n",
    "\n",
    "# Compute confusion matrix\n",
    "cnf_matrix=confusion_matrix(target_class, RF.predict(features))\n",
    "np.set_printoptions(precision=2)\n",
    "\n",
    "# Plot non-normalized confusion matrix\n",
    "plt.figure()\n",
    "plot_confusion_matrix(cnf_matrix, classes=class_names,\n",
    "                      title='Confusion matrix, without normalization')\n",
    "\n",
    "\n",
    "# Plot normalized confusion matrix\n",
    "plt.figure()\n",
    "plot_confusion_matrix(cnf_matrix, classes=class_names, normalize=True,\n",
    "                      title='Normalized confusion matrix')\n",
    "\n",
    "plt.show()\n",
    "\n",
    "#Normalised means convert to something simpler - ie. make 4841 + 574 = 1x and solve using proportions\n",
    "#Confusion matrix helps visualise performamnce of an alogrithm "
   ]
  },
  {
   "cell_type": "code",
   "execution_count": 45,
   "metadata": {},
   "outputs": [
    {
     "name": "stdout",
     "output_type": "stream",
     "text": [
      "Among the 3694 users who consumed content, the classifier identified 2443. \n",
      "Recall: 0.661342717921\n"
     ]
    }
   ],
   "source": [
    "# Recall: how many relevant items (class 1) are selected?\n",
    "# Or in other words, what is the proportion of class 1 our model managed to get?\n",
    "nb_class1=cnf_matrix[1][0]+cnf_matrix[1][1]\n",
    "nb_class1_pred_true=cnf_matrix[1][1]\n",
    "print('Among the '+str(nb_class1)+\n",
    "      ' users who consumed content, the classifier identified '+str(nb_class1_pred_true)+\n",
    "      '. \\nRecall: '+str(nb_class1_pred_true/nb_class1))"
   ]
  },
  {
   "cell_type": "code",
   "execution_count": 46,
   "metadata": {},
   "outputs": [
    {
     "name": "stdout",
     "output_type": "stream",
     "text": [
      "Among the 3017 users our model forecasted to consume content, 2443 did. \n",
      "Precision: 0.809744779582\n"
     ]
    }
   ],
   "source": [
    "# Precision: how many selected items (predicted as class 1) are relevant?\n",
    "# Or in other words, what is the proportion of true class 1 in our class 1 predictions?\n",
    "nb_class1_pred_false=cnf_matrix[0][1]\n",
    "print('Among the '+str(nb_class1_pred_false+nb_class1_pred_true)+\n",
    "      ' users our model forecasted to consume content, '+str(nb_class1_pred_true)+\n",
    "      ' did. \\nPrecision: '+\n",
    "      str(nb_class1_pred_true/(nb_class1_pred_true+nb_class1_pred_false)))"
   ]
  },
  {
   "cell_type": "code",
   "execution_count": 47,
   "metadata": {},
   "outputs": [
    {
     "data": {
      "text/plain": [
       "array([   0.  ,   30.83,    0.  ,   49.19,    0.  ,    0.  ,  413.1 ,\n",
       "        105.94,    0.  ,   42.13])"
      ]
     },
     "execution_count": 47,
     "metadata": {},
     "output_type": "execute_result"
    }
   ],
   "source": [
    "# Let's compute our overall score by multiplying the two outputs\n",
    "# Note that we can easily do that are we already controlled for the order in our users\n",
    "overall_score=RF.predict(features)*LR.predict(features)\n",
    "overall_score[:10]\n",
    "#This takes the classifier prediction - and if it is 0 then we will assume the user has not watched anything. Else- the classifier\n",
    "#will have predicted 1 - so we take the regressions prediction."
   ]
  },
  {
   "cell_type": "code",
   "execution_count": 48,
   "metadata": {},
   "outputs": [
    {
     "name": "stdout",
     "output_type": "stream",
     "text": [
      "-49.9972331026\n"
     ]
    }
   ],
   "source": [
    "# Let's now have a look at the in-sample error\n",
    "comb_is=-metrics.mean_absolute_error(target,overall_score)\n",
    "print(comb_is)\n",
    "#This is the best score and has helped improve the performance of the regression model."
   ]
  },
  {
   "cell_type": "code",
   "execution_count": null,
   "metadata": {},
   "outputs": [],
   "source": []
  }
 ],
 "metadata": {
  "kernelspec": {
   "display_name": "Python 3",
   "language": "python",
   "name": "python3"
  },
  "language_info": {
   "codemirror_mode": {
    "name": "ipython",
    "version": 3
   },
   "file_extension": ".py",
   "mimetype": "text/x-python",
   "name": "python",
   "nbconvert_exporter": "python",
   "pygments_lexer": "ipython3",
   "version": "3.5.2"
  }
 },
 "nbformat": 4,
 "nbformat_minor": 2
}
